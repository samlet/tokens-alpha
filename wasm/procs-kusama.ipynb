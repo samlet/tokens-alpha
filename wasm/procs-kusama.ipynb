{
 "cells": [
  {
   "cell_type": "code",
   "execution_count": 2,
   "metadata": {
    "ExecuteTime": {
     "end_time": "2020-08-21T19:52:48.866139Z",
     "start_time": "2020-08-21T19:52:48.860367Z"
    }
   },
   "outputs": [],
   "source": [
    "import nest_asyncio\n",
    "nest_asyncio.apply()"
   ]
  },
  {
   "cell_type": "code",
   "execution_count": 3,
   "metadata": {
    "ExecuteTime": {
     "end_time": "2020-08-21T19:52:57.950833Z",
     "start_time": "2020-08-21T19:52:50.696611Z"
    }
   },
   "outputs": [
    {
     "name": "stdout",
     "output_type": "stream",
     "text": [
      "\n",
      "Module: timestamp\n",
      "Call: set\n",
      "Signed by: None\n",
      "Param 'now': 2020-01-19T10:57:30\n",
      "\n",
      "Module: finalitytracker\n",
      "Call: final_hint\n",
      "Signed by: None\n",
      "Param 'hint': 691740\n",
      "\n",
      "Module: parachains\n",
      "Call: set_heads\n",
      "Signed by: None\n",
      "Param 'heads': []\n",
      "\n",
      "Module: balances\n",
      "Call: transfer\n",
      "Signed by: EEWyMLHgwtemr48spFNnS3U2XjaYswqAYAbadx2jr9ppp4X\n",
      "Param 'dest': GoArsby48e72JkuKqyHZafp5BQwwbYkvWn5RfbGDZzTAW6m\n",
      "Param 'value': 45.33442 DOT\n"
     ]
    }
   ],
   "source": [
    "from substrateinterface import SubstrateInterface, Keypair, SubstrateRequestException\n",
    "from substrateinterface.utils.ss58 import ss58_encode\n",
    "\n",
    "substrate = SubstrateInterface(\n",
    "    url=\"wss://kusama-rpc.polkadot.io/\",\n",
    "    address_type=2,\n",
    "    type_registry_preset='kusama'\n",
    ")\n",
    "\n",
    "# Set block_hash to None for chaintip\n",
    "block_hash = \"0x588930468212316d8a75ede0bec0bc949451c164e2cea07ccfc425f497b077b7\"\n",
    "\n",
    "\n",
    "# Retrieve extrinsics in block\n",
    "result = substrate.get_runtime_block(block_hash=block_hash)\n",
    "\n",
    "for extrinsic in result['block']['extrinsics']:\n",
    "\n",
    "    if 'account_id' in extrinsic:\n",
    "        signed_by_address = ss58_encode(address=extrinsic['account_id'], address_type=2)\n",
    "    else:\n",
    "        signed_by_address = None\n",
    "\n",
    "    print('\\nModule: {}\\nCall: {}\\nSigned by: {}'.format(\n",
    "        extrinsic['call_module'],\n",
    "        extrinsic['call_function'],\n",
    "        signed_by_address\n",
    "    ))\n",
    "\n",
    "    for param in extrinsic['params']:\n",
    "\n",
    "        if param['type'] == 'Address':\n",
    "            param['value'] = ss58_encode(address=param['value'], address_type=2)\n",
    "\n",
    "        if param['type'] == 'Compact<Balance>':\n",
    "            param['value'] = '{} DOT'.format(param['value'] / 10**12)\n",
    "\n",
    "        print(\"Param '{}': {}\".format(param['name'], param['value']))"
   ]
  },
  {
   "cell_type": "code",
   "execution_count": 4,
   "metadata": {
    "ExecuteTime": {
     "end_time": "2020-08-21T19:53:24.498486Z",
     "start_time": "2020-08-21T19:53:15.578452Z"
    }
   },
   "outputs": [
    {
     "name": "stdout",
     "output_type": "stream",
     "text": [
      "\n",
      "\n",
      "Current Account info: {'nonce': 8068, 'refcount': 0, 'data': {'free': 1098546763255, 'reserved': 0, 'miscFrozen': 0, 'feeFrozen': 0}} DOT\n"
     ]
    }
   ],
   "source": [
    "# Storage call examples\n",
    "print(\"\\n\\nCurrent Account info: {} DOT\".format(\n",
    "    substrate.get_runtime_state(\n",
    "        module='System',\n",
    "        storage_function='Account',\n",
    "        params=['EaG2CRhJWPb7qmdcJvy3LiWdh26Jreu9Dx6R1rXxPmYXoDk']\n",
    "    ).get('result')\n",
    "))"
   ]
  },
  {
   "cell_type": "code",
   "execution_count": 5,
   "metadata": {
    "ExecuteTime": {
     "end_time": "2020-08-21T19:53:49.366103Z",
     "start_time": "2020-08-21T19:53:45.212100Z"
    }
   },
   "outputs": [
    {
     "name": "stdout",
     "output_type": "stream",
     "text": [
      "Balance @ 0x588930468212316d8a75ede0bec0bc949451c164e2cea07ccfc425f497b077b7: 195824548771126 DOT\n"
     ]
    }
   ],
   "source": [
    "print(\"Balance @ {}: {} DOT\".format(\n",
    "    block_hash,\n",
    "    substrate.get_runtime_state(\n",
    "        module='Balances',\n",
    "        storage_function='FreeBalance',\n",
    "        params=['EaG2CRhJWPb7qmdcJvy3LiWdh26Jreu9Dx6R1rXxPmYXoDk'],\n",
    "        block_hash=block_hash\n",
    "    ).get('result')\n",
    "))"
   ]
  },
  {
   "cell_type": "code",
   "execution_count": 6,
   "metadata": {
    "ExecuteTime": {
     "end_time": "2020-08-21T19:54:17.462338Z",
     "start_time": "2020-08-21T19:54:07.784648Z"
    }
   },
   "outputs": [
    {
     "name": "stdout",
     "output_type": "stream",
     "text": [
      "Created address: CmzKav4MEWz3CzrVsmHZPD1nvs6A2eQwnQo5xKDmQiq62DG\n",
      "Failed to send: {'code': 1010, 'message': 'Invalid Transaction', 'data': 'Inability to pay some fees (e.g. account balance too low)'}\n"
     ]
    }
   ],
   "source": [
    "# Create, sign and submit extrinsic example\n",
    "\n",
    "mnemonic = Keypair.generate_mnemonic()\n",
    "\n",
    "keypair = Keypair.create_from_mnemonic(mnemonic, 2)\n",
    "\n",
    "print(\"Created address: {}\".format(keypair.ss58_address))\n",
    "\n",
    "call = substrate.compose_call(\n",
    "    call_module='Balances',\n",
    "    call_function='transfer',\n",
    "    call_params={\n",
    "        'dest': 'EaG2CRhJWPb7qmdcJvy3LiWdh26Jreu9Dx6R1rXxPmYXoDk',\n",
    "        'value': 2 * 10**3\n",
    "    }\n",
    ")\n",
    "\n",
    "extrinsic = substrate.create_signed_extrinsic(call=call, keypair=keypair)\n",
    "\n",
    "try:\n",
    "    # result = substrate.send_extrinsic(extrinsic)\n",
    "    result = substrate.submit_extrinsic(extrinsic, wait_for_inclusion=True)\n",
    "\n",
    "    print('Extrinsic \"{}\" included in block \"{}\"'.format(\n",
    "        result['extrinsic_hash'], result.get('block_hash')\n",
    "    ))\n",
    "\n",
    "except SubstrateRequestException as e:\n",
    "    print(\"Failed to send: {}\".format(e))"
   ]
  }
 ],
 "metadata": {
  "kernelspec": {
   "display_name": "Python 3",
   "language": "python",
   "name": "python3"
  },
  "language_info": {
   "codemirror_mode": {
    "name": "ipython",
    "version": 3
   },
   "file_extension": ".py",
   "mimetype": "text/x-python",
   "name": "python",
   "nbconvert_exporter": "python",
   "pygments_lexer": "ipython3",
   "version": "3.7.7"
  },
  "varInspector": {
   "cols": {
    "lenName": 16,
    "lenType": 16,
    "lenVar": 40
   },
   "kernels_config": {
    "python": {
     "delete_cmd_postfix": "",
     "delete_cmd_prefix": "del ",
     "library": "var_list.py",
     "varRefreshCmd": "print(var_dic_list())"
    },
    "r": {
     "delete_cmd_postfix": ") ",
     "delete_cmd_prefix": "rm(",
     "library": "var_list.r",
     "varRefreshCmd": "cat(var_dic_list()) "
    }
   },
   "types_to_exclude": [
    "module",
    "function",
    "builtin_function_or_method",
    "instance",
    "_Feature"
   ],
   "window_display": false
  }
 },
 "nbformat": 4,
 "nbformat_minor": 4
}
