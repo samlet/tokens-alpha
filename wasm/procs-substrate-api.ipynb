{
 "cells": [
  {
   "cell_type": "code",
   "execution_count": 3,
   "metadata": {
    "ExecuteTime": {
     "end_time": "2020-08-21T19:50:00.414193Z",
     "start_time": "2020-08-21T19:50:00.408233Z"
    }
   },
   "outputs": [],
   "source": [
    "import nest_asyncio\n",
    "nest_asyncio.apply()"
   ]
  },
  {
   "cell_type": "code",
   "execution_count": 1,
   "metadata": {
    "ExecuteTime": {
     "end_time": "2020-08-21T19:47:39.441923Z",
     "start_time": "2020-08-21T19:47:39.165864Z"
    }
   },
   "outputs": [],
   "source": [
    "from substrateinterface import SubstrateInterface, SubstrateRequestException, Keypair\n",
    "\n",
    "# substrate = SubstrateInterface(\n",
    "#     url=\"ws://127.0.0.1:9944\",\n",
    "#     address_type=42,\n",
    "#     type_registry_preset='kusama'\n",
    "# )\n",
    "substrate = SubstrateInterface(\n",
    "    url=\"ws://127.0.0.1:9944\"\n",
    ")"
   ]
  },
  {
   "cell_type": "code",
   "execution_count": 4,
   "metadata": {
    "ExecuteTime": {
     "end_time": "2020-08-21T19:50:03.009327Z",
     "start_time": "2020-08-21T19:50:02.653356Z"
    }
   },
   "outputs": [
    {
     "name": "stdout",
     "output_type": "stream",
     "text": [
      "Failed to send: {'code': 1010, 'message': 'Invalid Transaction', 'data': 'Inability to pay some fees (e.g. account balance too low)'}\n"
     ]
    }
   ],
   "source": [
    "keypair = Keypair.create_from_mnemonic('episode together nose spoon dose oil faculty zoo ankle evoke admit walnut')\n",
    "\n",
    "call = substrate.compose_call(\n",
    "    call_module='Balances',\n",
    "    call_function='transfer',\n",
    "    call_params={\n",
    "        'dest': '5E9oDs9PjpsBbxXxRE9uMaZZhnBAV38n2ouLB28oecBDdeQo',\n",
    "        'value': 1 * 10**12\n",
    "    }\n",
    ")\n",
    "\n",
    "extrinsic = substrate.create_signed_extrinsic(call=call, keypair=keypair)\n",
    "\n",
    "try:\n",
    "    result = substrate.submit_extrinsic(extrinsic, wait_for_inclusion=True)\n",
    "    print(\"Extrinsic '{}' sent and included in block '{}'\".format(result['extrinsic_hash'], result['block_hash']))\n",
    "\n",
    "except SubstrateRequestException as e:\n",
    "    print(\"Failed to send: {}\".format(e))"
   ]
  },
  {
   "cell_type": "code",
   "execution_count": null,
   "metadata": {},
   "outputs": [],
   "source": []
  }
 ],
 "metadata": {
  "kernelspec": {
   "display_name": "Python 3",
   "language": "python",
   "name": "python3"
  },
  "language_info": {
   "codemirror_mode": {
    "name": "ipython",
    "version": 3
   },
   "file_extension": ".py",
   "mimetype": "text/x-python",
   "name": "python",
   "nbconvert_exporter": "python",
   "pygments_lexer": "ipython3",
   "version": "3.7.7"
  },
  "varInspector": {
   "cols": {
    "lenName": 16,
    "lenType": 16,
    "lenVar": 40
   },
   "kernels_config": {
    "python": {
     "delete_cmd_postfix": "",
     "delete_cmd_prefix": "del ",
     "library": "var_list.py",
     "varRefreshCmd": "print(var_dic_list())"
    },
    "r": {
     "delete_cmd_postfix": ") ",
     "delete_cmd_prefix": "rm(",
     "library": "var_list.r",
     "varRefreshCmd": "cat(var_dic_list()) "
    }
   },
   "types_to_exclude": [
    "module",
    "function",
    "builtin_function_or_method",
    "instance",
    "_Feature"
   ],
   "window_display": false
  }
 },
 "nbformat": 4,
 "nbformat_minor": 4
}
