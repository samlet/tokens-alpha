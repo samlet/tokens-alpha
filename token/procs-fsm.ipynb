{
 "cells": [
  {
   "cell_type": "code",
   "execution_count": 1,
   "metadata": {
    "ExecuteTime": {
     "end_time": "2020-08-01T00:36:23.401256Z",
     "start_time": "2020-08-01T00:36:19.163680Z"
    }
   },
   "outputs": [
    {
     "name": "stdout",
     "output_type": "stream",
     "text": [
      "Compiling contracts...\n",
      "  Solc version: 0.6.12+commit.27d51765.Darwin.appleclang\n",
      "  Optimizer: Enabled  Runs: 200\n",
      "  EVM Version: Istanbul\n",
      "Generating build data...\n",
      " - StateMachine...\n",
      "\n",
      "Attached to local RPC client listening at '127.0.0.1:8545'...\n"
     ]
    },
    {
     "name": "stderr",
     "output_type": "stream",
     "text": [
      "/Users/xiaofeiwu/miniconda3/envs/bigdata/lib/python3.7/site-packages/brownie/network/main.py:45: BrownieEnvironmentWarning: Development network has a block height of 46\n",
      "  BrownieEnvironmentWarning,\n"
     ]
    },
    {
     "data": {
      "text/plain": [
       "{'MappingExample': [],\n",
       " 'Set': [],\n",
       " 'Token': [],\n",
       " 'SafeMath': [],\n",
       " 'GameItems': [],\n",
       " 'TestAdd': [],\n",
       " 'AccessRestriction': [],\n",
       " 'ConvertLib': [],\n",
       " 'TestSet': [],\n",
       " 'WithdrawalContract': [],\n",
       " 'MappingUser': [],\n",
       " 'StateMachine': []}"
      ]
     },
     "execution_count": 1,
     "metadata": {},
     "output_type": "execute_result"
    }
   ],
   "source": [
    "from brownie import *\n",
    "p = project.load('.', name=\"TokenProject\")\n",
    "p.load_config()\n",
    "from brownie.project.TokenProject import *\n",
    "network.connect('development')\n",
    "\n",
    "dict(p)"
   ]
  },
  {
   "cell_type": "code",
   "execution_count": 2,
   "metadata": {
    "ExecuteTime": {
     "end_time": "2020-08-01T00:36:23.645218Z",
     "start_time": "2020-08-01T00:36:23.444612Z"
    }
   },
   "outputs": [
    {
     "name": "stdout",
     "output_type": "stream",
     "text": [
      "Transaction sent: \u001b[0;1;34m0xd6e1f7ef9cc545052c1419c8dc3633557f2c2d1fb62da16e51e93487858d6812\u001b[0;m\n",
      "  Gas price: \u001b[0;1;34m0.0\u001b[0;m gwei   Gas limit: \u001b[0;1;34m12000000\u001b[0;m\n",
      "  WithdrawalContract.constructor confirmed - Block: \u001b[0;1;34m47\u001b[0;m   Gas used: \u001b[0;1;34m168107\u001b[0;m (\u001b[0;1;34m1.40%\u001b[0;m)\n",
      "  WithdrawalContract deployed at: \u001b[0;1;34m0x0e19E87b363DD7a3af5c45C95ab6885367251B94\u001b[0;m\n",
      "\n"
     ]
    },
    {
     "data": {
      "text/plain": [
       "0"
      ]
     },
     "execution_count": 2,
     "metadata": {},
     "output_type": "execute_result"
    }
   ],
   "source": [
    "f=WithdrawalContract.deploy({'from': accounts[0]})\n",
    "f.mostSent()"
   ]
  },
  {
   "cell_type": "code",
   "execution_count": 3,
   "metadata": {
    "ExecuteTime": {
     "end_time": "2020-08-01T00:36:23.691747Z",
     "start_time": "2020-08-01T00:36:23.651417Z"
    }
   },
   "outputs": [
    {
     "data": {
      "text/plain": [
       "False"
      ]
     },
     "execution_count": 3,
     "metadata": {},
     "output_type": "execute_result"
    }
   ],
   "source": [
    "f.becomeRichest.call()"
   ]
  },
  {
   "cell_type": "code",
   "execution_count": 4,
   "metadata": {
    "ExecuteTime": {
     "end_time": "2020-08-01T00:36:23.911695Z",
     "start_time": "2020-08-01T00:36:23.698464Z"
    }
   },
   "outputs": [
    {
     "name": "stdout",
     "output_type": "stream",
     "text": [
      "Transaction sent: \u001b[0;1;34m0xc3d3cb86e83c5fa1febc59011201189fe57bf7d1f98f5154e61dd8397118180b\u001b[0;m\n",
      "  Gas price: \u001b[0;1;34m0.0\u001b[0;m gwei   Gas limit: \u001b[0;1;34m12000000\u001b[0;m\n",
      "  StateMachine.constructor confirmed - Block: \u001b[0;1;34m48\u001b[0;m   Gas used: \u001b[0;1;34m330622\u001b[0;m (\u001b[0;1;34m2.76%\u001b[0;m)\n",
      "  StateMachine deployed at: \u001b[0;1;34m0xaA7e46855e0506401214c9b1C35f3d889669609e\u001b[0;m\n",
      "\n"
     ]
    },
    {
     "data": {
      "text/plain": [
       "()"
      ]
     },
     "execution_count": 4,
     "metadata": {},
     "output_type": "execute_result"
    }
   ],
   "source": [
    "f=StateMachine.deploy({'from': accounts[0]})\n",
    "f.bid.call()"
   ]
  },
  {
   "cell_type": "code",
   "execution_count": 10,
   "metadata": {
    "ExecuteTime": {
     "end_time": "2020-08-01T00:40:56.273357Z",
     "start_time": "2020-08-01T00:40:56.157379Z"
    }
   },
   "outputs": [
    {
     "name": "stdout",
     "output_type": "stream",
     "text": [
      "Transaction sent: \u001b[0;1;34m0x1b35b6c6dc2c71a7659361c633dfc328cce8ef0da6c6d87ec73d88182cbf6fd5\u001b[0;m\n",
      "  Gas price: \u001b[0;1;34m0.0\u001b[0;m gwei   Gas limit: \u001b[0;1;34m12000000\u001b[0;m\n",
      "  StateMachine.g confirmed (\u001b[0;1;31mFunction cannot be called at this time.\u001b[0;m) - Block: \u001b[0;1;34m50\u001b[0;m   Gas used: \u001b[0;1;34m24826\u001b[0;m (\u001b[0;1;34m0.21%\u001b[0;m)\n",
      "\n",
      "revert: Function cannot be called at this time.\n",
      "\u001b[0;2;37mTrace step \u001b[0;1;34m-1\u001b[0;2;37m, program counter \u001b[0;1;34m785\u001b[0;2;37m:\n",
      "  \u001b[0;2;37mFile \u001b[0;1;35m\"contracts/StateMachine.sol\"\u001b[0;2;37m, lines \u001b[0;1;34m19\u001b[0;2;37m-\u001b[0;1;34m23\u001b[0;2;37m, in \u001b[0;1;36mStateMachine.h\u001b[0;2;37m:    \u001b[0;2;37m\n",
      "\n",
      "\u001b[0;2;37m       modifier atStage(Stages _stage) {\n",
      "\u001b[0;2;37m           require(\n",
      "\u001b[0;2;37m        \u001b[0;m       stage == _stage,\n",
      "\u001b[0;2;37m               \"Function cannot be called at this time.\"\n",
      "\u001b[0;m           );\n",
      "\u001b[0;m           _;\n",
      "\u001b[0;m    \u001b[0;2;37m   }\n",
      "\n",
      "\u001b[0;m       function nextStage() internal {\n",
      "\u001b[0;2;37m           stage = Stages(uint(stage) + 1);\u001b[0;m\n"
     ]
    }
   ],
   "source": [
    "try:\n",
    "    tx=f.g()\n",
    "except Exception as e:\n",
    "    print(e)"
   ]
  },
  {
   "cell_type": "code",
   "execution_count": 11,
   "metadata": {
    "ExecuteTime": {
     "end_time": "2020-08-01T00:41:43.216774Z",
     "start_time": "2020-08-01T00:41:43.162914Z"
    }
   },
   "outputs": [
    {
     "name": "stdout",
     "output_type": "stream",
     "text": [
      "Call trace for '\u001b[0;1;34m0x1b35b6c6dc2c71a7659361c633dfc328cce8ef0da6c6d87ec73d88182cbf6fd5\u001b[0;m':\n",
      "Initial call cost  [\u001b[0;1;33m21064 gas\u001b[0;m]\n",
      "\u001b[0;2;37m\u001b[0;2;37m\u001b[0;m\u001b[0;2;37m\u001b[0;1;31mStateMachine.g  \u001b[0;2;37m0:155\u001b[0;m  \u001b[0;2;37m[\u001b[0;1;33m3759 gas\u001b[0;2;37m]\n"
     ]
    }
   ],
   "source": [
    "# tx.revert_msg\n",
    "history[-1].call_trace(True)"
   ]
  },
  {
   "cell_type": "code",
   "execution_count": 12,
   "metadata": {
    "ExecuteTime": {
     "end_time": "2020-08-01T00:42:34.982995Z",
     "start_time": "2020-08-01T00:42:34.972410Z"
    }
   },
   "outputs": [
    {
     "data": {
      "text/plain": [
       "[]"
      ]
     },
     "execution_count": 12,
     "metadata": {},
     "output_type": "execute_result"
    }
   ],
   "source": [
    "history[-1].subcalls"
   ]
  }
 ],
 "metadata": {
  "kernelspec": {
   "display_name": "Python 3",
   "language": "python",
   "name": "python3"
  },
  "language_info": {
   "codemirror_mode": {
    "name": "ipython",
    "version": 3
   },
   "file_extension": ".py",
   "mimetype": "text/x-python",
   "name": "python",
   "nbconvert_exporter": "python",
   "pygments_lexer": "ipython3",
   "version": "3.7.7"
  },
  "varInspector": {
   "cols": {
    "lenName": 16,
    "lenType": 16,
    "lenVar": 40
   },
   "kernels_config": {
    "python": {
     "delete_cmd_postfix": "",
     "delete_cmd_prefix": "del ",
     "library": "var_list.py",
     "varRefreshCmd": "print(var_dic_list())"
    },
    "r": {
     "delete_cmd_postfix": ") ",
     "delete_cmd_prefix": "rm(",
     "library": "var_list.r",
     "varRefreshCmd": "cat(var_dic_list()) "
    }
   },
   "types_to_exclude": [
    "module",
    "function",
    "builtin_function_or_method",
    "instance",
    "_Feature"
   ],
   "window_display": false
  }
 },
 "nbformat": 4,
 "nbformat_minor": 4
}
