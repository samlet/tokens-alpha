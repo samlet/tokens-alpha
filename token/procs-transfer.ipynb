{
 "cells": [
  {
   "cell_type": "code",
   "execution_count": 1,
   "metadata": {
    "ExecuteTime": {
     "end_time": "2020-08-08T13:53:59.667697Z",
     "start_time": "2020-08-08T13:53:58.086164Z"
    }
   },
   "outputs": [
    {
     "name": "stdout",
     "output_type": "stream",
     "text": [
      "Attached to local RPC client listening at '127.0.0.1:8545'...\n"
     ]
    },
    {
     "name": "stderr",
     "output_type": "stream",
     "text": [
      "/Users/xiaofeiwu/miniconda3/envs/bigdata/lib/python3.7/site-packages/brownie/network/main.py:45: BrownieEnvironmentWarning: Development network has a block height of 29\n",
      "  BrownieEnvironmentWarning,\n"
     ]
    },
    {
     "data": {
      "text/plain": [
       "{'ERC20DecimalsMock': [],\n",
       " 'MappingExample': [],\n",
       " 'MappingTest': [],\n",
       " 'MyToken': [],\n",
       " 'Set': [],\n",
       " 'Token': [],\n",
       " 'SimpleAuction': [],\n",
       " 'SafeMath': [],\n",
       " 'GameItems': [],\n",
       " 'ERC20Mock': [],\n",
       " 'GLDToken': [],\n",
       " 'TestAdd': [],\n",
       " 'SimpleStore': [],\n",
       " 'AccessRestriction': [],\n",
       " 'AccessControlMock': [],\n",
       " 'StateMachine': [],\n",
       " 'ERC20CappedMock': [],\n",
       " 'Ballot': [],\n",
       " 'ConvertLib': [],\n",
       " 'Bids': [],\n",
       " 'ERC20BurnableMock': [],\n",
       " 'ERC20PausableMock': [],\n",
       " 'Adoption': [],\n",
       " 'C': [],\n",
       " 'TestSet': [],\n",
       " 'Storage': [],\n",
       " 'Coin': [],\n",
       " 'ERC20SnapshotMock': [],\n",
       " 'WithdrawalContract': []}"
      ]
     },
     "execution_count": 1,
     "metadata": {},
     "output_type": "execute_result"
    }
   ],
   "source": [
    "from brownie import *\n",
    "p = project.load('../token', name=\"token\")\n",
    "p.load_config()\n",
    "from brownie.project.token import *\n",
    "network.connect('development')\n",
    "\n",
    "dict(p)"
   ]
  },
  {
   "cell_type": "code",
   "execution_count": 2,
   "metadata": {
    "ExecuteTime": {
     "end_time": "2020-08-08T13:53:59.707204Z",
     "start_time": "2020-08-08T13:53:59.673137Z"
    }
   },
   "outputs": [
    {
     "data": {
      "text/plain": [
       "99748143920000000000"
      ]
     },
     "execution_count": 2,
     "metadata": {},
     "output_type": "execute_result"
    }
   ],
   "source": [
    "accounts[0].balance()"
   ]
  },
  {
   "cell_type": "code",
   "execution_count": 3,
   "metadata": {
    "ExecuteTime": {
     "end_time": "2020-08-08T13:53:59.728699Z",
     "start_time": "2020-08-08T13:53:59.711572Z"
    }
   },
   "outputs": [
    {
     "data": {
      "text/plain": [
       "0"
      ]
     },
     "execution_count": 3,
     "metadata": {},
     "output_type": "execute_result"
    }
   ],
   "source": [
    "net_acc='0x30Fb11C39C4Ac604203b2ea322A3416df937097C'\n",
    "web3.eth.getBalance(net_acc)"
   ]
  },
  {
   "cell_type": "code",
   "execution_count": 5,
   "metadata": {
    "ExecuteTime": {
     "end_time": "2020-08-08T13:54:33.765018Z",
     "start_time": "2020-08-08T13:54:33.639771Z"
    }
   },
   "outputs": [
    {
     "name": "stdout",
     "output_type": "stream",
     "text": [
      "Transaction sent: \u001b[0;1;34m0xe37f8d92835bfab63e842ca7e304bb8cf066e7a5025d8b607336c7efc61fe0d2\u001b[0;m\n",
      "  Gas price: \u001b[0;1;34m0.0\u001b[0;m gwei   Gas limit: \u001b[0;1;34m6721975\u001b[0;m\n",
      "  Transaction confirmed - Block: \u001b[0;1;34m31\u001b[0;m   Gas used: \u001b[0;1;34m21000\u001b[0;m (\u001b[0;1;34m0.31%\u001b[0;m)\n",
      "\n"
     ]
    },
    {
     "data": {
      "text/plain": [
       "<Transaction '\u001b[0;m0xe37f8d92835bfab63e842ca7e304bb8cf066e7a5025d8b607336c7efc61fe0d2\u001b[0;m'>"
      ]
     },
     "execution_count": 5,
     "metadata": {},
     "output_type": "execute_result"
    }
   ],
   "source": [
    "net_acc='0x3C8EC3325cecF2493fe0eb419ef61CE013428342'\n",
    "accounts[0].transfer(net_acc, \"10 ether\")"
   ]
  },
  {
   "cell_type": "code",
   "execution_count": 6,
   "metadata": {
    "ExecuteTime": {
     "end_time": "2020-08-08T13:54:50.095410Z",
     "start_time": "2020-08-08T13:54:50.068543Z"
    }
   },
   "outputs": [
    {
     "data": {
      "text/plain": [
       "89748143920000000000"
      ]
     },
     "execution_count": 6,
     "metadata": {},
     "output_type": "execute_result"
    }
   ],
   "source": [
    "accounts[0].balance()"
   ]
  }
 ],
 "metadata": {
  "kernelspec": {
   "display_name": "Python 3",
   "language": "python",
   "name": "python3"
  },
  "language_info": {
   "codemirror_mode": {
    "name": "ipython",
    "version": 3
   },
   "file_extension": ".py",
   "mimetype": "text/x-python",
   "name": "python",
   "nbconvert_exporter": "python",
   "pygments_lexer": "ipython3",
   "version": "3.7.7"
  },
  "varInspector": {
   "cols": {
    "lenName": 16,
    "lenType": 16,
    "lenVar": 40
   },
   "kernels_config": {
    "python": {
     "delete_cmd_postfix": "",
     "delete_cmd_prefix": "del ",
     "library": "var_list.py",
     "varRefreshCmd": "print(var_dic_list())"
    },
    "r": {
     "delete_cmd_postfix": ") ",
     "delete_cmd_prefix": "rm(",
     "library": "var_list.r",
     "varRefreshCmd": "cat(var_dic_list()) "
    }
   },
   "types_to_exclude": [
    "module",
    "function",
    "builtin_function_or_method",
    "instance",
    "_Feature"
   ],
   "window_display": false
  }
 },
 "nbformat": 4,
 "nbformat_minor": 4
}
