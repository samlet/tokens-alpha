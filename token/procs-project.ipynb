{
 "cells": [
  {
   "cell_type": "code",
   "execution_count": 1,
   "metadata": {
    "ExecuteTime": {
     "end_time": "2020-07-31T23:07:28.497833Z",
     "start_time": "2020-07-31T23:07:27.008964Z"
    }
   },
   "outputs": [
    {
     "name": "stdout",
     "output_type": "stream",
     "text": [
      "Attached to local RPC client listening at '127.0.0.1:8545'...\n"
     ]
    }
   ],
   "source": [
    "from brownie import *\n",
    "p = project.load('.', name=\"TokenProject\")\n",
    "p.load_config()\n",
    "from brownie.project.TokenProject import *\n",
    "network.connect('development')"
   ]
  },
  {
   "cell_type": "code",
   "execution_count": 2,
   "metadata": {
    "ExecuteTime": {
     "end_time": "2020-07-31T23:07:32.373966Z",
     "start_time": "2020-07-31T23:07:32.355577Z"
    }
   },
   "outputs": [
    {
     "data": {
      "text/plain": [
       "{'Token': [], 'SafeMath': [], 'GameItems': []}"
      ]
     },
     "execution_count": 2,
     "metadata": {},
     "output_type": "execute_result"
    }
   ],
   "source": [
    "dict(p)"
   ]
  },
  {
   "cell_type": "code",
   "execution_count": 5,
   "metadata": {
    "ExecuteTime": {
     "end_time": "2020-07-31T23:08:01.030697Z",
     "start_time": "2020-07-31T23:08:01.013452Z"
    }
   },
   "outputs": [
    {
     "data": {
      "text/plain": [
       "(12, [])"
      ]
     },
     "execution_count": 5,
     "metadata": {},
     "output_type": "execute_result"
    }
   ],
   "source": [
    "len(accounts), Token"
   ]
  },
  {
   "cell_type": "code",
   "execution_count": 6,
   "metadata": {
    "ExecuteTime": {
     "end_time": "2020-07-31T23:08:32.524607Z",
     "start_time": "2020-07-31T23:08:32.055744Z"
    }
   },
   "outputs": [
    {
     "name": "stdout",
     "output_type": "stream",
     "text": [
      "Transaction sent: \u001b[0;1;34m0x843d54905053cd6c2138798922c5a4e898dbd8ed894c10277dbd47d0532bb9f5\u001b[0;m\n",
      "  Gas price: \u001b[0;1;34m0.0\u001b[0;m gwei   Gas limit: \u001b[0;1;34m12000000\u001b[0;m\n",
      "  GameItems.constructor confirmed - Block: \u001b[0;1;34m1\u001b[0;m   Gas used: \u001b[0;1;34m1617707\u001b[0;m (\u001b[0;1;34m13.48%\u001b[0;m)\n",
      "  GameItems deployed at: \u001b[0;1;34m0x3194cBDC3dbcd3E11a07892e7bA5c3394048Cc87\u001b[0;m\n",
      "\n",
      "invoke: 1000000000\n"
     ]
    }
   ],
   "source": [
    "f= GameItems.deploy({'from': accounts[0]})\n",
    "print('invoke:',\n",
    "      f.balanceOf(accounts[0], 3),\n",
    "      )"
   ]
  },
  {
   "cell_type": "code",
   "execution_count": 16,
   "metadata": {
    "ExecuteTime": {
     "end_time": "2020-07-29T09:56:18.848120Z",
     "start_time": "2020-07-29T09:56:18.828849Z"
    }
   },
   "outputs": [
    {
     "name": "stdout",
     "output_type": "stream",
     "text": [
      "Token\n",
      "SafeMath\n"
     ]
    }
   ],
   "source": [
    "build=p._build\n",
    "for name, data in build.items():\n",
    "    print(name)"
   ]
  },
  {
   "cell_type": "code",
   "execution_count": 9,
   "metadata": {
    "ExecuteTime": {
     "end_time": "2020-07-29T09:51:56.581516Z",
     "start_time": "2020-07-29T09:51:56.562377Z"
    }
   },
   "outputs": [
    {
     "data": {
      "text/plain": [
       "<module 'brownie.project.build' from '/Users/xiaofeiwu/miniconda3/envs/bigdata/lib/python3.7/site-packages/brownie/project/build.py'>"
      ]
     },
     "execution_count": 9,
     "metadata": {},
     "output_type": "execute_result"
    }
   ],
   "source": [
    "# from brownie.project import build\n",
    "# for name, data in build.items():\n",
    "#     print(name)"
   ]
  },
  {
   "cell_type": "code",
   "execution_count": 12,
   "metadata": {
    "ExecuteTime": {
     "end_time": "2020-07-29T09:55:25.125061Z",
     "start_time": "2020-07-29T09:55:25.111238Z"
    }
   },
   "outputs": [
    {
     "data": {
      "text/plain": [
       "<brownie.project.sources.Sources at 0x7fa7cd65fb10>"
      ]
     },
     "execution_count": 12,
     "metadata": {},
     "output_type": "execute_result"
    }
   ],
   "source": [
    "sources=p._sources\n",
    "sources"
   ]
  },
  {
   "cell_type": "code",
   "execution_count": 14,
   "metadata": {
    "ExecuteTime": {
     "end_time": "2020-07-29T09:55:43.314573Z",
     "start_time": "2020-07-29T09:55:43.306103Z"
    }
   },
   "outputs": [
    {
     "name": "stdout",
     "output_type": "stream",
     "text": [
      "pragma solidity ^0.6.0;\n",
      "\n",
      "library SafeMath {\n",
      "\n",
      "    function add(uint a, uint b) internal pure returns (uint c) {\n",
      "        c = a + b;\n",
      "        require(c >= a);\n",
      "        return c;\n",
      "    }\n",
      "\n",
      "    function sub(uint a, uint b) internal pure returns (uint c) {\n",
      "        require(b <= a);\n",
      "        c = a - b;\n",
      "        return c;\n",
      "    }\n",
      "\n",
      "    function mul(uint a, uint b) internal pure returns (uint c) {\n",
      "        c = a * b;\n",
      "        require(a == 0 || c / a == b);\n",
      "        return c;\n",
      "    }\n",
      "\n",
      "    function div(uint a, uint b) internal pure returns (uint c) {\n",
      "        require(b > 0);\n",
      "        c = a / b;\n",
      "        return c;\n",
      "    }\n",
      "\n",
      "}\n",
      "\n"
     ]
    }
   ],
   "source": [
    "src=sources.get('SafeMath')\n",
    "print(src)"
   ]
  },
  {
   "cell_type": "code",
   "execution_count": 17,
   "metadata": {
    "ExecuteTime": {
     "end_time": "2020-07-29T09:56:51.983650Z",
     "start_time": "2020-07-29T09:56:51.975269Z"
    }
   },
   "outputs": [
    {
     "data": {
      "text/plain": [
       "['contracts/SafeMath.sol', 'contracts/Token.sol']"
      ]
     },
     "execution_count": 17,
     "metadata": {},
     "output_type": "execute_result"
    }
   ],
   "source": [
    "sources.get_path_list()"
   ]
  },
  {
   "cell_type": "code",
   "execution_count": 18,
   "metadata": {
    "ExecuteTime": {
     "end_time": "2020-07-29T09:57:05.955193Z",
     "start_time": "2020-07-29T09:57:05.944248Z"
    }
   },
   "outputs": [
    {
     "data": {
      "text/plain": [
       "['SafeMath', 'Token']"
      ]
     },
     "execution_count": 18,
     "metadata": {},
     "output_type": "execute_result"
    }
   ],
   "source": [
    "sources.get_contract_list()"
   ]
  },
  {
   "cell_type": "code",
   "execution_count": 19,
   "metadata": {
    "ExecuteTime": {
     "end_time": "2020-07-29T09:57:18.958110Z",
     "start_time": "2020-07-29T09:57:18.943091Z"
    }
   },
   "outputs": [
    {
     "data": {
      "text/plain": [
       "[]"
      ]
     },
     "execution_count": 19,
     "metadata": {},
     "output_type": "execute_result"
    }
   ],
   "source": [
    "sources.get_interface_list()"
   ]
  },
  {
   "cell_type": "code",
   "execution_count": 20,
   "metadata": {
    "ExecuteTime": {
     "end_time": "2020-07-29T09:57:49.323155Z",
     "start_time": "2020-07-29T09:57:49.307797Z"
    }
   },
   "outputs": [
    {
     "data": {
      "text/plain": [
       "'contracts/Token.sol'"
      ]
     },
     "execution_count": 20,
     "metadata": {},
     "output_type": "execute_result"
    }
   ],
   "source": [
    "sources.get_source_path('Token')"
   ]
  },
  {
   "cell_type": "code",
   "execution_count": 28,
   "metadata": {
    "ExecuteTime": {
     "end_time": "2020-07-29T10:01:06.216241Z",
     "start_time": "2020-07-29T10:01:06.205849Z"
    }
   },
   "outputs": [
    {
     "data": {
      "text/plain": [
       "PosixPath('/Users/xiaofeiwu/jcloud/assets/langs/workspace/blockchain/ws_brownie/token')"
      ]
     },
     "execution_count": 28,
     "metadata": {},
     "output_type": "execute_result"
    }
   ],
   "source": [
    "from pathlib import Path\n",
    "Path('.').resolve()"
   ]
  }
 ],
 "metadata": {
  "kernelspec": {
   "display_name": "Python 3",
   "language": "python",
   "name": "python3"
  },
  "language_info": {
   "codemirror_mode": {
    "name": "ipython",
    "version": 3
   },
   "file_extension": ".py",
   "mimetype": "text/x-python",
   "name": "python",
   "nbconvert_exporter": "python",
   "pygments_lexer": "ipython3",
   "version": "3.7.7"
  },
  "varInspector": {
   "cols": {
    "lenName": 16,
    "lenType": 16,
    "lenVar": 40
   },
   "kernels_config": {
    "python": {
     "delete_cmd_postfix": "",
     "delete_cmd_prefix": "del ",
     "library": "var_list.py",
     "varRefreshCmd": "print(var_dic_list())"
    },
    "r": {
     "delete_cmd_postfix": ") ",
     "delete_cmd_prefix": "rm(",
     "library": "var_list.r",
     "varRefreshCmd": "cat(var_dic_list()) "
    }
   },
   "types_to_exclude": [
    "module",
    "function",
    "builtin_function_or_method",
    "instance",
    "_Feature"
   ],
   "window_display": false
  }
 },
 "nbformat": 4,
 "nbformat_minor": 4
}
