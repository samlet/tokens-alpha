{
 "cells": [
  {
   "cell_type": "code",
   "execution_count": 1,
   "metadata": {
    "ExecuteTime": {
     "end_time": "2020-08-07T18:02:25.296116Z",
     "start_time": "2020-08-07T18:02:21.404726Z"
    }
   },
   "outputs": [
    {
     "data": {
      "text/plain": [
       "{'ERC20DecimalsMock': [],\n",
       " 'MappingExample': [],\n",
       " 'MappingTest': [],\n",
       " 'MyToken': [],\n",
       " 'Set': [],\n",
       " 'Token': [],\n",
       " 'SimpleAuction': [],\n",
       " 'SafeMath': [],\n",
       " 'GameItems': [],\n",
       " 'ERC20Mock': [],\n",
       " 'GLDToken': [],\n",
       " 'TestAdd': [],\n",
       " 'AccessRestriction': [],\n",
       " 'AccessControlMock': [],\n",
       " 'StateMachine': [],\n",
       " 'ERC20CappedMock': [],\n",
       " 'Ballot': [],\n",
       " 'ConvertLib': [],\n",
       " 'Bids': [],\n",
       " 'ERC20BurnableMock': [],\n",
       " 'ERC20PausableMock': [],\n",
       " 'Adoption': [],\n",
       " 'C': [],\n",
       " 'TestSet': [],\n",
       " 'Coin': [],\n",
       " 'ERC20SnapshotMock': [],\n",
       " 'WithdrawalContract': []}"
      ]
     },
     "execution_count": 1,
     "metadata": {},
     "output_type": "execute_result"
    }
   ],
   "source": [
    "from brownie import *\n",
    "p = project.load('../token', name=\"token\")\n",
    "p.load_config()\n",
    "from brownie.project.token import *\n",
    "network.connect('rinkeby')\n",
    "\n",
    "dict(p)"
   ]
  },
  {
   "cell_type": "code",
   "execution_count": 2,
   "metadata": {
    "ExecuteTime": {
     "end_time": "2020-08-07T18:02:25.591085Z",
     "start_time": "2020-08-07T18:02:25.301249Z"
    }
   },
   "outputs": [
    {
     "data": {
      "text/plain": [
       "10000000000037062"
      ]
     },
     "execution_count": 2,
     "metadata": {},
     "output_type": "execute_result"
    }
   ],
   "source": [
    "web3.eth.getBalance('0xd3CdA913deB6f67967B99D67aCDFa1712C293601')"
   ]
  },
  {
   "cell_type": "code",
   "execution_count": 3,
   "metadata": {
    "ExecuteTime": {
     "end_time": "2020-08-07T18:02:25.903460Z",
     "start_time": "2020-08-07T18:02:25.597414Z"
    }
   },
   "outputs": [
    {
     "data": {
      "text/plain": [
       "6498404000000000000"
      ]
     },
     "execution_count": 3,
     "metadata": {},
     "output_type": "execute_result"
    }
   ],
   "source": [
    "web3.eth.getBalance('0x3C8EC3325cecF2493fe0eb419ef61CE013428342')"
   ]
  },
  {
   "cell_type": "code",
   "execution_count": 4,
   "metadata": {
    "ExecuteTime": {
     "end_time": "2020-08-07T18:02:26.225264Z",
     "start_time": "2020-08-07T18:02:25.909951Z"
    }
   },
   "outputs": [
    {
     "data": {
      "text/plain": [
       "1000000000000000000"
      ]
     },
     "execution_count": 4,
     "metadata": {},
     "output_type": "execute_result"
    }
   ],
   "source": [
    "web3.eth.getBalance('0xC3d3D738E6cBF325C10Fe6F31de6AE4f49b2f396')"
   ]
  },
  {
   "cell_type": "code",
   "execution_count": 5,
   "metadata": {
    "ExecuteTime": {
     "end_time": "2020-08-07T18:02:26.235291Z",
     "start_time": "2020-08-07T18:02:26.230121Z"
    }
   },
   "outputs": [
    {
     "data": {
      "text/plain": [
       "[]"
      ]
     },
     "execution_count": 5,
     "metadata": {},
     "output_type": "execute_result"
    }
   ],
   "source": [
    "accounts"
   ]
  },
  {
   "cell_type": "code",
   "execution_count": 6,
   "metadata": {
    "ExecuteTime": {
     "end_time": "2020-08-07T18:02:26.819279Z",
     "start_time": "2020-08-07T18:02:26.240459Z"
    }
   },
   "outputs": [
    {
     "data": {
      "text/plain": [
       "(4, 1000000000)"
      ]
     },
     "execution_count": 6,
     "metadata": {},
     "output_type": "execute_result"
    }
   ],
   "source": [
    "web3.eth.chainId, web3.eth.gasPrice"
   ]
  },
  {
   "cell_type": "code",
   "execution_count": 7,
   "metadata": {
    "ExecuteTime": {
     "end_time": "2020-08-07T18:02:27.163974Z",
     "start_time": "2020-08-07T18:02:26.834143Z"
    }
   },
   "outputs": [
    {
     "data": {
      "text/plain": [
       "AttributeDict({'difficulty': 2,\n",
       " 'proofOfAuthorityData': HexBytes('0xd883010913846765746888676f312e31342e36856c696e757800000000000000bc35702fbfdb050e6a51a2b14aa411c8471f8352e1f7cecba78eb3ee5e1c92045dbf0980cb2df6cddbd5b575257d1fcdcad5a66a9e9ac911f7d94b7032ca278201'),\n",
       " 'gasLimit': 10002948,\n",
       " 'gasUsed': 906320,\n",
       " 'hash': HexBytes('0x908b09402a4d63f1ccf825408186e18f6ac6cc1270b2fcce5d7e4631569e22d9'),\n",
       " 'logsBloom': HexBytes('0x010010000020000800c840000400000100000004400000004000000040000042008000000600000100000000000000004800000048000000002200000004008000001000000000000000000a000000000000020400040004000000000000400000008000060080000000010000002800020000100000000002200250000010400040004100000000000000002000000000100040410001000000000014000000000000000000000102000000840000100000000000000000000000000000000000040006000800000000008080000000000000000080000006001006001060400000104001000000001000002004002000000000000002001000100802000000'),\n",
       " 'miner': '0x0000000000000000000000000000000000000000',\n",
       " 'mixHash': HexBytes('0x0000000000000000000000000000000000000000000000000000000000000000'),\n",
       " 'nonce': HexBytes('0x0000000000000000'),\n",
       " 'number': 6977848,\n",
       " 'parentHash': HexBytes('0x1ebbc65941a3b9f8915f3416f8652d2d8f5cbadb7e8e6fb6248db793d09a0571'),\n",
       " 'receiptsRoot': HexBytes('0x1bf5d51264cdbb3e42a573b17b0e78cb87574dea7d464c21b0cdb225131d6dde'),\n",
       " 'sha3Uncles': HexBytes('0x1dcc4de8dec75d7aab85b567b6ccd41ad312451b948a7413f0a142fd40d49347'),\n",
       " 'size': 4725,\n",
       " 'stateRoot': HexBytes('0x4501eee7761891b7fef3aaa550e9c582fd0f63e9f81bfea5c48f8e0f27410bc6'),\n",
       " 'timestamp': 1596823337,\n",
       " 'totalDifficulty': 12487387,\n",
       " 'transactions': [HexBytes('0x616c2c0ea6edfed83602a96ca718bd38b5f41f837d9954ed1fa5586a0180daed'),\n",
       "  HexBytes('0x5c499f24a67f9797c3784f2b77c92cc072e5ed60686c4f4882f358ca17474a37'),\n",
       "  HexBytes('0xeb410becb959d9b4e465b9b693fd16b2b6a635649b1247288570e743e8c28007'),\n",
       "  HexBytes('0x4d7d64ac445785dad179103a0607cb6d0d2c13e8014dcfb81159b8c86a2bdd05'),\n",
       "  HexBytes('0x6638919ecdde9c3d9e55ccf9226fa3ae85d93d6f1a53c5e87c19b2346f7416ce'),\n",
       "  HexBytes('0x0dc8f96b534804974ce36c3894e2aeea255ca5cead47f17830b3ad5ab0acd353'),\n",
       "  HexBytes('0x27960c86445ddd93ce90cbe8eee023da5a21af7b488dea8fb374a6db3fe5efb3'),\n",
       "  HexBytes('0x67c0c502a9a31c6155fff7d5a3d05e705f66980b00a3d90121b46b550777d1c8'),\n",
       "  HexBytes('0x75edb5a098e5353fb39a0264ff48c4832c18a11658e4e525ee8a5ae1bfc46938'),\n",
       "  HexBytes('0x2ce3f81b98e62bec7c6b9b355f5e5bc270c90d7c41f762770493327f18af87ce')],\n",
       " 'transactionsRoot': HexBytes('0x65490131b08c58b71a0d0d57ddbf1c9a970e49fd6e1d3cdfc542e600a25fd513'),\n",
       " 'uncles': []})"
      ]
     },
     "execution_count": 7,
     "metadata": {},
     "output_type": "execute_result"
    }
   ],
   "source": [
    "# web3.eth.coinbase\n",
    "block = web3.eth.getBlock('latest')\n",
    "block"
   ]
  },
  {
   "cell_type": "code",
   "execution_count": 8,
   "metadata": {
    "ExecuteTime": {
     "end_time": "2020-08-07T18:02:27.192959Z",
     "start_time": "2020-08-07T18:02:27.185851Z"
    }
   },
   "outputs": [
    {
     "data": {
      "text/plain": [
       "6977848"
      ]
     },
     "execution_count": 8,
     "metadata": {},
     "output_type": "execute_result"
    }
   ],
   "source": [
    "block.number"
   ]
  },
  {
   "cell_type": "code",
   "execution_count": 9,
   "metadata": {
    "ExecuteTime": {
     "end_time": "2020-08-07T18:02:27.518012Z",
     "start_time": "2020-08-07T18:02:27.202182Z"
    }
   },
   "outputs": [
    {
     "data": {
      "text/plain": [
       "[]"
      ]
     },
     "execution_count": 9,
     "metadata": {},
     "output_type": "execute_result"
    }
   ],
   "source": [
    "web3.eth.accounts"
   ]
  },
  {
   "cell_type": "code",
   "execution_count": 10,
   "metadata": {
    "ExecuteTime": {
     "end_time": "2020-08-07T18:02:27.539674Z",
     "start_time": "2020-08-07T18:02:27.522193Z"
    }
   },
   "outputs": [
    {
     "data": {
      "text/plain": [
       "False"
      ]
     },
     "execution_count": 10,
     "metadata": {},
     "output_type": "execute_result"
    }
   ],
   "source": [
    "from web3.auto import w3\n",
    "w3.isConnected()"
   ]
  },
  {
   "cell_type": "code",
   "execution_count": 11,
   "metadata": {
    "ExecuteTime": {
     "end_time": "2020-08-07T18:02:27.875392Z",
     "start_time": "2020-08-07T18:02:27.545733Z"
    }
   },
   "outputs": [
    {
     "data": {
      "text/plain": [
       "True"
      ]
     },
     "execution_count": 11,
     "metadata": {},
     "output_type": "execute_result"
    }
   ],
   "source": [
    "network.is_connected()"
   ]
  },
  {
   "cell_type": "code",
   "execution_count": 12,
   "metadata": {
    "ExecuteTime": {
     "end_time": "2020-08-07T18:02:36.167158Z",
     "start_time": "2020-08-07T18:02:27.879108Z"
    }
   },
   "outputs": [
    {
     "name": "stdout",
     "output_type": "stream",
     "text": [
      "Enter the password to unlock this account: ········\n"
     ]
    }
   ],
   "source": [
    "acc=accounts.load('flyer')"
   ]
  },
  {
   "cell_type": "code",
   "execution_count": 13,
   "metadata": {
    "ExecuteTime": {
     "end_time": "2020-08-07T18:02:36.186130Z",
     "start_time": "2020-08-07T18:02:36.169793Z"
    }
   },
   "outputs": [
    {
     "data": {
      "text/plain": [
       "brownie.network.account.LocalAccount"
      ]
     },
     "execution_count": 13,
     "metadata": {},
     "output_type": "execute_result"
    }
   ],
   "source": [
    "type(acc)"
   ]
  },
  {
   "cell_type": "code",
   "execution_count": 14,
   "metadata": {
    "ExecuteTime": {
     "end_time": "2020-08-07T18:02:36.199685Z",
     "start_time": "2020-08-07T18:02:36.190341Z"
    }
   },
   "outputs": [
    {
     "data": {
      "text/plain": [
       "<LocalAccount '0xC3d3D738E6cBF325C10Fe6F31de6AE4f49b2f396'>"
      ]
     },
     "execution_count": 14,
     "metadata": {},
     "output_type": "execute_result"
    }
   ],
   "source": [
    "acc"
   ]
  },
  {
   "cell_type": "code",
   "execution_count": 20,
   "metadata": {
    "ExecuteTime": {
     "end_time": "2020-08-07T18:03:55.033723Z",
     "start_time": "2020-08-07T18:03:55.027187Z"
    }
   },
   "outputs": [
    {
     "data": {
      "text/plain": [
       "[<LocalAccount '0xC3d3D738E6cBF325C10Fe6F31de6AE4f49b2f396'>]"
      ]
     },
     "execution_count": 20,
     "metadata": {},
     "output_type": "execute_result"
    }
   ],
   "source": [
    "accounts"
   ]
  },
  {
   "cell_type": "code",
   "execution_count": 16,
   "metadata": {
    "ExecuteTime": {
     "end_time": "2020-08-07T18:02:36.227709Z",
     "start_time": "2020-08-07T18:02:36.221235Z"
    }
   },
   "outputs": [
    {
     "data": {
      "text/plain": [
       "<LocalAccount '0xC3d3D738E6cBF325C10Fe6F31de6AE4f49b2f396'>"
      ]
     },
     "execution_count": 16,
     "metadata": {},
     "output_type": "execute_result"
    }
   ],
   "source": [
    "accounts.at('0xC3d3D738E6cBF325C10Fe6F31de6AE4f49b2f396')"
   ]
  },
  {
   "cell_type": "code",
   "execution_count": 17,
   "metadata": {
    "ExecuteTime": {
     "end_time": "2020-08-07T18:02:36.243320Z",
     "start_time": "2020-08-07T18:02:36.231595Z"
    }
   },
   "outputs": [
    {
     "data": {
      "text/plain": [
       "'rinkeby'"
      ]
     },
     "execution_count": 17,
     "metadata": {},
     "output_type": "execute_result"
    }
   ],
   "source": [
    "# acc.public_key\n",
    "network.show_active()"
   ]
  },
  {
   "cell_type": "code",
   "execution_count": 21,
   "metadata": {
    "ExecuteTime": {
     "end_time": "2020-08-07T18:04:19.188111Z",
     "start_time": "2020-08-07T18:04:00.413869Z"
    }
   },
   "outputs": [
    {
     "name": "stdout",
     "output_type": "stream",
     "text": [
      "Transaction sent: \u001b[0;1;34m0x87a673ee47676c1771bfbaa51ebe55ca79340942d0d0ca4fb643950d9ccc09f9\u001b[0;m\n",
      "  Gas price: \u001b[0;1;34m1.0\u001b[0;m gwei   Gas limit: \u001b[0;1;34m1617707\u001b[0;m\n",
      "Waiting for confirmation...\n",
      "  GameItems.constructor confirmed - Block: \u001b[0;1;34m6977856\u001b[0;m   Gas used: \u001b[0;1;34m1617707\u001b[0;m (\u001b[0;1;34m100.00%\u001b[0;m)\n",
      "  GameItems deployed at: \u001b[0;1;34m0xc70395CcA178021cccA63827B5F48a6754381bC4\u001b[0;m\n",
      "\n"
     ]
    }
   ],
   "source": [
    "# gameItems=GameItems.deploy({'from':accounts[0]})"
   ]
  }
 ],
 "metadata": {
  "kernelspec": {
   "display_name": "Python 3",
   "language": "python",
   "name": "python3"
  },
  "language_info": {
   "codemirror_mode": {
    "name": "ipython",
    "version": 3
   },
   "file_extension": ".py",
   "mimetype": "text/x-python",
   "name": "python",
   "nbconvert_exporter": "python",
   "pygments_lexer": "ipython3",
   "version": "3.7.7"
  },
  "varInspector": {
   "cols": {
    "lenName": 16,
    "lenType": 16,
    "lenVar": 40
   },
   "kernels_config": {
    "python": {
     "delete_cmd_postfix": "",
     "delete_cmd_prefix": "del ",
     "library": "var_list.py",
     "varRefreshCmd": "print(var_dic_list())"
    },
    "r": {
     "delete_cmd_postfix": ") ",
     "delete_cmd_prefix": "rm(",
     "library": "var_list.r",
     "varRefreshCmd": "cat(var_dic_list()) "
    }
   },
   "types_to_exclude": [
    "module",
    "function",
    "builtin_function_or_method",
    "instance",
    "_Feature"
   ],
   "window_display": false
  }
 },
 "nbformat": 4,
 "nbformat_minor": 4
}
