{
 "cells": [
  {
   "cell_type": "code",
   "execution_count": 1,
   "metadata": {
    "ExecuteTime": {
     "end_time": "2020-08-05T06:55:25.807292Z",
     "start_time": "2020-08-05T06:55:23.970297Z"
    }
   },
   "outputs": [
    {
     "name": "stdout",
     "output_type": "stream",
     "text": [
      "Attached to local RPC client listening at '127.0.0.1:8545'...\n"
     ]
    },
    {
     "name": "stderr",
     "output_type": "stream",
     "text": [
      "/Users/xiaofeiwu/miniconda3/envs/bigdata/lib/python3.7/site-packages/brownie/network/main.py:45: BrownieEnvironmentWarning: Development network has a block height of 15\n",
      "  BrownieEnvironmentWarning,\n"
     ]
    },
    {
     "data": {
      "text/plain": [
       "{'UsingMyOracle': [],\n",
       " 'Oracle': [],\n",
       " 'Dice': [],\n",
       " 'BoxingOracle': [],\n",
       " 'OracleResolver': [],\n",
       " 'Ownable': [],\n",
       " 'BoxingBets': [],\n",
       " 'DateLib': []}"
      ]
     },
     "execution_count": 1,
     "metadata": {},
     "output_type": "execute_result"
    }
   ],
   "source": [
    "from brownie import *\n",
    "p = project.load('../oracles', name=\"oracles\")\n",
    "p.load_config()\n",
    "from brownie.project.oracles import *\n",
    "network.connect('development')\n",
    "\n",
    "dict(p)"
   ]
  },
  {
   "cell_type": "code",
   "execution_count": 22,
   "metadata": {
    "ExecuteTime": {
     "end_time": "2020-08-05T07:18:13.004359Z",
     "start_time": "2020-08-05T07:18:12.996793Z"
    }
   },
   "outputs": [
    {
     "data": {
      "text/plain": [
       "dict_keys(['abi', 'allSourcePaths', 'ast', 'bytecode', 'bytecodeSha1', 'compiler', 'contractName', 'coverageMap', 'dependencies', 'deployedBytecode', 'deployedSourceMap', 'language', 'natspec', 'offset', 'opcodes', 'pcMap', 'sha1', 'source', 'sourceMap', 'sourcePath', 'type'])"
      ]
     },
     "execution_count": 22,
     "metadata": {},
     "output_type": "execute_result"
    }
   ],
   "source": [
    "build=p._build\n",
    "c=p._build.get('Dice')\n",
    "c.keys()"
   ]
  },
  {
   "cell_type": "code",
   "execution_count": 23,
   "metadata": {
    "ExecuteTime": {
     "end_time": "2020-08-05T07:18:18.808451Z",
     "start_time": "2020-08-05T07:18:18.787079Z"
    }
   },
   "outputs": [
    {
     "data": {
      "text/plain": [
       "[{'constant': False,\n",
       "  'inputs': [],\n",
       "  'name': 'dice',\n",
       "  'outputs': [],\n",
       "  'payable': False,\n",
       "  'stateMutability': 'nonpayable',\n",
       "  'type': 'function'},\n",
       " {'constant': True,\n",
       "  'inputs': [],\n",
       "  'name': 'checkResult',\n",
       "  'outputs': [{'name': '', 'type': 'string'}],\n",
       "  'payable': False,\n",
       "  'stateMutability': 'view',\n",
       "  'type': 'function'},\n",
       " {'constant': False,\n",
       "  'inputs': [{'name': '_id', 'type': 'bytes32'},\n",
       "   {'name': 'result', 'type': 'string'}],\n",
       "  'name': '_callback',\n",
       "  'outputs': [],\n",
       "  'payable': False,\n",
       "  'stateMutability': 'nonpayable',\n",
       "  'type': 'function'},\n",
       " {'inputs': [],\n",
       "  'payable': False,\n",
       "  'stateMutability': 'nonpayable',\n",
       "  'type': 'constructor',\n",
       "  'name': 'constructor'},\n",
       " {'anonymous': False,\n",
       "  'inputs': [{'indexed': False, 'name': 'description', 'type': 'string'}],\n",
       "  'name': 'newMyOracleQuery',\n",
       "  'type': 'event'},\n",
       " {'anonymous': False,\n",
       "  'inputs': [{'indexed': False, 'name': 'result', 'type': 'string'}],\n",
       "  'name': 'diceResult',\n",
       "  'type': 'event'}]"
      ]
     },
     "execution_count": 23,
     "metadata": {},
     "output_type": "execute_result"
    }
   ],
   "source": [
    "c['abi']"
   ]
  },
  {
   "cell_type": "code",
   "execution_count": 27,
   "metadata": {
    "ExecuteTime": {
     "end_time": "2020-08-05T07:21:01.363844Z",
     "start_time": "2020-08-05T07:21:01.346566Z"
    }
   },
   "outputs": [
    {
     "data": {
      "text/html": [
       "<div>\n",
       "<style scoped>\n",
       "    .dataframe tbody tr th:only-of-type {\n",
       "        vertical-align: middle;\n",
       "    }\n",
       "\n",
       "    .dataframe tbody tr th {\n",
       "        vertical-align: top;\n",
       "    }\n",
       "\n",
       "    .dataframe thead th {\n",
       "        text-align: right;\n",
       "    }\n",
       "</style>\n",
       "<table border=\"1\" class=\"dataframe\">\n",
       "  <thead>\n",
       "    <tr style=\"text-align: right;\">\n",
       "      <th></th>\n",
       "      <th>name</th>\n",
       "      <th>type</th>\n",
       "      <th>stateMutability</th>\n",
       "      <th>inputs</th>\n",
       "    </tr>\n",
       "  </thead>\n",
       "  <tbody>\n",
       "    <tr>\n",
       "      <th>0</th>\n",
       "      <td>dice</td>\n",
       "      <td>function</td>\n",
       "      <td>nonpayable</td>\n",
       "      <td></td>\n",
       "    </tr>\n",
       "    <tr>\n",
       "      <th>1</th>\n",
       "      <td>checkResult</td>\n",
       "      <td>function</td>\n",
       "      <td>view</td>\n",
       "      <td></td>\n",
       "    </tr>\n",
       "    <tr>\n",
       "      <th>2</th>\n",
       "      <td>_callback</td>\n",
       "      <td>function</td>\n",
       "      <td>nonpayable</td>\n",
       "      <td>_id, result</td>\n",
       "    </tr>\n",
       "    <tr>\n",
       "      <th>3</th>\n",
       "      <td>constructor</td>\n",
       "      <td>constructor</td>\n",
       "      <td>nonpayable</td>\n",
       "      <td></td>\n",
       "    </tr>\n",
       "    <tr>\n",
       "      <th>4</th>\n",
       "      <td>newMyOracleQuery</td>\n",
       "      <td>event</td>\n",
       "      <td>_</td>\n",
       "      <td>description</td>\n",
       "    </tr>\n",
       "    <tr>\n",
       "      <th>5</th>\n",
       "      <td>diceResult</td>\n",
       "      <td>event</td>\n",
       "      <td>_</td>\n",
       "      <td>result</td>\n",
       "    </tr>\n",
       "  </tbody>\n",
       "</table>\n",
       "</div>"
      ],
      "text/plain": [
       "               name         type stateMutability       inputs\n",
       "0              dice     function      nonpayable             \n",
       "1       checkResult     function            view             \n",
       "2         _callback     function      nonpayable  _id, result\n",
       "3       constructor  constructor      nonpayable             \n",
       "4  newMyOracleQuery        event               _  description\n",
       "5        diceResult        event               _       result"
      ]
     },
     "execution_count": 27,
     "metadata": {},
     "output_type": "execute_result"
    }
   ],
   "source": [
    "import sagas\n",
    "def inputs(f):\n",
    "    return ', '.join([p['name'] for p in f['inputs']])\n",
    "sagas.to_df([(f['name'], f['type'], \n",
    "              f['stateMutability'] if 'stateMutability' in f else '_',\n",
    "              inputs(f),\n",
    "             ) \n",
    "             for f in c['abi']], ['name', 'type', 'stateMutability', 'inputs'])"
   ]
  },
  {
   "cell_type": "code",
   "execution_count": 11,
   "metadata": {
    "ExecuteTime": {
     "end_time": "2020-08-05T06:59:37.220962Z",
     "start_time": "2020-08-05T06:59:37.214506Z"
    }
   },
   "outputs": [
    {
     "name": "stdout",
     "output_type": "stream",
     "text": [
      "OracleI\n",
      "UsingMyOracle\n",
      "Oracle\n",
      "Dice\n",
      "BoxingOracle\n",
      "OracleInterface\n",
      "OracleResolver\n",
      "OracleResolverI\n",
      "Ownable\n",
      "BoxingBets\n",
      "DateLib\n"
     ]
    }
   ],
   "source": [
    "for name, data in build.items():\n",
    "    print(name)"
   ]
  },
  {
   "cell_type": "code",
   "execution_count": 14,
   "metadata": {
    "ExecuteTime": {
     "end_time": "2020-08-05T07:00:16.387996Z",
     "start_time": "2020-08-05T07:00:16.380333Z"
    }
   },
   "outputs": [
    {
     "data": {
      "text/plain": [
       "['Dice']"
      ]
     },
     "execution_count": 14,
     "metadata": {},
     "output_type": "execute_result"
    }
   ],
   "source": [
    "build.get_dependents('UsingMyOracle')"
   ]
  }
 ],
 "metadata": {
  "kernelspec": {
   "display_name": "Python 3",
   "language": "python",
   "name": "python3"
  },
  "language_info": {
   "codemirror_mode": {
    "name": "ipython",
    "version": 3
   },
   "file_extension": ".py",
   "mimetype": "text/x-python",
   "name": "python",
   "nbconvert_exporter": "python",
   "pygments_lexer": "ipython3",
   "version": "3.7.7"
  },
  "varInspector": {
   "cols": {
    "lenName": 16,
    "lenType": 16,
    "lenVar": 40
   },
   "kernels_config": {
    "python": {
     "delete_cmd_postfix": "",
     "delete_cmd_prefix": "del ",
     "library": "var_list.py",
     "varRefreshCmd": "print(var_dic_list())"
    },
    "r": {
     "delete_cmd_postfix": ") ",
     "delete_cmd_prefix": "rm(",
     "library": "var_list.r",
     "varRefreshCmd": "cat(var_dic_list()) "
    }
   },
   "types_to_exclude": [
    "module",
    "function",
    "builtin_function_or_method",
    "instance",
    "_Feature"
   ],
   "window_display": false
  }
 },
 "nbformat": 4,
 "nbformat_minor": 4
}
