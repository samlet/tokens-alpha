{
 "cells": [
  {
   "cell_type": "code",
   "execution_count": 1,
   "metadata": {
    "ExecuteTime": {
     "end_time": "2020-08-04T01:40:18.328982Z",
     "start_time": "2020-08-04T01:40:16.792903Z"
    }
   },
   "outputs": [
    {
     "name": "stdout",
     "output_type": "stream",
     "text": [
      "Attached to local RPC client listening at '127.0.0.1:8545'...\n"
     ]
    },
    {
     "data": {
      "text/plain": [
       "{'UsingMyOracle': [],\n",
       " 'Oracle': [],\n",
       " 'Dice': [],\n",
       " 'BoxingOracle': [],\n",
       " 'OracleResolver': [],\n",
       " 'Ownable': [],\n",
       " 'BoxingBets': [],\n",
       " 'DateLib': []}"
      ]
     },
     "execution_count": 1,
     "metadata": {},
     "output_type": "execute_result"
    }
   ],
   "source": [
    "from brownie import *\n",
    "p = project.load('../oracles', name=\"oracles\")\n",
    "p.load_config()\n",
    "from brownie.project.oracles import *\n",
    "network.connect('development')\n",
    "\n",
    "dict(p)"
   ]
  }
 ],
 "metadata": {
  "kernelspec": {
   "display_name": "Python 3",
   "language": "python",
   "name": "python3"
  },
  "language_info": {
   "codemirror_mode": {
    "name": "ipython",
    "version": 3
   },
   "file_extension": ".py",
   "mimetype": "text/x-python",
   "name": "python",
   "nbconvert_exporter": "python",
   "pygments_lexer": "ipython3",
   "version": "3.7.7"
  },
  "varInspector": {
   "cols": {
    "lenName": 16,
    "lenType": 16,
    "lenVar": 40
   },
   "kernels_config": {
    "python": {
     "delete_cmd_postfix": "",
     "delete_cmd_prefix": "del ",
     "library": "var_list.py",
     "varRefreshCmd": "print(var_dic_list())"
    },
    "r": {
     "delete_cmd_postfix": ") ",
     "delete_cmd_prefix": "rm(",
     "library": "var_list.r",
     "varRefreshCmd": "cat(var_dic_list()) "
    }
   },
   "types_to_exclude": [
    "module",
    "function",
    "builtin_function_or_method",
    "instance",
    "_Feature"
   ],
   "window_display": false
  }
 },
 "nbformat": 4,
 "nbformat_minor": 4
}
