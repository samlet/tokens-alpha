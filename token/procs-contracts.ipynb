{
 "cells": [
  {
   "cell_type": "code",
   "execution_count": 1,
   "metadata": {
    "ExecuteTime": {
     "end_time": "2020-07-29T09:34:05.589250Z",
     "start_time": "2020-07-29T09:34:01.093280Z"
    }
   },
   "outputs": [
    {
     "data": {
      "text/plain": [
       "<TempProject 'TempSolcProject'>"
      ]
     },
     "execution_count": 1,
     "metadata": {},
     "output_type": "execute_result"
    }
   ],
   "source": [
    "from brownie import compile_source\n",
    "container = compile_source('''pragma solidity ^0.6.0;\n",
    "\n",
    "contract SimpleTest {\n",
    "\n",
    "  string public name;\n",
    "  constructor (string memory _name) public {\n",
    "    name = _name;\n",
    "  }\n",
    "}''')\n",
    "\n",
    "container"
   ]
  },
  {
   "cell_type": "code",
   "execution_count": 6,
   "metadata": {
    "ExecuteTime": {
     "end_time": "2020-07-29T09:37:20.617277Z",
     "start_time": "2020-07-29T09:37:20.464867Z"
    }
   },
   "outputs": [
    {
     "name": "stdout",
     "output_type": "stream",
     "text": [
      "Attached to local RPC client listening at '127.0.0.1:8545'...\n"
     ]
    },
    {
     "data": {
      "text/plain": [
       "[<Account '0x66aB6D9362d4F35596279692F0251Db635165871'>, <Account '0x33A4622B82D4c04a53e170c638B944ce27cffce3'>, <Account '0x0063046686E46Dc6F15918b61AE2B121458534a5'>, <Account '0x21b42413bA931038f35e7A5224FaDb065d297Ba3'>, <Account '0x46C0a5326E643E4f71D3149d50B48216e174Ae84'>, <Account '0x807c47A89F720fe4Ee9b8343c286Fc886f43191b'>, <Account '0x844ec86426F076647A5362706a04570A5965473B'>, <Account '0x23BB2Bb6c340D4C91cAa478EdF6593fC5c4a6d4B'>, <Account '0xA868bC7c1AF08B8831795FAC946025557369F69C'>, <Account '0x1CEE82EEd89Bd5Be5bf2507a92a755dcF1D8e8dc'>]"
      ]
     },
     "execution_count": 6,
     "metadata": {},
     "output_type": "execute_result"
    }
   ],
   "source": [
    "from brownie import network, accounts\n",
    "network.connect('development')\n",
    "accounts"
   ]
  },
  {
   "cell_type": "code",
   "execution_count": 8,
   "metadata": {
    "ExecuteTime": {
     "end_time": "2020-07-29T09:38:02.030527Z",
     "start_time": "2020-07-29T09:38:01.760202Z"
    }
   },
   "outputs": [
    {
     "name": "stdout",
     "output_type": "stream",
     "text": [
      "Transaction sent: \u001b[0;1;34m0xd1e3feefeebacf0fc9afb9a405c57aaf2897d59ca60fc8470ee1b433be35830b\u001b[0;m\n",
      "  Gas price: \u001b[0;1;34m0.0\u001b[0;m gwei   Gas limit: \u001b[0;1;34m12000000\u001b[0;m\n",
      "  SimpleTest.constructor confirmed - Block: \u001b[0;1;34m1\u001b[0;m   Gas used: \u001b[0;1;34m160981\u001b[0;m (\u001b[0;1;34m1.34%\u001b[0;m)\n",
      "  SimpleTest deployed at: \u001b[0;1;34m0x3194cBDC3dbcd3E11a07892e7bA5c3394048Cc87\u001b[0;m\n",
      "\n"
     ]
    },
    {
     "data": {
      "text/plain": [
       "<SimpleTest Contract '0x3194cBDC3dbcd3E11a07892e7bA5c3394048Cc87'>"
      ]
     },
     "execution_count": 8,
     "metadata": {},
     "output_type": "execute_result"
    }
   ],
   "source": [
    "from brownie import accounts\n",
    "f= container.SimpleTest.deploy(\"test\", {'from': accounts[0]})\n",
    "f"
   ]
  },
  {
   "cell_type": "code",
   "execution_count": 10,
   "metadata": {
    "ExecuteTime": {
     "end_time": "2020-07-29T09:38:15.815728Z",
     "start_time": "2020-07-29T09:38:15.739700Z"
    }
   },
   "outputs": [
    {
     "data": {
      "text/plain": [
       "'test'"
      ]
     },
     "execution_count": 10,
     "metadata": {},
     "output_type": "execute_result"
    }
   ],
   "source": [
    "f.name()"
   ]
  }
 ],
 "metadata": {
  "kernelspec": {
   "display_name": "Python 3",
   "language": "python",
   "name": "python3"
  },
  "language_info": {
   "codemirror_mode": {
    "name": "ipython",
    "version": 3
   },
   "file_extension": ".py",
   "mimetype": "text/x-python",
   "name": "python",
   "nbconvert_exporter": "python",
   "pygments_lexer": "ipython3",
   "version": "3.7.7"
  },
  "varInspector": {
   "cols": {
    "lenName": 16,
    "lenType": 16,
    "lenVar": 40
   },
   "kernels_config": {
    "python": {
     "delete_cmd_postfix": "",
     "delete_cmd_prefix": "del ",
     "library": "var_list.py",
     "varRefreshCmd": "print(var_dic_list())"
    },
    "r": {
     "delete_cmd_postfix": ") ",
     "delete_cmd_prefix": "rm(",
     "library": "var_list.r",
     "varRefreshCmd": "cat(var_dic_list()) "
    }
   },
   "types_to_exclude": [
    "module",
    "function",
    "builtin_function_or_method",
    "instance",
    "_Feature"
   ],
   "window_display": false
  }
 },
 "nbformat": 4,
 "nbformat_minor": 4
}
