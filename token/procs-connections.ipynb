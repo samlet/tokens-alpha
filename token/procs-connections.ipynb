{
 "cells": [
  {
   "cell_type": "code",
   "execution_count": 12,
   "metadata": {
    "ExecuteTime": {
     "end_time": "2020-08-07T07:36:18.296899Z",
     "start_time": "2020-08-07T07:36:18.287391Z"
    }
   },
   "outputs": [
    {
     "data": {
      "text/plain": [
       "('127.0.0.1', 8545)"
      ]
     },
     "execution_count": 12,
     "metadata": {},
     "output_type": "execute_result"
    }
   ],
   "source": [
    "from urllib.parse import urlparse\n",
    "laddr='http://127.0.0.1:8545'\n",
    "o = urlparse(laddr)\n",
    "laddr = (o.hostname, o.port)\n",
    "laddr"
   ]
  },
  {
   "cell_type": "code",
   "execution_count": 5,
   "metadata": {
    "ExecuteTime": {
     "end_time": "2020-08-07T07:30:29.142311Z",
     "start_time": "2020-08-07T07:30:29.108396Z"
    }
   },
   "outputs": [
    {
     "data": {
      "text/plain": [
       "['kernel_task',\n",
       " 'launchd',\n",
       " 'syslogd',\n",
       " 'UserEventAgent',\n",
       " 'uninstalld',\n",
       " 'kextd',\n",
       " 'fseventsd',\n",
       " 'mediaremoted',\n",
       " 'systemstats',\n",
       " 'configd']"
      ]
     },
     "execution_count": 5,
     "metadata": {},
     "output_type": "execute_result"
    }
   ],
   "source": [
    "import psutil\n",
    "[i.name() for i in psutil.process_iter()][:10]"
   ]
  },
  {
   "cell_type": "code",
   "execution_count": 22,
   "metadata": {
    "ExecuteTime": {
     "end_time": "2020-08-07T07:48:33.599830Z",
     "start_time": "2020-08-07T07:48:33.559956Z"
    }
   },
   "outputs": [
    {
     "data": {
      "text/plain": [
       "[(psutil.Process(pid=17958, name='java', started='15:23:54'),\n",
       "  [pconn(fd=206, family=<AddressFamily.AF_INET6: 30>, type=<SocketKind.SOCK_STREAM: 1>, laddr=addr(ip='::', port=30303), raddr=(), status='LISTEN'),\n",
       "   pconn(fd=207, family=<AddressFamily.AF_INET6: 30>, type=<SocketKind.SOCK_DGRAM: 2>, laddr=addr(ip='::', port=30303), raddr=(), status='NONE'),\n",
       "   pconn(fd=208, family=<AddressFamily.AF_INET6: 30>, type=<SocketKind.SOCK_DGRAM: 2>, laddr=addr(ip='::', port=0), raddr=(), status='NONE'),\n",
       "   pconn(fd=209, family=<AddressFamily.AF_INET6: 30>, type=<SocketKind.SOCK_DGRAM: 2>, laddr=addr(ip='::', port=0), raddr=(), status='NONE'),\n",
       "   pconn(fd=210, family=<AddressFamily.AF_INET6: 30>, type=<SocketKind.SOCK_STREAM: 1>, laddr=addr(ip='::127.0.0.1', port=8545), raddr=(), status='LISTEN'),\n",
       "   pconn(fd=211, family=<AddressFamily.AF_INET6: 30>, type=<SocketKind.SOCK_DGRAM: 2>, laddr=addr(ip='::', port=0), raddr=(), status='NONE'),\n",
       "   pconn(fd=212, family=<AddressFamily.AF_INET6: 30>, type=<SocketKind.SOCK_STREAM: 1>, laddr=addr(ip='::127.0.0.1', port=8546), raddr=(), status='LISTEN')])]"
      ]
     },
     "execution_count": 22,
     "metadata": {},
     "output_type": "execute_result"
    }
   ],
   "source": [
    "java_procs=[(i, i.connections()) for i in psutil.process_iter() if i.name()=='java']\n",
    "java_procs"
   ]
  },
  {
   "cell_type": "code",
   "execution_count": 28,
   "metadata": {
    "ExecuteTime": {
     "end_time": "2020-08-07T07:51:49.548963Z",
     "start_time": "2020-08-07T07:51:49.542813Z"
    }
   },
   "outputs": [
    {
     "data": {
      "text/plain": [
       "('127.0.0.1', 8545)"
      ]
     },
     "execution_count": 28,
     "metadata": {},
     "output_type": "execute_result"
    }
   ],
   "source": [
    "laddr"
   ]
  },
  {
   "cell_type": "code",
   "execution_count": 30,
   "metadata": {
    "ExecuteTime": {
     "end_time": "2020-08-07T07:55:24.391955Z",
     "start_time": "2020-08-07T07:55:24.384166Z"
    }
   },
   "outputs": [
    {
     "name": "stdout",
     "output_type": "stream",
     "text": [
      "False\n",
      "True\n",
      "\t [addr(ip='::', port=30303), addr(ip='::', port=30303), addr(ip='::', port=0), addr(ip='::', port=0), addr(ip='::127.0.0.1', port=8545), addr(ip='::', port=0), addr(ip='::127.0.0.1', port=8546)]\n"
     ]
    }
   ],
   "source": [
    "for proc,conns in java_procs:\n",
    "    print(laddr in [i.laddr for i in proc.connections()])\n",
    "    print(('::127.0.0.1', 8545) in [i.laddr for i in proc.connections()])\n",
    "    print('\\t', [i.laddr for i in proc.connections()])"
   ]
  },
  {
   "cell_type": "code",
   "execution_count": 21,
   "metadata": {
    "ExecuteTime": {
     "end_time": "2020-08-07T07:48:05.883240Z",
     "start_time": "2020-08-07T07:48:05.879596Z"
    }
   },
   "outputs": [],
   "source": [
    "from typing import Tuple\n",
    "\n",
    "# def check_connections(proc: psutil.Process, laddr: Tuple):\n",
    "#     return laddr in [i.laddr for i in proc.connections()]\n",
    "# [i for i in psutil.process_iter() if check_connections(i, laddr)]\n",
    "# [i.laddr for proc in psutil.process_iter() for i in proc.connections()]"
   ]
  },
  {
   "cell_type": "code",
   "execution_count": 31,
   "metadata": {
    "ExecuteTime": {
     "end_time": "2020-08-07T08:01:39.251770Z",
     "start_time": "2020-08-07T08:01:38.500972Z"
    }
   },
   "outputs": [],
   "source": [
    "from web3 import (\n",
    "            EthereumTesterProvider,\n",
    "            Web3,\n",
    "        )\n",
    "provider=Web3.HTTPProvider('http://127.0.0.1:8545')"
   ]
  },
  {
   "cell_type": "code",
   "execution_count": 33,
   "metadata": {
    "ExecuteTime": {
     "end_time": "2020-08-07T08:02:31.464558Z",
     "start_time": "2020-08-07T08:02:31.440119Z"
    }
   },
   "outputs": [
    {
     "data": {
      "text/plain": [
       "True"
      ]
     },
     "execution_count": 33,
     "metadata": {},
     "output_type": "execute_result"
    }
   ],
   "source": [
    "w3=Web3(provider)\n",
    "w3.isConnected()"
   ]
  },
  {
   "cell_type": "code",
   "execution_count": 34,
   "metadata": {
    "ExecuteTime": {
     "end_time": "2020-08-07T08:03:12.140742Z",
     "start_time": "2020-08-07T08:03:12.122231Z"
    }
   },
   "outputs": [
    {
     "data": {
      "text/plain": [
       "0"
      ]
     },
     "execution_count": 34,
     "metadata": {},
     "output_type": "execute_result"
    }
   ],
   "source": [
    "w3.eth.blockNumber"
   ]
  },
  {
   "cell_type": "markdown",
   "metadata": {},
   "source": [
    "⊕ [Accounts for Testing - Hyperledger Besu](https://besu.hyperledger.org/en/stable/Reference/Accounts-for-Testing/#development-mode)\n",
    "\n",
    "## Account 1 (Miner Coinbase Account)\n",
    "\n",
    "* Address: 0xfe3b557e8fb62b89f4916b721be55ceb828dbd73\n",
    "* Private key : 0x8f2a55949038a9610f50fb23b5883af3b4ecb3c3bb792cbcefbd1542c692be63\n",
    "* Initial balance : 0xad78ebc5ac6200000 (200000000000000000000 in decimal)"
   ]
  },
  {
   "cell_type": "code",
   "execution_count": 40,
   "metadata": {
    "ExecuteTime": {
     "end_time": "2020-08-07T08:07:32.046502Z",
     "start_time": "2020-08-07T08:07:32.023283Z"
    }
   },
   "outputs": [
    {
     "data": {
      "text/plain": [
       "200000000000000000000"
      ]
     },
     "execution_count": 40,
     "metadata": {},
     "output_type": "execute_result"
    }
   ],
   "source": [
    "# 0xfe3b557e8fb62b89f4916b721be55ceb828dbd73\n",
    "# w3.eth.getBalance('0x2F1875bbcb92361dd5C6407F5ff4Fa8f945bfB48')\n",
    "addr='0xfe3b557e8fb62b89f4916b721be55ceb828dbd73'\n",
    "w3_addr=Web3.toChecksumAddress(addr)\n",
    "w3.eth.getBalance(w3_addr)"
   ]
  },
  {
   "cell_type": "code",
   "execution_count": 41,
   "metadata": {
    "ExecuteTime": {
     "end_time": "2020-08-07T08:09:20.240147Z",
     "start_time": "2020-08-07T08:09:20.210067Z"
    }
   },
   "outputs": [
    {
     "data": {
      "text/plain": [
       "90000000000000000000000"
      ]
     },
     "execution_count": 41,
     "metadata": {},
     "output_type": "execute_result"
    }
   ],
   "source": [
    "addr='0x627306090abaB3A6e1400e9345bC60c78a8BEf57'\n",
    "w3_addr=Web3.toChecksumAddress(addr)\n",
    "w3.eth.getBalance(w3_addr)"
   ]
  }
 ],
 "metadata": {
  "kernelspec": {
   "display_name": "Python 3",
   "language": "python",
   "name": "python3"
  },
  "language_info": {
   "codemirror_mode": {
    "name": "ipython",
    "version": 3
   },
   "file_extension": ".py",
   "mimetype": "text/x-python",
   "name": "python",
   "nbconvert_exporter": "python",
   "pygments_lexer": "ipython3",
   "version": "3.7.7"
  },
  "varInspector": {
   "cols": {
    "lenName": 16,
    "lenType": 16,
    "lenVar": 40
   },
   "kernels_config": {
    "python": {
     "delete_cmd_postfix": "",
     "delete_cmd_prefix": "del ",
     "library": "var_list.py",
     "varRefreshCmd": "print(var_dic_list())"
    },
    "r": {
     "delete_cmd_postfix": ") ",
     "delete_cmd_prefix": "rm(",
     "library": "var_list.r",
     "varRefreshCmd": "cat(var_dic_list()) "
    }
   },
   "types_to_exclude": [
    "module",
    "function",
    "builtin_function_or_method",
    "instance",
    "_Feature"
   ],
   "window_display": false
  }
 },
 "nbformat": 4,
 "nbformat_minor": 4
}
