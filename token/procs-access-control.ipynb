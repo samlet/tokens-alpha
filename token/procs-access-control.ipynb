{
 "cells": [
  {
   "cell_type": "code",
   "execution_count": 1,
   "metadata": {
    "ExecuteTime": {
     "end_time": "2020-08-07T13:04:59.161665Z",
     "start_time": "2020-08-07T13:04:57.008864Z"
    }
   },
   "outputs": [
    {
     "name": "stdout",
     "output_type": "stream",
     "text": [
      "Attached to local RPC client listening at '127.0.0.1:8545'...\n"
     ]
    },
    {
     "data": {
      "text/plain": [
       "{'MappingExample': [],\n",
       " 'MappingTest': [],\n",
       " 'MyToken': [],\n",
       " 'Set': [],\n",
       " 'Token': [],\n",
       " 'SimpleAuction': [],\n",
       " 'SafeMath': [],\n",
       " 'GameItems': [],\n",
       " 'TestAdd': [],\n",
       " 'AccessRestriction': [],\n",
       " 'AccessControlMock': [],\n",
       " 'StateMachine': [],\n",
       " 'Ballot': [],\n",
       " 'ConvertLib': [],\n",
       " 'Bids': [],\n",
       " 'C': [],\n",
       " 'TestSet': [],\n",
       " 'Coin': [],\n",
       " 'WithdrawalContract': []}"
      ]
     },
     "execution_count": 1,
     "metadata": {},
     "output_type": "execute_result"
    }
   ],
   "source": [
    "from brownie import *\n",
    "p = project.load('../token', name=\"token\")\n",
    "p.load_config()\n",
    "from brownie.project.token import *\n",
    "network.connect('development')\n",
    "\n",
    "dict(p)"
   ]
  },
  {
   "cell_type": "code",
   "execution_count": 2,
   "metadata": {
    "ExecuteTime": {
     "end_time": "2020-08-07T13:04:59.174250Z",
     "start_time": "2020-08-07T13:04:59.166869Z"
    }
   },
   "outputs": [
    {
     "data": {
      "text/plain": [
       "brownie.network.web3.Web3"
      ]
     },
     "execution_count": 2,
     "metadata": {},
     "output_type": "execute_result"
    }
   ],
   "source": [
    "type(web3)"
   ]
  },
  {
   "cell_type": "code",
   "execution_count": 3,
   "metadata": {
    "ExecuteTime": {
     "end_time": "2020-08-07T13:05:00.089996Z",
     "start_time": "2020-08-07T13:04:59.188662Z"
    }
   },
   "outputs": [
    {
     "data": {
      "text/plain": [
       "Decimal('100')"
      ]
     },
     "execution_count": 3,
     "metadata": {},
     "output_type": "execute_result"
    }
   ],
   "source": [
    "from bluefn.eth.helper import balance\n",
    "balance(web3, accounts[0].address)"
   ]
  },
  {
   "cell_type": "code",
   "execution_count": 4,
   "metadata": {
    "ExecuteTime": {
     "end_time": "2020-08-07T13:05:00.118829Z",
     "start_time": "2020-08-07T13:05:00.095967Z"
    }
   },
   "outputs": [
    {
     "data": {
      "text/plain": [
       "100000000000000000000"
      ]
     },
     "execution_count": 4,
     "metadata": {},
     "output_type": "execute_result"
    }
   ],
   "source": [
    "w3=web3\n",
    "customer=accounts[1]\n",
    "w3.eth.getBalance(customer.address)"
   ]
  },
  {
   "cell_type": "code",
   "execution_count": 5,
   "metadata": {
    "ExecuteTime": {
     "end_time": "2020-08-07T13:05:00.183025Z",
     "start_time": "2020-08-07T13:05:00.132971Z"
    }
   },
   "outputs": [
    {
     "data": {
      "text/plain": [
       "13"
      ]
     },
     "execution_count": 5,
     "metadata": {},
     "output_type": "execute_result"
    }
   ],
   "source": [
    "len(accounts)"
   ]
  },
  {
   "cell_type": "code",
   "execution_count": 6,
   "metadata": {
    "ExecuteTime": {
     "end_time": "2020-08-07T13:05:00.203345Z",
     "start_time": "2020-08-07T13:05:00.197624Z"
    }
   },
   "outputs": [],
   "source": [
    "admin, authorized, otherAuthorized, other, otherAdmin, *others  = accounts"
   ]
  },
  {
   "cell_type": "code",
   "execution_count": 7,
   "metadata": {
    "ExecuteTime": {
     "end_time": "2020-08-07T13:05:00.213594Z",
     "start_time": "2020-08-07T13:05:00.206875Z"
    }
   },
   "outputs": [
    {
     "data": {
      "text/plain": [
       "[<Account '0x807c47A89F720fe4Ee9b8343c286Fc886f43191b'>,\n",
       " <Account '0x844ec86426F076647A5362706a04570A5965473B'>,\n",
       " <Account '0x23BB2Bb6c340D4C91cAa478EdF6593fC5c4a6d4B'>,\n",
       " <Account '0xA868bC7c1AF08B8831795FAC946025557369F69C'>,\n",
       " <Account '0x1CEE82EEd89Bd5Be5bf2507a92a755dcF1D8e8dc'>,\n",
       " <Account '0x2F1875bbcb92361dd5C6407F5ff4Fa8f945bfB48'>,\n",
       " <Account '0xbDAbfB8DaAAD562C2DF7E7B63DE422482AB1fB02'>,\n",
       " <Account '0x6Ac7cFDaFEfe8Bf03b612c7EC93b50a107d451F3'>]"
      ]
     },
     "execution_count": 7,
     "metadata": {},
     "output_type": "execute_result"
    }
   ],
   "source": [
    "others"
   ]
  },
  {
   "cell_type": "code",
   "execution_count": 8,
   "metadata": {
    "ExecuteTime": {
     "end_time": "2020-08-07T13:05:00.819206Z",
     "start_time": "2020-08-07T13:05:00.216974Z"
    }
   },
   "outputs": [
    {
     "name": "stdout",
     "output_type": "stream",
     "text": [
      "Transaction sent: 0x329b8aebd72ac0775759569377f55f5c7bbc2028e1353cc93d5f59287f14a8b2\n",
      "  Gas price: 0.0 gwei   Gas limit: 12000000\n",
      "  AccessControlMock.constructor confirmed - Block: 1   Gas used: 544399 (4.54%)\n",
      "  AccessControlMock deployed at: 0x3194cBDC3dbcd3E11a07892e7bA5c3394048Cc87\n",
      "\n"
     ]
    },
    {
     "data": {
      "text/plain": [
       "<AccessControlMock Contract '0x3194cBDC3dbcd3E11a07892e7bA5c3394048Cc87'>"
      ]
     },
     "execution_count": 8,
     "metadata": {},
     "output_type": "execute_result"
    }
   ],
   "source": [
    "f= AccessControlMock.deploy({'from': admin})\n",
    "f"
   ]
  },
  {
   "cell_type": "code",
   "execution_count": 9,
   "metadata": {
    "ExecuteTime": {
     "end_time": "2020-08-07T13:05:00.860154Z",
     "start_time": "2020-08-07T13:05:00.840274Z"
    }
   },
   "outputs": [
    {
     "data": {
      "text/plain": [
       "HexBytes('0xcc05e07d7992ac0aef2f3634a2b6e8ed1fd04c348e1b9de17e541725c2b555e3')"
      ]
     },
     "execution_count": 9,
     "metadata": {},
     "output_type": "execute_result"
    }
   ],
   "source": [
    "from web3 import Web3\n",
    "Web3.soliditySha3(['bytes32', 'bytes32'], [b'role1', b'role2'])"
   ]
  },
  {
   "cell_type": "code",
   "execution_count": 10,
   "metadata": {
    "ExecuteTime": {
     "end_time": "2020-08-07T13:05:00.906121Z",
     "start_time": "2020-08-07T13:05:00.894015Z"
    }
   },
   "outputs": [],
   "source": [
    "DEFAULT_ADMIN_ROLE = '0x0000000000000000000000000000000000000000000000000000000000000000'"
   ]
  },
  {
   "cell_type": "code",
   "execution_count": 11,
   "metadata": {
    "ExecuteTime": {
     "end_time": "2020-08-07T13:05:01.015628Z",
     "start_time": "2020-08-07T13:05:00.918320Z"
    }
   },
   "outputs": [
    {
     "data": {
      "text/plain": [
       "True"
      ]
     },
     "execution_count": 11,
     "metadata": {},
     "output_type": "execute_result"
    }
   ],
   "source": [
    "from web3 import Web3\n",
    "ROLE=Web3.soliditySha3(['bytes32'], [b'ROLE'])\n",
    "f.getRoleAdmin(ROLE)==DEFAULT_ADMIN_ROLE"
   ]
  },
  {
   "cell_type": "code",
   "execution_count": 12,
   "metadata": {
    "ExecuteTime": {
     "end_time": "2020-08-07T13:05:01.032192Z",
     "start_time": "2020-08-07T13:05:01.020030Z"
    }
   },
   "outputs": [
    {
     "data": {
      "text/plain": [
       "HexBytes('0xed9ea7bc2a13bc59432ab07436e7f7f5450f82d4b48c401bed177bfaf36b1873')"
      ]
     },
     "execution_count": 12,
     "metadata": {},
     "output_type": "execute_result"
    }
   ],
   "source": [
    "ROLE"
   ]
  },
  {
   "cell_type": "code",
   "execution_count": 13,
   "metadata": {
    "ExecuteTime": {
     "end_time": "2020-08-07T13:05:01.131879Z",
     "start_time": "2020-08-07T13:05:01.040157Z"
    }
   },
   "outputs": [
    {
     "data": {
      "text/plain": [
       "True"
      ]
     },
     "execution_count": 13,
     "metadata": {},
     "output_type": "execute_result"
    }
   ],
   "source": [
    "f.hasRole(DEFAULT_ADMIN_ROLE, admin)"
   ]
  },
  {
   "cell_type": "code",
   "execution_count": 14,
   "metadata": {
    "ExecuteTime": {
     "end_time": "2020-08-07T13:05:01.407585Z",
     "start_time": "2020-08-07T13:05:01.140246Z"
    }
   },
   "outputs": [
    {
     "name": "stdout",
     "output_type": "stream",
     "text": [
      "Transaction sent: 0x7c4a1c0cceb5b3fc39e6654e5dd55f5e34953e47cd4f89da4fb9ab98f641380a\n",
      "  Gas price: 0.0 gwei   Gas limit: 12000000\n",
      "  AccessControlMock.grantRole confirmed - Block: 2   Gas used: 89164 (0.74%)\n",
      "\n"
     ]
    },
    {
     "data": {
      "text/plain": [
       "{'RoleGranted': [OrderedDict([('role', 0xed9ea7bc2a13bc59432ab07436e7f7f5450f82d4b48c401bed177bfaf36b1873), ('account', '0x33A4622B82D4c04a53e170c638B944ce27cffce3'), ('sender', '0x66aB6D9362d4F35596279692F0251Db635165871')])]}"
      ]
     },
     "execution_count": 14,
     "metadata": {},
     "output_type": "execute_result"
    }
   ],
   "source": [
    "accessControl=f\n",
    "tx=accessControl.grantRole(ROLE, authorized, { 'from': admin })\n",
    "tx.events"
   ]
  },
  {
   "cell_type": "code",
   "execution_count": 15,
   "metadata": {
    "ExecuteTime": {
     "end_time": "2020-08-07T13:05:01.511766Z",
     "start_time": "2020-08-07T13:05:01.416743Z"
    }
   },
   "outputs": [
    {
     "data": {
      "text/plain": [
       "True"
      ]
     },
     "execution_count": 15,
     "metadata": {},
     "output_type": "execute_result"
    }
   ],
   "source": [
    "accessControl.hasRole(ROLE, authorized)"
   ]
  },
  {
   "cell_type": "code",
   "execution_count": 16,
   "metadata": {
    "ExecuteTime": {
     "end_time": "2020-08-07T13:05:01.529453Z",
     "start_time": "2020-08-07T13:05:01.519570Z"
    }
   },
   "outputs": [
    {
     "data": {
      "text/plain": [
       "['0x66aB6D9362d4F35596279692F0251Db635165871',\n",
       " '0x33A4622B82D4c04a53e170c638B944ce27cffce3',\n",
       " '0x0063046686E46Dc6F15918b61AE2B121458534a5',\n",
       " '0x21b42413bA931038f35e7A5224FaDb065d297Ba3',\n",
       " '0x46C0a5326E643E4f71D3149d50B48216e174Ae84',\n",
       " '0x807c47A89F720fe4Ee9b8343c286Fc886f43191b',\n",
       " '0x844ec86426F076647A5362706a04570A5965473B',\n",
       " '0x23BB2Bb6c340D4C91cAa478EdF6593fC5c4a6d4B',\n",
       " '0xA868bC7c1AF08B8831795FAC946025557369F69C',\n",
       " '0x1CEE82EEd89Bd5Be5bf2507a92a755dcF1D8e8dc',\n",
       " '0x2F1875bbcb92361dd5C6407F5ff4Fa8f945bfB48',\n",
       " '0xbDAbfB8DaAAD562C2DF7E7B63DE422482AB1fB02',\n",
       " '0x6Ac7cFDaFEfe8Bf03b612c7EC93b50a107d451F3']"
      ]
     },
     "execution_count": 16,
     "metadata": {},
     "output_type": "execute_result"
    }
   ],
   "source": [
    "[acc.address for acc in accounts]"
   ]
  },
  {
   "cell_type": "code",
   "execution_count": 17,
   "metadata": {
    "ExecuteTime": {
     "end_time": "2020-08-07T13:05:01.569782Z",
     "start_time": "2020-08-07T13:05:01.539568Z"
    }
   },
   "outputs": [
    {
     "data": {
      "text/plain": [
       "(<Account '0x6Ac7cFDaFEfe8Bf03b612c7EC93b50a107d451F3'>, 0)"
      ]
     },
     "execution_count": 17,
     "metadata": {},
     "output_type": "execute_result"
    }
   ],
   "source": [
    "accounts[-1], w3.eth.getBalance(accounts[-1].address)"
   ]
  },
  {
   "cell_type": "code",
   "execution_count": 18,
   "metadata": {
    "ExecuteTime": {
     "end_time": "2020-08-07T13:05:01.607574Z",
     "start_time": "2020-08-07T13:05:01.577801Z"
    }
   },
   "outputs": [
    {
     "data": {
      "text/plain": [
       "0"
      ]
     },
     "execution_count": 18,
     "metadata": {},
     "output_type": "execute_result"
    }
   ],
   "source": [
    "dev=accounts[-1]\n",
    "dev.balance()"
   ]
  },
  {
   "cell_type": "code",
   "execution_count": 19,
   "metadata": {
    "ExecuteTime": {
     "end_time": "2020-08-07T13:05:01.927792Z",
     "start_time": "2020-08-07T13:05:01.614398Z"
    }
   },
   "outputs": [
    {
     "name": "stdout",
     "output_type": "stream",
     "text": [
      "Transaction sent: 0xdd9c02894ef74051c15d9c9ac63046a6390f6e52a96978595d064073c3a6c28b\n",
      "  Gas price: 0.0 gwei   Gas limit: 12000000\n",
      "  Transaction confirmed - Block: 3   Gas used: 21000 (0.18%)\n",
      "\n"
     ]
    },
    {
     "data": {
      "text/plain": [
       "(10000000000000000000, 90000000000000000000)"
      ]
     },
     "execution_count": 19,
     "metadata": {},
     "output_type": "execute_result"
    }
   ],
   "source": [
    "accounts[0].transfer(dev, \"10 ether\")\n",
    "dev.balance(), accounts[0].balance()"
   ]
  },
  {
   "cell_type": "code",
   "execution_count": 21,
   "metadata": {
    "ExecuteTime": {
     "end_time": "2020-08-07T13:07:33.098107Z",
     "start_time": "2020-08-07T13:07:33.090672Z"
    }
   },
   "outputs": [
    {
     "data": {
      "text/plain": [
       "HexBytes('0x1c8aff950685c2ed4bc3174f3472287b56d9517b9c948127319a09a7a36deac8')"
      ]
     },
     "execution_count": 21,
     "metadata": {},
     "output_type": "execute_result"
    }
   ],
   "source": [
    "from bluefn.eth.helper import *\n",
    "role('hello')"
   ]
  },
  {
   "cell_type": "code",
   "execution_count": 23,
   "metadata": {
    "ExecuteTime": {
     "end_time": "2020-08-07T13:11:03.711377Z",
     "start_time": "2020-08-07T13:11:03.348077Z"
    }
   },
   "outputs": [
    {
     "name": "stdout",
     "output_type": "stream",
     "text": [
      "Transaction sent: 0x5ca177249c6e74dd90f99d7a670b8004dd856dc08f4a30f12f86eba8fdee0c48\n",
      "  Gas price: 0.0 gwei   Gas limit: 12000000\n",
      "  MyToken.constructor confirmed - Block: 5   Gas used: 1342169 (11.18%)\n",
      "  MyToken deployed at: 0xe0aA552A10d7EC8760Fc6c246D391E698a82dDf9\n",
      "\n"
     ]
    }
   ],
   "source": [
    "MINTER_ROLE=role('MINTER_ROLE')\n",
    "myToken= MyToken.deploy({'from': admin})"
   ]
  },
  {
   "cell_type": "code",
   "execution_count": 26,
   "metadata": {
    "ExecuteTime": {
     "end_time": "2020-08-07T13:13:39.455020Z",
     "start_time": "2020-08-07T13:13:39.370182Z"
    }
   },
   "outputs": [
    {
     "data": {
      "text/plain": [
       "1"
      ]
     },
     "execution_count": 26,
     "metadata": {},
     "output_type": "execute_result"
    }
   ],
   "source": [
    "minterCount = myToken.getRoleMemberCount(MINTER_ROLE)\n",
    "minterCount"
   ]
  },
  {
   "cell_type": "code",
   "execution_count": 27,
   "metadata": {
    "ExecuteTime": {
     "end_time": "2020-08-07T13:14:34.149547Z",
     "start_time": "2020-08-07T13:14:33.649227Z"
    }
   },
   "outputs": [
    {
     "name": "stdout",
     "output_type": "stream",
     "text": [
      "Transaction sent: 0x301c0f60ad5f6dd0dd8f798870eddbb3af9ce68689c2f425e92e99f11a744e8e\n",
      "  Gas price: 0.0 gwei   Gas limit: 12000000\n",
      "  MyToken.grantRole confirmed - Block: 7   Gas used: 25398 (0.21%)\n",
      "\n",
      "Transaction sent: 0x21798637cbe93139b89a3aed66c3c8430fac1758582905bbd3edaae6c5599b39\n",
      "  Gas price: 0.0 gwei   Gas limit: 12000000\n",
      "  MyToken.grantRole confirmed - Block: 8   Gas used: 74131 (0.62%)\n",
      "\n"
     ]
    },
    {
     "data": {
      "text/plain": [
       "<Transaction '\u001b[0;m0x21798637cbe93139b89a3aed66c3c8430fac1758582905bbd3edaae6c5599b39\u001b[0;m'>"
      ]
     },
     "execution_count": 27,
     "metadata": {},
     "output_type": "execute_result"
    }
   ],
   "source": [
    "myToken.grantRole(MINTER_ROLE, authorized, { 'from': admin })\n",
    "myToken.grantRole(MINTER_ROLE, otherAuthorized, { 'from': admin })"
   ]
  },
  {
   "cell_type": "code",
   "execution_count": 30,
   "metadata": {
    "ExecuteTime": {
     "end_time": "2020-08-07T13:16:02.129376Z",
     "start_time": "2020-08-07T13:16:02.055749Z"
    }
   },
   "outputs": [
    {
     "data": {
      "text/plain": [
       "(2, [0, 1])"
      ]
     },
     "execution_count": 30,
     "metadata": {},
     "output_type": "execute_result"
    }
   ],
   "source": [
    "minterCount = myToken.getRoleMemberCount(MINTER_ROLE)\n",
    "minterCount, [i for i in range(minterCount)]"
   ]
  },
  {
   "cell_type": "code",
   "execution_count": 32,
   "metadata": {
    "ExecuteTime": {
     "end_time": "2020-08-07T13:16:33.419391Z",
     "start_time": "2020-08-07T13:16:33.305290Z"
    }
   },
   "outputs": [
    {
     "data": {
      "text/plain": [
       "['0x33A4622B82D4c04a53e170c638B944ce27cffce3',\n",
       " '0x0063046686E46Dc6F15918b61AE2B121458534a5']"
      ]
     },
     "execution_count": 32,
     "metadata": {},
     "output_type": "execute_result"
    }
   ],
   "source": [
    "[myToken.getRoleMember(MINTER_ROLE, i) for i in range(minterCount)]"
   ]
  }
 ],
 "metadata": {
  "kernelspec": {
   "display_name": "Python 3",
   "language": "python",
   "name": "python3"
  },
  "language_info": {
   "codemirror_mode": {
    "name": "ipython",
    "version": 3
   },
   "file_extension": ".py",
   "mimetype": "text/x-python",
   "name": "python",
   "nbconvert_exporter": "python",
   "pygments_lexer": "ipython3",
   "version": "3.7.7"
  },
  "varInspector": {
   "cols": {
    "lenName": 16,
    "lenType": 16,
    "lenVar": 40
   },
   "kernels_config": {
    "python": {
     "delete_cmd_postfix": "",
     "delete_cmd_prefix": "del ",
     "library": "var_list.py",
     "varRefreshCmd": "print(var_dic_list())"
    },
    "r": {
     "delete_cmd_postfix": ") ",
     "delete_cmd_prefix": "rm(",
     "library": "var_list.r",
     "varRefreshCmd": "cat(var_dic_list()) "
    }
   },
   "types_to_exclude": [
    "module",
    "function",
    "builtin_function_or_method",
    "instance",
    "_Feature"
   ],
   "window_display": false
  }
 },
 "nbformat": 4,
 "nbformat_minor": 4
}
