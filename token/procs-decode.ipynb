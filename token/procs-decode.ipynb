{
 "cells": [
  {
   "cell_type": "code",
   "execution_count": 1,
   "metadata": {
    "ExecuteTime": {
     "end_time": "2020-08-09T05:47:32.753415Z",
     "start_time": "2020-08-09T05:47:30.886847Z"
    }
   },
   "outputs": [
    {
     "name": "stdout",
     "output_type": "stream",
     "text": [
      "Attached to local RPC client listening at '127.0.0.1:8545'...\n"
     ]
    },
    {
     "data": {
      "text/plain": [
       "{'ERC20DecimalsMock': [],\n",
       " 'MappingExample': [],\n",
       " 'MappingTest': [],\n",
       " 'MyToken': [],\n",
       " 'Set': [],\n",
       " 'Token': [],\n",
       " 'SimpleAuction': [],\n",
       " 'SafeMath': [],\n",
       " 'GameItems': [],\n",
       " 'ERC20Mock': [],\n",
       " 'GLDToken': [],\n",
       " 'TestAdd': [],\n",
       " 'SimpleStore': [],\n",
       " 'AccessRestriction': [],\n",
       " 'AccessControlMock': [],\n",
       " 'StateMachine': [],\n",
       " 'Decode': [],\n",
       " 'ERC20CappedMock': [],\n",
       " 'Ballot': [],\n",
       " 'ConvertLib': [],\n",
       " 'Bids': [],\n",
       " 'ERC20BurnableMock': [],\n",
       " 'ERC20PausableMock': [],\n",
       " 'Adoption': [],\n",
       " 'C': [],\n",
       " 'TestSet': [],\n",
       " 'Storage': [],\n",
       " 'Coin': [],\n",
       " 'ERC20SnapshotMock': [],\n",
       " 'WithdrawalContract': []}"
      ]
     },
     "execution_count": 1,
     "metadata": {},
     "output_type": "execute_result"
    }
   ],
   "source": [
    "from brownie import *\n",
    "p = project.load('../token', name=\"token\")\n",
    "p.load_config()\n",
    "from brownie.project.token import *\n",
    "network.connect('development')\n",
    "\n",
    "dict(p)"
   ]
  },
  {
   "cell_type": "code",
   "execution_count": 2,
   "metadata": {
    "ExecuteTime": {
     "end_time": "2020-08-09T05:47:56.411931Z",
     "start_time": "2020-08-09T05:47:56.198521Z"
    }
   },
   "outputs": [
    {
     "name": "stdout",
     "output_type": "stream",
     "text": [
      "Transaction sent: \u001b[0;1;34m0xdf5a52e8004f82cebdc24dedb403555094c7a29c466e39b33a8d44b8fe5561a5\u001b[0;m\n",
      "  Gas price: \u001b[0;1;34m0.0\u001b[0;m gwei   Gas limit: \u001b[0;1;34m6721975\u001b[0;m\n",
      "  Decode.constructor confirmed - Block: \u001b[0;1;34m1\u001b[0;m   Gas used: \u001b[0;1;34m301923\u001b[0;m (\u001b[0;1;34m4.49%\u001b[0;m)\n",
      "  Decode deployed at: \u001b[0;1;34m0xe78A0F7E598Cc8b0Bb87894B0F60dD2a88d6a8Ab\u001b[0;m\n",
      "\n"
     ]
    }
   ],
   "source": [
    "f=Decode.deploy({'from':accounts[0]})"
   ]
  },
  {
   "cell_type": "code",
   "execution_count": 4,
   "metadata": {
    "ExecuteTime": {
     "end_time": "2020-08-09T05:48:18.091421Z",
     "start_time": "2020-08-09T05:48:16.578924Z"
    }
   },
   "outputs": [
    {
     "name": "stdout",
     "output_type": "stream",
     "text": [
      "Transaction sent: \u001b[0;1;34m0x5686957b03ec90042bc0409f956bdd5fa16d84e38c6fa1d2ef1978be72210a47\u001b[0;m\n",
      "  Gas price: \u001b[0;1;34m0.0\u001b[0;m gwei   Gas limit: \u001b[0;1;34m6721975\u001b[0;m\n",
      "  Decode.decode confirmed - Block: \u001b[0;1;34m3\u001b[0;m   Gas used: \u001b[0;1;34m48108\u001b[0;m (\u001b[0;1;34m0.72%\u001b[0;m)\n",
      "\n"
     ]
    },
    {
     "data": {
      "text/plain": [
       "'0x60320b8a71bC314404eF7d194Ad8cAC0bEe1e331'"
      ]
     },
     "execution_count": 4,
     "metadata": {},
     "output_type": "execute_result"
    }
   ],
   "source": [
    "tx=f.decode()\n",
    "tx.return_value"
   ]
  }
 ],
 "metadata": {
  "kernelspec": {
   "display_name": "Python 3",
   "language": "python",
   "name": "python3"
  },
  "language_info": {
   "codemirror_mode": {
    "name": "ipython",
    "version": 3
   },
   "file_extension": ".py",
   "mimetype": "text/x-python",
   "name": "python",
   "nbconvert_exporter": "python",
   "pygments_lexer": "ipython3",
   "version": "3.7.7"
  },
  "varInspector": {
   "cols": {
    "lenName": 16,
    "lenType": 16,
    "lenVar": 40
   },
   "kernels_config": {
    "python": {
     "delete_cmd_postfix": "",
     "delete_cmd_prefix": "del ",
     "library": "var_list.py",
     "varRefreshCmd": "print(var_dic_list())"
    },
    "r": {
     "delete_cmd_postfix": ") ",
     "delete_cmd_prefix": "rm(",
     "library": "var_list.r",
     "varRefreshCmd": "cat(var_dic_list()) "
    }
   },
   "types_to_exclude": [
    "module",
    "function",
    "builtin_function_or_method",
    "instance",
    "_Feature"
   ],
   "window_display": false
  }
 },
 "nbformat": 4,
 "nbformat_minor": 4
}
