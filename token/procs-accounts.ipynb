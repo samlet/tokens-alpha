{
 "cells": [
  {
   "cell_type": "code",
   "execution_count": 1,
   "metadata": {
    "ExecuteTime": {
     "end_time": "2020-08-07T06:06:53.676339Z",
     "start_time": "2020-08-07T06:06:52.025166Z"
    }
   },
   "outputs": [
    {
     "name": "stdout",
     "output_type": "stream",
     "text": [
      "Attached to local RPC client listening at '127.0.0.1:8545'...\n"
     ]
    },
    {
     "name": "stderr",
     "output_type": "stream",
     "text": [
      "/Users/xiaofeiwu/miniconda3/envs/bigdata/lib/python3.7/site-packages/brownie/network/main.py:45: BrownieEnvironmentWarning: Development network has a block height of 5\n",
      "  BrownieEnvironmentWarning,\n"
     ]
    },
    {
     "data": {
      "text/plain": [
       "{'MappingExample': [],\n",
       " 'MappingTest': [],\n",
       " 'Set': [],\n",
       " 'Token': [],\n",
       " 'SafeMath': [],\n",
       " 'GameItems': [],\n",
       " 'TestAdd': [],\n",
       " 'AccessRestriction': [],\n",
       " 'AccessControlMock': [],\n",
       " 'StateMachine': [],\n",
       " 'ConvertLib': [],\n",
       " 'TestSet': [],\n",
       " 'WithdrawalContract': []}"
      ]
     },
     "execution_count": 1,
     "metadata": {},
     "output_type": "execute_result"
    }
   ],
   "source": [
    "from brownie import *\n",
    "p = project.load('../token', name=\"token\")\n",
    "p.load_config()\n",
    "from brownie.project.token import *\n",
    "network.connect('development')\n",
    "\n",
    "dict(p)"
   ]
  },
  {
   "cell_type": "code",
   "execution_count": 2,
   "metadata": {
    "ExecuteTime": {
     "end_time": "2020-08-07T06:06:53.715297Z",
     "start_time": "2020-08-07T06:06:53.682728Z"
    }
   },
   "outputs": [
    {
     "data": {
      "text/plain": [
       "(<Chain object (chainid=1337, height=5)>, 5)"
      ]
     },
     "execution_count": 2,
     "metadata": {},
     "output_type": "execute_result"
    }
   ],
   "source": [
    "chain, web3.eth.blockNumber"
   ]
  },
  {
   "cell_type": "code",
   "execution_count": 3,
   "metadata": {
    "ExecuteTime": {
     "end_time": "2020-08-07T06:06:53.738154Z",
     "start_time": "2020-08-07T06:06:53.721340Z"
    }
   },
   "outputs": [],
   "source": [
    "# ?accounts.load"
   ]
  },
  {
   "cell_type": "code",
   "execution_count": 4,
   "metadata": {
    "ExecuteTime": {
     "end_time": "2020-08-07T06:07:11.089847Z",
     "start_time": "2020-08-07T06:06:53.745916Z"
    }
   },
   "outputs": [
    {
     "name": "stdout",
     "output_type": "stream",
     "text": [
      "Enter the password to unlock this account: ········\n"
     ]
    },
    {
     "data": {
      "text/plain": [
       "<Account '0x2F1875bbcb92361dd5C6407F5ff4Fa8f945bfB48'>"
      ]
     },
     "execution_count": 4,
     "metadata": {},
     "output_type": "execute_result"
    }
   ],
   "source": [
    "acct = accounts.load('samlet')\n",
    "acct"
   ]
  },
  {
   "cell_type": "code",
   "execution_count": 5,
   "metadata": {
    "ExecuteTime": {
     "end_time": "2020-08-07T06:07:11.112646Z",
     "start_time": "2020-08-07T06:07:11.093379Z"
    }
   },
   "outputs": [
    {
     "data": {
      "text/plain": [
       "'0x2F1875bbcb92361dd5C6407F5ff4Fa8f945bfB48'"
      ]
     },
     "execution_count": 5,
     "metadata": {},
     "output_type": "execute_result"
    }
   ],
   "source": [
    "acct.address"
   ]
  },
  {
   "cell_type": "code",
   "execution_count": 6,
   "metadata": {
    "ExecuteTime": {
     "end_time": "2020-08-07T06:07:11.173052Z",
     "start_time": "2020-08-07T06:07:11.131671Z"
    }
   },
   "outputs": [
    {
     "data": {
      "text/plain": [
       "(0, 70000000000000000000)"
      ]
     },
     "execution_count": 6,
     "metadata": {},
     "output_type": "execute_result"
    }
   ],
   "source": [
    "web3.eth.getBalance(acct.address), web3.eth.getBalance(accounts[0].address)"
   ]
  },
  {
   "cell_type": "code",
   "execution_count": 7,
   "metadata": {
    "ExecuteTime": {
     "end_time": "2020-08-07T06:07:11.534263Z",
     "start_time": "2020-08-07T06:07:11.177654Z"
    }
   },
   "outputs": [
    {
     "name": "stdout",
     "output_type": "stream",
     "text": [
      "Transaction sent: \u001b[0;1;34m0x69b260fd7571e44830be035d0130e0f13fd35ea66e01e62bdb39aaa89294db23\u001b[0;m\n",
      "  Gas price: \u001b[0;1;34m0.0\u001b[0;m gwei   Gas limit: \u001b[0;1;34m12000000\u001b[0;m\n",
      "  Token.constructor confirmed - Block: \u001b[0;1;34m6\u001b[0;m   Gas used: \u001b[0;1;34m516435\u001b[0;m (\u001b[0;1;34m4.30%\u001b[0;m)\n",
      "  Token deployed at: \u001b[0;1;34m0x4F5bC230B38F5EC236B2D7C9b70f9D181e580eC9\u001b[0;m\n",
      "\n"
     ]
    },
    {
     "data": {
      "text/plain": [
       "<Token Contract '0x4F5bC230B38F5EC236B2D7C9b70f9D181e580eC9'>"
      ]
     },
     "execution_count": 7,
     "metadata": {},
     "output_type": "execute_result"
    }
   ],
   "source": [
    "Token.deploy(\"My Real Token\", \"RLT\", 18, 1e28, {'from': acct})"
   ]
  },
  {
   "cell_type": "code",
   "execution_count": 8,
   "metadata": {
    "ExecuteTime": {
     "end_time": "2020-08-07T06:07:11.558731Z",
     "start_time": "2020-08-07T06:07:11.545704Z"
    }
   },
   "outputs": [
    {
     "data": {
      "text/plain": [
       "brownie.network.contract.ContractContainer"
      ]
     },
     "execution_count": 8,
     "metadata": {},
     "output_type": "execute_result"
    }
   ],
   "source": [
    "type(Token)"
   ]
  },
  {
   "cell_type": "code",
   "execution_count": 9,
   "metadata": {
    "ExecuteTime": {
     "end_time": "2020-08-07T06:07:11.763512Z",
     "start_time": "2020-08-07T06:07:11.570500Z"
    }
   },
   "outputs": [
    {
     "name": "stdout",
     "output_type": "stream",
     "text": [
      "Transaction sent: \u001b[0;1;34m0x10e23fcf0762e082e0075b65d6d470bbdd3d587ee3457e7a07b5347337f2a689\u001b[0;m\n",
      "  Gas price: \u001b[0;1;34m0.0\u001b[0;m gwei   Gas limit: \u001b[0;1;34m12000000\u001b[0;m\n",
      "  Transaction confirmed - Block: \u001b[0;1;34m7\u001b[0;m   Gas used: \u001b[0;1;34m21000\u001b[0;m (\u001b[0;1;34m0.18%\u001b[0;m)\n",
      "\n"
     ]
    },
    {
     "data": {
      "text/plain": [
       "(30000000000000000000, 60000000000000000000)"
      ]
     },
     "execution_count": 9,
     "metadata": {},
     "output_type": "execute_result"
    }
   ],
   "source": [
    "dev=accounts[-1]\n",
    "dev.balance()\n",
    "accounts[0].transfer(dev, \"10 ether\")\n",
    "dev.balance(), accounts[0].balance()"
   ]
  }
 ],
 "metadata": {
  "kernelspec": {
   "display_name": "Python 3",
   "language": "python",
   "name": "python3"
  },
  "language_info": {
   "codemirror_mode": {
    "name": "ipython",
    "version": 3
   },
   "file_extension": ".py",
   "mimetype": "text/x-python",
   "name": "python",
   "nbconvert_exporter": "python",
   "pygments_lexer": "ipython3",
   "version": "3.7.7"
  },
  "varInspector": {
   "cols": {
    "lenName": 16,
    "lenType": 16,
    "lenVar": 40
   },
   "kernels_config": {
    "python": {
     "delete_cmd_postfix": "",
     "delete_cmd_prefix": "del ",
     "library": "var_list.py",
     "varRefreshCmd": "print(var_dic_list())"
    },
    "r": {
     "delete_cmd_postfix": ") ",
     "delete_cmd_prefix": "rm(",
     "library": "var_list.r",
     "varRefreshCmd": "cat(var_dic_list()) "
    }
   },
   "types_to_exclude": [
    "module",
    "function",
    "builtin_function_or_method",
    "instance",
    "_Feature"
   ],
   "window_display": false
  }
 },
 "nbformat": 4,
 "nbformat_minor": 4
}
