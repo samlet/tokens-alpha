{
 "cells": [
  {
   "cell_type": "code",
   "execution_count": 1,
   "metadata": {
    "ExecuteTime": {
     "end_time": "2020-08-07T15:57:09.481520Z",
     "start_time": "2020-08-07T15:57:07.352463Z"
    }
   },
   "outputs": [
    {
     "name": "stdout",
     "output_type": "stream",
     "text": [
      "Attached to local RPC client listening at '127.0.0.1:8545'...\n"
     ]
    },
    {
     "data": {
      "text/plain": [
       "{'ERC20DecimalsMock': [],\n",
       " 'MappingExample': [],\n",
       " 'MappingTest': [],\n",
       " 'MyToken': [],\n",
       " 'Set': [],\n",
       " 'Token': [],\n",
       " 'SimpleAuction': [],\n",
       " 'SafeMath': [],\n",
       " 'GameItems': [],\n",
       " 'ERC20Mock': [],\n",
       " 'GLDToken': [],\n",
       " 'TestAdd': [],\n",
       " 'AccessRestriction': [],\n",
       " 'AccessControlMock': [],\n",
       " 'StateMachine': [],\n",
       " 'ERC20CappedMock': [],\n",
       " 'Ballot': [],\n",
       " 'ConvertLib': [],\n",
       " 'Bids': [],\n",
       " 'ERC20BurnableMock': [],\n",
       " 'ERC20PausableMock': [],\n",
       " 'Adoption': [],\n",
       " 'C': [],\n",
       " 'TestSet': [],\n",
       " 'Coin': [],\n",
       " 'ERC20SnapshotMock': [],\n",
       " 'WithdrawalContract': []}"
      ]
     },
     "execution_count": 1,
     "metadata": {},
     "output_type": "execute_result"
    }
   ],
   "source": [
    "from brownie import *\n",
    "p = project.load('../token', name=\"token\")\n",
    "p.load_config()\n",
    "from brownie.project.token import *\n",
    "network.connect('development')\n",
    "\n",
    "dict(p)"
   ]
  },
  {
   "cell_type": "code",
   "execution_count": 2,
   "metadata": {
    "ExecuteTime": {
     "end_time": "2020-08-07T15:57:09.521794Z",
     "start_time": "2020-08-07T15:57:09.486366Z"
    }
   },
   "outputs": [
    {
     "data": {
      "text/plain": [
       "(<Chain object (chainid=1337, height=0)>, 0)"
      ]
     },
     "execution_count": 2,
     "metadata": {},
     "output_type": "execute_result"
    }
   ],
   "source": [
    "chain, web3.eth.blockNumber"
   ]
  },
  {
   "cell_type": "code",
   "execution_count": 3,
   "metadata": {
    "ExecuteTime": {
     "end_time": "2020-08-07T15:57:09.549875Z",
     "start_time": "2020-08-07T15:57:09.538857Z"
    }
   },
   "outputs": [],
   "source": [
    "# ?accounts.load"
   ]
  },
  {
   "cell_type": "code",
   "execution_count": 4,
   "metadata": {
    "ExecuteTime": {
     "end_time": "2020-08-07T15:57:16.969921Z",
     "start_time": "2020-08-07T15:57:09.555975Z"
    }
   },
   "outputs": [
    {
     "name": "stdout",
     "output_type": "stream",
     "text": [
      "Enter the password to unlock this account: ········\n"
     ]
    },
    {
     "data": {
      "text/plain": [
       "<Account '0x2F1875bbcb92361dd5C6407F5ff4Fa8f945bfB48'>"
      ]
     },
     "execution_count": 4,
     "metadata": {},
     "output_type": "execute_result"
    }
   ],
   "source": [
    "acct = accounts.load('samlet')\n",
    "acct"
   ]
  },
  {
   "cell_type": "code",
   "execution_count": 5,
   "metadata": {
    "ExecuteTime": {
     "end_time": "2020-08-07T15:57:16.981749Z",
     "start_time": "2020-08-07T15:57:16.972509Z"
    }
   },
   "outputs": [
    {
     "data": {
      "text/plain": [
       "'0x2F1875bbcb92361dd5C6407F5ff4Fa8f945bfB48'"
      ]
     },
     "execution_count": 5,
     "metadata": {},
     "output_type": "execute_result"
    }
   ],
   "source": [
    "acct.address"
   ]
  },
  {
   "cell_type": "code",
   "execution_count": 6,
   "metadata": {
    "ExecuteTime": {
     "end_time": "2020-08-07T15:57:17.026483Z",
     "start_time": "2020-08-07T15:57:16.989411Z"
    }
   },
   "outputs": [
    {
     "data": {
      "text/plain": [
       "(0, 100000000000000000000)"
      ]
     },
     "execution_count": 6,
     "metadata": {},
     "output_type": "execute_result"
    }
   ],
   "source": [
    "web3.eth.getBalance(acct.address), web3.eth.getBalance(accounts[0].address)"
   ]
  },
  {
   "cell_type": "code",
   "execution_count": 7,
   "metadata": {
    "ExecuteTime": {
     "end_time": "2020-08-07T15:57:17.439970Z",
     "start_time": "2020-08-07T15:57:17.061342Z"
    }
   },
   "outputs": [
    {
     "name": "stdout",
     "output_type": "stream",
     "text": [
      "Transaction sent: \u001b[0;1;34m0x69b260fd7571e44830be035d0130e0f13fd35ea66e01e62bdb39aaa89294db23\u001b[0;m\n",
      "  Gas price: \u001b[0;1;34m0.0\u001b[0;m gwei   Gas limit: \u001b[0;1;34m12000000\u001b[0;m\n",
      "  Token.constructor confirmed - Block: \u001b[0;1;34m1\u001b[0;m   Gas used: \u001b[0;1;34m516435\u001b[0;m (\u001b[0;1;34m4.30%\u001b[0;m)\n",
      "  Token deployed at: \u001b[0;1;34m0x4F5bC230B38F5EC236B2D7C9b70f9D181e580eC9\u001b[0;m\n",
      "\n"
     ]
    },
    {
     "data": {
      "text/plain": [
       "<Token Contract '0x4F5bC230B38F5EC236B2D7C9b70f9D181e580eC9'>"
      ]
     },
     "execution_count": 7,
     "metadata": {},
     "output_type": "execute_result"
    }
   ],
   "source": [
    "Token.deploy(\"My Real Token\", \"RLT\", 18, 1e28, {'from': acct})"
   ]
  },
  {
   "cell_type": "code",
   "execution_count": 8,
   "metadata": {
    "ExecuteTime": {
     "end_time": "2020-08-07T15:57:17.460863Z",
     "start_time": "2020-08-07T15:57:17.452472Z"
    }
   },
   "outputs": [
    {
     "data": {
      "text/plain": [
       "brownie.network.contract.ContractContainer"
      ]
     },
     "execution_count": 8,
     "metadata": {},
     "output_type": "execute_result"
    }
   ],
   "source": [
    "type(Token)"
   ]
  },
  {
   "cell_type": "code",
   "execution_count": 9,
   "metadata": {
    "ExecuteTime": {
     "end_time": "2020-08-07T15:57:17.676442Z",
     "start_time": "2020-08-07T15:57:17.468628Z"
    }
   },
   "outputs": [
    {
     "name": "stdout",
     "output_type": "stream",
     "text": [
      "Transaction sent: \u001b[0;1;34m0x2d4b7b8a09844b024d22404cbfd10919dab344884c5260e0fc48866042be4ff2\u001b[0;m\n",
      "  Gas price: \u001b[0;1;34m0.0\u001b[0;m gwei   Gas limit: \u001b[0;1;34m12000000\u001b[0;m\n",
      "  Transaction confirmed - Block: \u001b[0;1;34m2\u001b[0;m   Gas used: \u001b[0;1;34m21000\u001b[0;m (\u001b[0;1;34m0.18%\u001b[0;m)\n",
      "\n"
     ]
    },
    {
     "data": {
      "text/plain": [
       "(10000000000000000000, 90000000000000000000)"
      ]
     },
     "execution_count": 9,
     "metadata": {},
     "output_type": "execute_result"
    }
   ],
   "source": [
    "dev=accounts[-1]\n",
    "dev.balance()\n",
    "accounts[0].transfer(dev, \"10 ether\")\n",
    "dev.balance(), accounts[0].balance()"
   ]
  },
  {
   "cell_type": "code",
   "execution_count": 11,
   "metadata": {
    "ExecuteTime": {
     "end_time": "2020-08-07T15:58:48.513881Z",
     "start_time": "2020-08-07T15:58:48.389768Z"
    }
   },
   "outputs": [
    {
     "name": "stdout",
     "output_type": "stream",
     "text": [
      "Transaction sent: \u001b[0;1;34m0xb071ea6058954dab88bb38525cc2fb448d657dd91ce99ece0d6c0a9a5659019b\u001b[0;m\n",
      "  Gas price: \u001b[0;1;34m0.0\u001b[0;m gwei   Gas limit: \u001b[0;1;34m12000000\u001b[0;m\n",
      "  Transaction confirmed - Block: \u001b[0;1;34m4\u001b[0;m   Gas used: \u001b[0;1;34m21000\u001b[0;m (\u001b[0;1;34m0.18%\u001b[0;m)\n",
      "\n"
     ]
    },
    {
     "data": {
      "text/plain": [
       "<Transaction '\u001b[0;m0xb071ea6058954dab88bb38525cc2fb448d657dd91ce99ece0d6c0a9a5659019b\u001b[0;m'>"
      ]
     },
     "execution_count": 11,
     "metadata": {},
     "output_type": "execute_result"
    }
   ],
   "source": [
    "net_acc='0x3C8EC3325cecF2493fe0eb419ef61CE013428342'\n",
    "accounts[0].transfer(net_acc, \"10 ether\")"
   ]
  }
 ],
 "metadata": {
  "kernelspec": {
   "display_name": "Python 3",
   "language": "python",
   "name": "python3"
  },
  "language_info": {
   "codemirror_mode": {
    "name": "ipython",
    "version": 3
   },
   "file_extension": ".py",
   "mimetype": "text/x-python",
   "name": "python",
   "nbconvert_exporter": "python",
   "pygments_lexer": "ipython3",
   "version": "3.7.7"
  },
  "varInspector": {
   "cols": {
    "lenName": 16,
    "lenType": 16,
    "lenVar": 40
   },
   "kernels_config": {
    "python": {
     "delete_cmd_postfix": "",
     "delete_cmd_prefix": "del ",
     "library": "var_list.py",
     "varRefreshCmd": "print(var_dic_list())"
    },
    "r": {
     "delete_cmd_postfix": ") ",
     "delete_cmd_prefix": "rm(",
     "library": "var_list.r",
     "varRefreshCmd": "cat(var_dic_list()) "
    }
   },
   "types_to_exclude": [
    "module",
    "function",
    "builtin_function_or_method",
    "instance",
    "_Feature"
   ],
   "window_display": false
  }
 },
 "nbformat": 4,
 "nbformat_minor": 4
}
