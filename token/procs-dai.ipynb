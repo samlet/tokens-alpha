{
 "cells": [
  {
   "cell_type": "code",
   "execution_count": 1,
   "metadata": {
    "ExecuteTime": {
     "end_time": "2020-08-08T04:58:36.817051Z",
     "start_time": "2020-08-08T04:58:32.878957Z"
    }
   },
   "outputs": [
    {
     "data": {
      "text/plain": [
       "{'ERC20DecimalsMock': [],\n",
       " 'MappingExample': [],\n",
       " 'MappingTest': [],\n",
       " 'MyToken': [],\n",
       " 'Set': [],\n",
       " 'Token': [<Token Contract '0x117A1AE80eD7553977D686A75D5Df81Ceb0106F2'>],\n",
       " 'SimpleAuction': [],\n",
       " 'SafeMath': [],\n",
       " 'GameItems': [<GameItems Contract '0xc70395CcA178021cccA63827B5F48a6754381bC4'>],\n",
       " 'ERC20Mock': [],\n",
       " 'GLDToken': [],\n",
       " 'TestAdd': [],\n",
       " 'SimpleStore': [],\n",
       " 'AccessRestriction': [],\n",
       " 'AccessControlMock': [],\n",
       " 'StateMachine': [],\n",
       " 'ERC20CappedMock': [],\n",
       " 'Ballot': [],\n",
       " 'ConvertLib': [],\n",
       " 'Bids': [],\n",
       " 'ERC20BurnableMock': [],\n",
       " 'ERC20PausableMock': [],\n",
       " 'Adoption': [],\n",
       " 'C': [],\n",
       " 'TestSet': [],\n",
       " 'Storage': [],\n",
       " 'Coin': [],\n",
       " 'ERC20SnapshotMock': [],\n",
       " 'WithdrawalContract': []}"
      ]
     },
     "execution_count": 1,
     "metadata": {},
     "output_type": "execute_result"
    }
   ],
   "source": [
    "from brownie import *\n",
    "p = project.load('../token', name=\"token\")\n",
    "p.load_config()\n",
    "from brownie.project.token import *\n",
    "network.connect('rinkeby')\n",
    "\n",
    "dict(p)"
   ]
  },
  {
   "cell_type": "code",
   "execution_count": 3,
   "metadata": {
    "ExecuteTime": {
     "end_time": "2020-08-08T05:00:25.938428Z",
     "start_time": "2020-08-08T05:00:25.934814Z"
    }
   },
   "outputs": [],
   "source": [
    "# Operation timed out\n",
    "# Contract.from_explorer(\"0x4D254562d6752c2C55e11CfD482BD43b15fC8d73\")"
   ]
  },
  {
   "cell_type": "code",
   "execution_count": 5,
   "metadata": {
    "ExecuteTime": {
     "end_time": "2020-08-08T05:03:40.916888Z",
     "start_time": "2020-08-08T05:03:40.630252Z"
    }
   },
   "outputs": [
    {
     "data": {
      "text/plain": [
       "<SimpleStore Contract '0x4D254562d6752c2C55e11CfD482BD43b15fC8d73'>"
      ]
     },
     "execution_count": 5,
     "metadata": {},
     "output_type": "execute_result"
    }
   ],
   "source": [
    "abi=SimpleStore.abi\n",
    "store=Contract.from_abi(\"SimpleStore\", \"0x4D254562d6752c2C55e11CfD482BD43b15fC8d73\", abi)\n",
    "store"
   ]
  },
  {
   "cell_type": "code",
   "execution_count": 7,
   "metadata": {
    "ExecuteTime": {
     "end_time": "2020-08-08T05:04:55.460111Z",
     "start_time": "2020-08-08T05:04:54.704123Z"
    }
   },
   "outputs": [
    {
     "data": {
      "text/plain": [
       "((), '')"
      ]
     },
     "execution_count": 7,
     "metadata": {},
     "output_type": "execute_result"
    }
   ],
   "source": [
    "store.getList(), store.get(1234)"
   ]
  },
  {
   "cell_type": "code",
   "execution_count": 9,
   "metadata": {
    "ExecuteTime": {
     "end_time": "2020-08-08T05:05:48.470786Z",
     "start_time": "2020-08-08T05:05:44.960721Z"
    }
   },
   "outputs": [
    {
     "name": "stdout",
     "output_type": "stream",
     "text": [
      "Enter the password to unlock this account: ········\n"
     ]
    }
   ],
   "source": [
    "acc=accounts.load('flyer')"
   ]
  },
  {
   "cell_type": "code",
   "execution_count": 10,
   "metadata": {
    "ExecuteTime": {
     "end_time": "2020-08-08T05:05:53.563361Z",
     "start_time": "2020-08-08T05:05:53.555740Z"
    }
   },
   "outputs": [
    {
     "data": {
      "text/plain": [
       "<LocalAccount '0xC3d3D738E6cBF325C10Fe6F31de6AE4f49b2f396'>"
      ]
     },
     "execution_count": 10,
     "metadata": {},
     "output_type": "execute_result"
    }
   ],
   "source": [
    "acc"
   ]
  },
  {
   "cell_type": "code",
   "execution_count": 11,
   "metadata": {
    "ExecuteTime": {
     "end_time": "2020-08-08T05:06:18.403079Z",
     "start_time": "2020-08-08T05:06:03.740255Z"
    }
   },
   "outputs": [
    {
     "name": "stdout",
     "output_type": "stream",
     "text": [
      "Transaction sent: \u001b[0;1;34m0xbd0515e9104c66558af62f71ddf956b1fc63b915334fd6b161841d553a64f771\u001b[0;m\n",
      "  Gas price: \u001b[0;1;34m1.0\u001b[0;m gwei   Gas limit: \u001b[0;1;34m86506\u001b[0;m\n",
      "Waiting for confirmation...\n",
      "  SimpleStore.add confirmed - Block: \u001b[0;1;34m6980504\u001b[0;m   Gas used: \u001b[0;1;34m86506\u001b[0;m (\u001b[0;1;34m100.00%\u001b[0;m)\n",
      "\n"
     ]
    },
    {
     "data": {
      "text/plain": [
       "<Transaction '\u001b[0;m0xbd0515e9104c66558af62f71ddf956b1fc63b915334fd6b161841d553a64f771\u001b[0;m'>"
      ]
     },
     "execution_count": 11,
     "metadata": {},
     "output_type": "execute_result"
    }
   ],
   "source": [
    "store.add('hi', 5678, {'from':acc})"
   ]
  },
  {
   "cell_type": "code",
   "execution_count": 13,
   "metadata": {
    "ExecuteTime": {
     "end_time": "2020-08-08T05:07:03.352405Z",
     "start_time": "2020-08-08T05:07:02.674534Z"
    }
   },
   "outputs": [
    {
     "data": {
      "text/plain": [
       "((5678), 'hi')"
      ]
     },
     "execution_count": 13,
     "metadata": {},
     "output_type": "execute_result"
    }
   ],
   "source": [
    "store.getList({'from':acc}), store.get(5678, {'from':acc})"
   ]
  },
  {
   "cell_type": "code",
   "execution_count": 14,
   "metadata": {
    "ExecuteTime": {
     "end_time": "2020-08-08T05:08:59.336592Z",
     "start_time": "2020-08-08T05:08:59.029795Z"
    }
   },
   "outputs": [
    {
     "data": {
      "text/plain": [
       "()"
      ]
     },
     "execution_count": 14,
     "metadata": {},
     "output_type": "execute_result"
    }
   ],
   "source": [
    "store.getList()"
   ]
  }
 ],
 "metadata": {
  "kernelspec": {
   "display_name": "Python 3",
   "language": "python",
   "name": "python3"
  },
  "language_info": {
   "codemirror_mode": {
    "name": "ipython",
    "version": 3
   },
   "file_extension": ".py",
   "mimetype": "text/x-python",
   "name": "python",
   "nbconvert_exporter": "python",
   "pygments_lexer": "ipython3",
   "version": "3.7.7"
  },
  "varInspector": {
   "cols": {
    "lenName": 16,
    "lenType": 16,
    "lenVar": 40
   },
   "kernels_config": {
    "python": {
     "delete_cmd_postfix": "",
     "delete_cmd_prefix": "del ",
     "library": "var_list.py",
     "varRefreshCmd": "print(var_dic_list())"
    },
    "r": {
     "delete_cmd_postfix": ") ",
     "delete_cmd_prefix": "rm(",
     "library": "var_list.r",
     "varRefreshCmd": "cat(var_dic_list()) "
    }
   },
   "types_to_exclude": [
    "module",
    "function",
    "builtin_function_or_method",
    "instance",
    "_Feature"
   ],
   "window_display": false
  }
 },
 "nbformat": 4,
 "nbformat_minor": 4
}
