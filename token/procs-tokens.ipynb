{
 "cells": [
  {
   "cell_type": "code",
   "execution_count": 1,
   "metadata": {
    "ExecuteTime": {
     "end_time": "2020-08-01T00:27:24.540606Z",
     "start_time": "2020-08-01T00:27:19.935822Z"
    }
   },
   "outputs": [
    {
     "name": "stdout",
     "output_type": "stream",
     "text": [
      "Compiling contracts...\n",
      "  Solc version: 0.6.12+commit.27d51765.Darwin.appleclang\n",
      "  Optimizer: Enabled  Runs: 200\n",
      "  EVM Version: Istanbul\n",
      "Generating build data...\n",
      " - WithdrawalContract...\n",
      "\n",
      "Attached to local RPC client listening at '127.0.0.1:8545'...\n"
     ]
    },
    {
     "name": "stderr",
     "output_type": "stream",
     "text": [
      "/Users/xiaofeiwu/miniconda3/envs/bigdata/lib/python3.7/site-packages/brownie/network/main.py:45: BrownieEnvironmentWarning: Development network has a block height of 36\n",
      "  BrownieEnvironmentWarning,\n"
     ]
    },
    {
     "data": {
      "text/plain": [
       "{'MappingExample': [],\n",
       " 'Set': [],\n",
       " 'Token': [],\n",
       " 'SafeMath': [],\n",
       " 'GameItems': [],\n",
       " 'TestAdd': [],\n",
       " 'ConvertLib': [],\n",
       " 'TestSet': [],\n",
       " 'MappingUser': [],\n",
       " 'WithdrawalContract': []}"
      ]
     },
     "execution_count": 1,
     "metadata": {},
     "output_type": "execute_result"
    }
   ],
   "source": [
    "from brownie import *\n",
    "p = project.load('.', name=\"TokenProject\")\n",
    "p.load_config()\n",
    "from brownie.project.TokenProject import *\n",
    "network.connect('development')\n",
    "\n",
    "dict(p)"
   ]
  },
  {
   "cell_type": "code",
   "execution_count": 2,
   "metadata": {
    "ExecuteTime": {
     "end_time": "2020-08-01T00:27:24.741777Z",
     "start_time": "2020-08-01T00:27:24.547768Z"
    }
   },
   "outputs": [
    {
     "name": "stdout",
     "output_type": "stream",
     "text": [
      "Transaction sent: \u001b[0;1;34m0x886e52b5042981376ddc452fe1f3dc618e0edea1959396a04bc74be041af135b\u001b[0;m\n",
      "  Gas price: \u001b[0;1;34m0.0\u001b[0;m gwei   Gas limit: \u001b[0;1;34m12000000\u001b[0;m\n",
      "  TestAdd.constructor confirmed - Block: \u001b[0;1;34m37\u001b[0;m   Gas used: \u001b[0;1;34m92955\u001b[0;m (\u001b[0;1;34m0.77%\u001b[0;m)\n",
      "  TestAdd deployed at: \u001b[0;1;34m0xc830Ad2FDfCC2f368fE5DeC93b1Dc72ecABb3691\u001b[0;m\n",
      "\n",
      "7\n"
     ]
    }
   ],
   "source": [
    "f= TestAdd.deploy({'from': accounts[0]})\n",
    "r=f.testAdd(5,2)\n",
    "print(r)"
   ]
  },
  {
   "cell_type": "code",
   "execution_count": 3,
   "metadata": {
    "ExecuteTime": {
     "end_time": "2020-08-01T00:27:25.133729Z",
     "start_time": "2020-08-01T00:27:24.747780Z"
    }
   },
   "outputs": [
    {
     "name": "stdout",
     "output_type": "stream",
     "text": [
      "Transaction sent: \u001b[0;1;34m0x6317d66b99f4ed26a84c8c6be8c0d7e01b856f73e06397f089d9db2bbd6f7a8e\u001b[0;m\n",
      "  Gas price: \u001b[0;1;34m0.0\u001b[0;m gwei   Gas limit: \u001b[0;1;34m12000000\u001b[0;m\n",
      "  Set.constructor confirmed - Block: \u001b[0;1;34m38\u001b[0;m   Gas used: \u001b[0;1;34m146660\u001b[0;m (\u001b[0;1;34m1.22%\u001b[0;m)\n",
      "  Set deployed at: \u001b[0;1;34m0xbc8eCccb89650c3E796e803CB009BF9b898CB359\u001b[0;m\n",
      "\n",
      "Transaction sent: \u001b[0;1;34m0x561a65116793e94e225934ff9c9e0ef24159af0bfc79b27a814ef1ed1b89b87a\u001b[0;m\n",
      "  Gas price: \u001b[0;1;34m0.0\u001b[0;m gwei   Gas limit: \u001b[0;1;34m12000000\u001b[0;m\n",
      "  TestSet.constructor confirmed - Block: \u001b[0;1;34m39\u001b[0;m   Gas used: \u001b[0;1;34m111289\u001b[0;m (\u001b[0;1;34m0.93%\u001b[0;m)\n",
      "  TestSet deployed at: \u001b[0;1;34m0x741e3E1f81041c62C2A97d0b6E567AcaB09A6232\u001b[0;m\n",
      "\n",
      "Transaction sent: \u001b[0;1;34m0xf32a11845821b87a18d562f1d376114d9b6009fa4b7d44318ee164f43c90104a\u001b[0;m\n",
      "  Gas price: \u001b[0;1;34m0.0\u001b[0;m gwei   Gas limit: \u001b[0;1;34m12000000\u001b[0;m\n",
      "  TestSet.register confirmed - Block: \u001b[0;1;34m40\u001b[0;m   Gas used: \u001b[0;1;34m45107\u001b[0;m (\u001b[0;1;34m0.38%\u001b[0;m)\n",
      "\n"
     ]
    },
    {
     "data": {
      "text/plain": [
       "<Transaction '\u001b[0;m0xf32a11845821b87a18d562f1d376114d9b6009fa4b7d44318ee164f43c90104a\u001b[0;m'>"
      ]
     },
     "execution_count": 3,
     "metadata": {},
     "output_type": "execute_result"
    }
   ],
   "source": [
    "Set.deploy({'from': accounts[0]})\n",
    "f= TestSet.deploy({'from': accounts[0]})\n",
    "f.register(15)\n",
    "# f.knownValues()"
   ]
  },
  {
   "cell_type": "code",
   "execution_count": 4,
   "metadata": {
    "ExecuteTime": {
     "end_time": "2020-08-01T00:27:25.391291Z",
     "start_time": "2020-08-01T00:27:25.139567Z"
    }
   },
   "outputs": [
    {
     "name": "stdout",
     "output_type": "stream",
     "text": [
      "Transaction sent: \u001b[0;1;34m0x0a3afa460ec21136454a0f36daa071bfd18a0ef2ba17296f4690717086e7cd84\u001b[0;m\n",
      "  Gas price: \u001b[0;1;34m0.0\u001b[0;m gwei   Gas limit: \u001b[0;1;34m12000000\u001b[0;m\n",
      "  MappingUser.constructor confirmed - Block: \u001b[0;1;34m41\u001b[0;m   Gas used: \u001b[0;1;34m195457\u001b[0;m (\u001b[0;1;34m1.63%\u001b[0;m)\n",
      "  MappingUser deployed at: \u001b[0;1;34m0xFE0F4Cf81B5c0a6Fd65a610FD9488F33aE9095cB\u001b[0;m\n",
      "\n",
      "Transaction sent: \u001b[0;1;34m0xc3caa8efcce428e8b01d1f73a4a8614c8ea6c5bd70adef74fa5d1ac5166c9f1a\u001b[0;m\n",
      "  Gas price: \u001b[0;1;34m0.0\u001b[0;m gwei   Gas limit: \u001b[0;1;34m12000000\u001b[0;m\n",
      "  MappingUser.f confirmed - Block: \u001b[0;1;34m42\u001b[0;m   Gas used: \u001b[0;1;34m123265\u001b[0;m (\u001b[0;1;34m1.03%\u001b[0;m)\n",
      "\n"
     ]
    },
    {
     "data": {
      "text/plain": [
       "100"
      ]
     },
     "execution_count": 4,
     "metadata": {},
     "output_type": "execute_result"
    }
   ],
   "source": [
    "f=MappingUser.deploy({'from': accounts[0]})\n",
    "t=f.f()\n",
    "t.return_value"
   ]
  },
  {
   "cell_type": "code",
   "execution_count": 5,
   "metadata": {
    "ExecuteTime": {
     "end_time": "2020-08-01T00:27:25.449531Z",
     "start_time": "2020-08-01T00:27:25.396734Z"
    }
   },
   "outputs": [
    {
     "data": {
      "text/plain": [
       "100"
      ]
     },
     "execution_count": 5,
     "metadata": {},
     "output_type": "execute_result"
    }
   ],
   "source": [
    "f.f.call()"
   ]
  },
  {
   "cell_type": "code",
   "execution_count": 6,
   "metadata": {
    "ExecuteTime": {
     "end_time": "2020-08-01T00:27:25.606681Z",
     "start_time": "2020-08-01T00:27:25.455187Z"
    }
   },
   "outputs": [
    {
     "name": "stdout",
     "output_type": "stream",
     "text": [
      "Transaction sent: \u001b[0;1;34m0x051674d7768342215401282c73174448cd718d1819dc955c8022f0ec2c2e3c87\u001b[0;m\n",
      "  Gas price: \u001b[0;1;34m0.0\u001b[0;m gwei   Gas limit: \u001b[0;1;34m12000000\u001b[0;m\n",
      "  Token.constructor confirmed - Block: \u001b[0;1;34m43\u001b[0;m   Gas used: \u001b[0;1;34m516387\u001b[0;m (\u001b[0;1;34m4.30%\u001b[0;m)\n",
      "  Token deployed at: \u001b[0;1;34m0xE92E591c9661fe380Bb0949D22d27432E9f5b7F6\u001b[0;m\n",
      "\n"
     ]
    },
    {
     "data": {
      "text/plain": [
       "<Token Contract '0xE92E591c9661fe380Bb0949D22d27432E9f5b7F6'>"
      ]
     },
     "execution_count": 6,
     "metadata": {},
     "output_type": "execute_result"
    }
   ],
   "source": [
    "t = Token.deploy(\"Test Token\", \"TST\", 18, 1e23, {'from': accounts[1]})\n",
    "t"
   ]
  },
  {
   "cell_type": "code",
   "execution_count": 7,
   "metadata": {
    "ExecuteTime": {
     "end_time": "2020-08-01T00:27:25.621491Z",
     "start_time": "2020-08-01T00:27:25.613378Z"
    }
   },
   "outputs": [
    {
     "name": "stdout",
     "output_type": "stream",
     "text": [
      "transfer(address\u001b[0;1;34m _to\u001b[0;m, uint256\u001b[0;1;34m _value\u001b[0;m)\n",
      "  \u001b[0;1;35m@notice \u001b[0;mTransfer tokens to a specified address\n",
      "  \u001b[0;1;35m@param \u001b[0;1;34m_to\u001b[0;m The address to transfer to\n",
      "  \u001b[0;1;35m@param \u001b[0;1;34m_value\u001b[0;m The amount to be transferred\n",
      "  \u001b[0;1;35m@return \u001b[0;mSuccess boolean\n",
      "\n"
     ]
    }
   ],
   "source": [
    "t.transfer.info()"
   ]
  },
  {
   "cell_type": "code",
   "execution_count": 8,
   "metadata": {
    "ExecuteTime": {
     "end_time": "2020-08-01T00:27:25.707523Z",
     "start_time": "2020-08-01T00:27:25.627107Z"
    }
   },
   "outputs": [
    {
     "data": {
      "text/plain": [
       "True"
      ]
     },
     "execution_count": 8,
     "metadata": {},
     "output_type": "execute_result"
    }
   ],
   "source": [
    "t.transfer.call(accounts[2], 5, {'from': accounts[1]})"
   ]
  },
  {
   "cell_type": "code",
   "execution_count": 9,
   "metadata": {
    "ExecuteTime": {
     "end_time": "2020-08-01T00:27:25.734200Z",
     "start_time": "2020-08-01T00:27:25.720894Z"
    }
   },
   "outputs": [
    {
     "data": {
      "text/plain": [
       "'0xE92E591c9661fe380Bb0949D22d27432E9f5b7F6'"
      ]
     },
     "execution_count": 9,
     "metadata": {},
     "output_type": "execute_result"
    }
   ],
   "source": [
    "t.address"
   ]
  },
  {
   "cell_type": "code",
   "execution_count": 10,
   "metadata": {
    "ExecuteTime": {
     "end_time": "2020-08-01T00:27:25.757153Z",
     "start_time": "2020-08-01T00:27:25.750973Z"
    }
   },
   "outputs": [],
   "source": [
    "# contract = Contract('0xDA1C81E678CbafE8EF2cfa2eC9D8D7724bAA3DD2')\n",
    "# contract.set_alias('dai')"
   ]
  },
  {
   "cell_type": "code",
   "execution_count": 11,
   "metadata": {
    "ExecuteTime": {
     "end_time": "2020-08-01T00:27:25.781264Z",
     "start_time": "2020-08-01T00:27:25.771199Z"
    }
   },
   "outputs": [],
   "source": [
    "# interface.Dai"
   ]
  },
  {
   "cell_type": "code",
   "execution_count": 12,
   "metadata": {
    "ExecuteTime": {
     "end_time": "2020-08-01T00:27:25.815915Z",
     "start_time": "2020-08-01T00:27:25.790624Z"
    }
   },
   "outputs": [
    {
     "data": {
      "text/plain": [
       "43"
      ]
     },
     "execution_count": 12,
     "metadata": {},
     "output_type": "execute_result"
    }
   ],
   "source": [
    "web3.eth.blockNumber"
   ]
  },
  {
   "cell_type": "code",
   "execution_count": 13,
   "metadata": {
    "ExecuteTime": {
     "end_time": "2020-08-01T00:27:25.838928Z",
     "start_time": "2020-08-01T00:27:25.822372Z"
    }
   },
   "outputs": [
    {
     "data": {
      "text/plain": [
       "[<Transaction '\u001b[0;m0x886e52b5042981376ddc452fe1f3dc618e0edea1959396a04bc74be041af135b\u001b[0;m'>, <Transaction '\u001b[0;m0x6317d66b99f4ed26a84c8c6be8c0d7e01b856f73e06397f089d9db2bbd6f7a8e\u001b[0;m'>, <Transaction '\u001b[0;m0x561a65116793e94e225934ff9c9e0ef24159af0bfc79b27a814ef1ed1b89b87a\u001b[0;m'>, <Transaction '\u001b[0;m0xf32a11845821b87a18d562f1d376114d9b6009fa4b7d44318ee164f43c90104a\u001b[0;m'>, <Transaction '\u001b[0;m0x0a3afa460ec21136454a0f36daa071bfd18a0ef2ba17296f4690717086e7cd84\u001b[0;m'>, <Transaction '\u001b[0;m0xc3caa8efcce428e8b01d1f73a4a8614c8ea6c5bd70adef74fa5d1ac5166c9f1a\u001b[0;m'>, <Transaction '\u001b[0;m0x051674d7768342215401282c73174448cd718d1819dc955c8022f0ec2c2e3c87\u001b[0;m'>]"
      ]
     },
     "execution_count": 13,
     "metadata": {},
     "output_type": "execute_result"
    }
   ],
   "source": [
    "history"
   ]
  },
  {
   "cell_type": "code",
   "execution_count": 14,
   "metadata": {
    "ExecuteTime": {
     "end_time": "2020-08-01T00:27:25.876321Z",
     "start_time": "2020-08-01T00:27:25.845324Z"
    }
   },
   "outputs": [
    {
     "data": {
      "text/plain": [
       "100000000000000000000"
      ]
     },
     "execution_count": 14,
     "metadata": {},
     "output_type": "execute_result"
    }
   ],
   "source": [
    "accounts[0].balance()"
   ]
  }
 ],
 "metadata": {
  "kernelspec": {
   "display_name": "Python 3",
   "language": "python",
   "name": "python3"
  },
  "language_info": {
   "codemirror_mode": {
    "name": "ipython",
    "version": 3
   },
   "file_extension": ".py",
   "mimetype": "text/x-python",
   "name": "python",
   "nbconvert_exporter": "python",
   "pygments_lexer": "ipython3",
   "version": "3.7.7"
  },
  "varInspector": {
   "cols": {
    "lenName": 16,
    "lenType": 16,
    "lenVar": 40
   },
   "kernels_config": {
    "python": {
     "delete_cmd_postfix": "",
     "delete_cmd_prefix": "del ",
     "library": "var_list.py",
     "varRefreshCmd": "print(var_dic_list())"
    },
    "r": {
     "delete_cmd_postfix": ") ",
     "delete_cmd_prefix": "rm(",
     "library": "var_list.r",
     "varRefreshCmd": "cat(var_dic_list()) "
    }
   },
   "types_to_exclude": [
    "module",
    "function",
    "builtin_function_or_method",
    "instance",
    "_Feature"
   ],
   "window_display": false
  }
 },
 "nbformat": 4,
 "nbformat_minor": 4
}
