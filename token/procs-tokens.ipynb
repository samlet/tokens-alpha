{
 "cells": [
  {
   "cell_type": "code",
   "execution_count": 1,
   "metadata": {
    "ExecuteTime": {
     "end_time": "2020-08-05T09:31:11.229650Z",
     "start_time": "2020-08-05T09:31:09.521330Z"
    }
   },
   "outputs": [
    {
     "name": "stdout",
     "output_type": "stream",
     "text": [
      "Attached to local RPC client listening at '127.0.0.1:8545'...\n"
     ]
    },
    {
     "name": "stderr",
     "output_type": "stream",
     "text": [
      "/Users/xiaofeiwu/miniconda3/envs/bigdata/lib/python3.7/site-packages/brownie/network/main.py:45: BrownieEnvironmentWarning: Development network has a block height of 9\n",
      "  BrownieEnvironmentWarning,\n"
     ]
    },
    {
     "data": {
      "text/plain": [
       "{'MappingExample': [],\n",
       " 'MappingTest': [],\n",
       " 'Set': [],\n",
       " 'Token': [],\n",
       " 'SafeMath': [],\n",
       " 'GameItems': [],\n",
       " 'TestAdd': [],\n",
       " 'AccessRestriction': [],\n",
       " 'AccessControlMock': [],\n",
       " 'StateMachine': [],\n",
       " 'ConvertLib': [],\n",
       " 'TestSet': [],\n",
       " 'WithdrawalContract': []}"
      ]
     },
     "execution_count": 1,
     "metadata": {},
     "output_type": "execute_result"
    }
   ],
   "source": [
    "from brownie import *\n",
    "p = project.load('.', name=\"TokenProject\")\n",
    "p.load_config()\n",
    "from brownie.project.TokenProject import *\n",
    "network.connect('development')\n",
    "\n",
    "dict(p)"
   ]
  },
  {
   "cell_type": "code",
   "execution_count": 2,
   "metadata": {
    "ExecuteTime": {
     "end_time": "2020-08-05T09:31:11.243608Z",
     "start_time": "2020-08-05T09:31:11.235188Z"
    }
   },
   "outputs": [
    {
     "data": {
      "text/plain": [
       "(brownie.network.contract.ContractContainer,\n",
       " brownie.network.contract.ContractContainer)"
      ]
     },
     "execution_count": 2,
     "metadata": {},
     "output_type": "execute_result"
    }
   ],
   "source": [
    "type(MappingTest), type(p['MappingTest'])"
   ]
  },
  {
   "cell_type": "code",
   "execution_count": 3,
   "metadata": {
    "ExecuteTime": {
     "end_time": "2020-08-05T09:31:11.324661Z",
     "start_time": "2020-08-05T09:31:11.264430Z"
    }
   },
   "outputs": [
    {
     "data": {
      "text/plain": [
       "([{'inputs': [],\n",
       "   'name': 'f',\n",
       "   'outputs': [{'internalType': 'address', 'name': '', 'type': 'address'},\n",
       "    {'internalType': 'uint256', 'name': '', 'type': 'uint256'}],\n",
       "   'stateMutability': 'nonpayable',\n",
       "   'type': 'function'}],\n",
       " 'MappingTest')"
      ]
     },
     "execution_count": 3,
     "metadata": {},
     "output_type": "execute_result"
    }
   ],
   "source": [
    "MappingTest.abi, MappingTest._name"
   ]
  },
  {
   "cell_type": "code",
   "execution_count": 4,
   "metadata": {
    "ExecuteTime": {
     "end_time": "2020-08-05T09:31:11.581350Z",
     "start_time": "2020-08-05T09:31:11.338274Z"
    }
   },
   "outputs": [
    {
     "name": "stdout",
     "output_type": "stream",
     "text": [
      "Transaction sent: \u001b[0;1;34m0x895415c1cd5d1abaf1526827c5d34ecfbaef3f9191d86093e9d71c62c94ffd24\u001b[0;m\n",
      "  Gas price: \u001b[0;1;34m0.0\u001b[0;m gwei   Gas limit: \u001b[0;1;34m12000000\u001b[0;m\n",
      "  MappingTest.constructor confirmed - Block: \u001b[0;1;34m10\u001b[0;m   Gas used: \u001b[0;1;34m202159\u001b[0;m (\u001b[0;1;34m1.68%\u001b[0;m)\n",
      "  MappingTest deployed at: \u001b[0;1;34m0xa3B53dDCd2E3fC28e8E130288F2aBD8d5EE37472\u001b[0;m\n",
      "\n"
     ]
    },
    {
     "data": {
      "text/plain": [
       "('0xa3B53dDCd2E3fC28e8E130288F2aBD8d5EE37472', 100)"
      ]
     },
     "execution_count": 4,
     "metadata": {},
     "output_type": "execute_result"
    }
   ],
   "source": [
    "f= MappingTest.deploy({'from': accounts[0]})\n",
    "f.f.call()"
   ]
  },
  {
   "cell_type": "code",
   "execution_count": 13,
   "metadata": {
    "ExecuteTime": {
     "end_time": "2020-08-05T09:33:49.077624Z",
     "start_time": "2020-08-05T09:33:48.922065Z"
    }
   },
   "outputs": [
    {
     "name": "stdout",
     "output_type": "stream",
     "text": [
      "Transaction sent: \u001b[0;1;34m0x57d3864446ae24bf7ff82d1732f49039b14db90aaa587a8debd623fc3192e1fe\u001b[0;m\n",
      "  Gas price: \u001b[0;1;34m0.0\u001b[0;m gwei   Gas limit: \u001b[0;1;34m12000000\u001b[0;m\n",
      "  MappingExample.constructor confirmed - Block: \u001b[0;1;34m17\u001b[0;m   Gas used: \u001b[0;1;34m102231\u001b[0;m (\u001b[0;1;34m0.85%\u001b[0;m)\n",
      "  MappingExample deployed at: \u001b[0;1;34m0x26f15335BB1C6a4C0B660eDd694a0555A9F1cce3\u001b[0;m\n",
      "\n"
     ]
    },
    {
     "data": {
      "text/plain": [
       "'0x26f15335BB1C6a4C0B660eDd694a0555A9F1cce3'"
      ]
     },
     "execution_count": 13,
     "metadata": {},
     "output_type": "execute_result"
    }
   ],
   "source": [
    "f= MappingExample.deploy({'from': accounts[0]})\n",
    "f.address"
   ]
  },
  {
   "cell_type": "code",
   "execution_count": 15,
   "metadata": {
    "ExecuteTime": {
     "end_time": "2020-08-05T09:34:18.759559Z",
     "start_time": "2020-08-05T09:34:18.669270Z"
    }
   },
   "outputs": [
    {
     "data": {
      "text/plain": [
       "()"
      ]
     },
     "execution_count": 15,
     "metadata": {},
     "output_type": "execute_result"
    }
   ],
   "source": [
    "f.update.call(55)"
   ]
  },
  {
   "cell_type": "code",
   "execution_count": 17,
   "metadata": {
    "ExecuteTime": {
     "end_time": "2020-08-05T09:34:50.273890Z",
     "start_time": "2020-08-05T09:34:50.229284Z"
    }
   },
   "outputs": [
    {
     "data": {
      "text/plain": [
       "0"
      ]
     },
     "execution_count": 17,
     "metadata": {},
     "output_type": "execute_result"
    }
   ],
   "source": [
    "f.balances('0x26f15335BB1C6a4C0B660eDd694a0555A9F1cce3')"
   ]
  },
  {
   "cell_type": "code",
   "execution_count": 18,
   "metadata": {
    "ExecuteTime": {
     "end_time": "2020-08-05T09:35:00.957561Z",
     "start_time": "2020-08-05T09:35:00.950378Z"
    }
   },
   "outputs": [
    {
     "data": {
      "text/plain": [
       "<Account '0x66aB6D9362d4F35596279692F0251Db635165871'>"
      ]
     },
     "execution_count": 18,
     "metadata": {},
     "output_type": "execute_result"
    }
   ],
   "source": [
    "accounts[0]"
   ]
  },
  {
   "cell_type": "code",
   "execution_count": 19,
   "metadata": {
    "ExecuteTime": {
     "end_time": "2020-08-05T09:35:18.609415Z",
     "start_time": "2020-08-05T09:35:18.533128Z"
    }
   },
   "outputs": [
    {
     "data": {
      "text/plain": [
       "55"
      ]
     },
     "execution_count": 19,
     "metadata": {},
     "output_type": "execute_result"
    }
   ],
   "source": [
    "f.balances('0x66aB6D9362d4F35596279692F0251Db635165871')"
   ]
  },
  {
   "cell_type": "code",
   "execution_count": 21,
   "metadata": {
    "ExecuteTime": {
     "end_time": "2020-08-05T09:39:22.585439Z",
     "start_time": "2020-08-05T09:39:22.577907Z"
    }
   },
   "outputs": [
    {
     "data": {
      "text/plain": [
       "'0x26f15335BB1C6a4C0B660eDd694a0555A9F1cce3'"
      ]
     },
     "execution_count": 21,
     "metadata": {},
     "output_type": "execute_result"
    }
   ],
   "source": [
    "f.address"
   ]
  },
  {
   "cell_type": "code",
   "execution_count": 23,
   "metadata": {
    "ExecuteTime": {
     "end_time": "2020-08-05T09:39:57.427727Z",
     "start_time": "2020-08-05T09:39:57.393602Z"
    }
   },
   "outputs": [
    {
     "data": {
      "text/plain": [
       "'0x26f15335BB1C6a4C0B660eDd694a0555A9F1cce3'"
      ]
     },
     "execution_count": 23,
     "metadata": {},
     "output_type": "execute_result"
    }
   ],
   "source": [
    "f2=Contract.from_abi(\"MappingExample\", \"0x26f15335BB1C6a4C0B660eDd694a0555A9F1cce3\", MappingExample.abi)\n",
    "f2.address"
   ]
  },
  {
   "cell_type": "code",
   "execution_count": 25,
   "metadata": {
    "ExecuteTime": {
     "end_time": "2020-08-05T09:40:10.714396Z",
     "start_time": "2020-08-05T09:40:10.652628Z"
    }
   },
   "outputs": [
    {
     "data": {
      "text/plain": [
       "55"
      ]
     },
     "execution_count": 25,
     "metadata": {},
     "output_type": "execute_result"
    }
   ],
   "source": [
    "f2.balances('0x66aB6D9362d4F35596279692F0251Db635165871')"
   ]
  },
  {
   "cell_type": "code",
   "execution_count": 27,
   "metadata": {
    "ExecuteTime": {
     "end_time": "2020-08-05T09:41:12.022379Z",
     "start_time": "2020-08-05T09:41:12.006358Z"
    }
   },
   "outputs": [
    {
     "data": {
      "text/plain": [
       "'0xcCB53c9429d32594F404d01fbe9E65ED1DCda8D9'"
      ]
     },
     "execution_count": 27,
     "metadata": {},
     "output_type": "execute_result"
    }
   ],
   "source": [
    "f3=Contract.from_abi(\"MappingExample\", \"0xcCB53c9429d32594F404d01fbe9E65ED1DCda8D9\", MappingExample.abi)\n",
    "f3.address"
   ]
  },
  {
   "cell_type": "code",
   "execution_count": 31,
   "metadata": {
    "ExecuteTime": {
     "end_time": "2020-08-05T09:42:40.125085Z",
     "start_time": "2020-08-05T09:42:40.087965Z"
    }
   },
   "outputs": [
    {
     "data": {
      "text/plain": [
       "0"
      ]
     },
     "execution_count": 31,
     "metadata": {},
     "output_type": "execute_result"
    }
   ],
   "source": [
    "f3.balances('0x66aB6D9362d4F35596279692F0251Db635165871')"
   ]
  },
  {
   "cell_type": "code",
   "execution_count": 30,
   "metadata": {
    "ExecuteTime": {
     "end_time": "2020-08-05T09:42:36.395280Z",
     "start_time": "2020-08-05T09:42:36.355356Z"
    }
   },
   "outputs": [
    {
     "data": {
      "text/plain": [
       "()"
      ]
     },
     "execution_count": 30,
     "metadata": {},
     "output_type": "execute_result"
    }
   ],
   "source": [
    "f3.update.call(525)"
   ]
  },
  {
   "cell_type": "code",
   "execution_count": 32,
   "metadata": {
    "ExecuteTime": {
     "end_time": "2020-08-05T09:43:00.487003Z",
     "start_time": "2020-08-05T09:43:00.478862Z"
    }
   },
   "outputs": [
    {
     "data": {
      "text/plain": [
       "<Account '0x66aB6D9362d4F35596279692F0251Db635165871'>"
      ]
     },
     "execution_count": 32,
     "metadata": {},
     "output_type": "execute_result"
    }
   ],
   "source": [
    "accounts[0]"
   ]
  },
  {
   "cell_type": "code",
   "execution_count": 5,
   "metadata": {
    "ExecuteTime": {
     "end_time": "2020-08-05T09:31:11.755024Z",
     "start_time": "2020-08-05T09:31:11.587072Z"
    }
   },
   "outputs": [
    {
     "name": "stdout",
     "output_type": "stream",
     "text": [
      "Transaction sent: \u001b[0;1;34m0xfcfb3483b1837b07577afe746288215b279404dd0c79b95afa3e4b3605098af7\u001b[0;m\n",
      "  Gas price: \u001b[0;1;34m0.0\u001b[0;m gwei   Gas limit: \u001b[0;1;34m12000000\u001b[0;m\n",
      "  TestAdd.constructor confirmed - Block: \u001b[0;1;34m11\u001b[0;m   Gas used: \u001b[0;1;34m92955\u001b[0;m (\u001b[0;1;34m0.77%\u001b[0;m)\n",
      "  TestAdd deployed at: \u001b[0;1;34m0xb6286fAFd0451320ad6A8143089b216C2152c025\u001b[0;m\n",
      "\n",
      "7\n"
     ]
    }
   ],
   "source": [
    "f= TestAdd.deploy({'from': accounts[0]})\n",
    "r=f.testAdd(5,2)\n",
    "print(r)"
   ]
  },
  {
   "cell_type": "code",
   "execution_count": 6,
   "metadata": {
    "ExecuteTime": {
     "end_time": "2020-08-05T09:31:11.770471Z",
     "start_time": "2020-08-05T09:31:11.763815Z"
    }
   },
   "outputs": [
    {
     "data": {
      "text/plain": [
       "(brownie.network.contract.ProjectContract,\n",
       " brownie.network.contract.ContractCall)"
      ]
     },
     "execution_count": 6,
     "metadata": {},
     "output_type": "execute_result"
    }
   ],
   "source": [
    "type(f), type(f.testAdd)"
   ]
  },
  {
   "cell_type": "code",
   "execution_count": 7,
   "metadata": {
    "ExecuteTime": {
     "end_time": "2020-08-05T09:31:11.864951Z",
     "start_time": "2020-08-05T09:31:11.777566Z"
    }
   },
   "outputs": [
    {
     "data": {
      "text/plain": [
       "10"
      ]
     },
     "execution_count": 7,
     "metadata": {},
     "output_type": "execute_result"
    }
   ],
   "source": [
    "f.testAdd.call(5,5)"
   ]
  },
  {
   "cell_type": "code",
   "execution_count": 8,
   "metadata": {
    "ExecuteTime": {
     "end_time": "2020-08-05T09:31:11.918175Z",
     "start_time": "2020-08-05T09:31:11.912058Z"
    }
   },
   "outputs": [
    {
     "data": {
      "text/plain": [
       "{'0x7c3ffef2': 'testAdd'}"
      ]
     },
     "execution_count": 8,
     "metadata": {},
     "output_type": "execute_result"
    }
   ],
   "source": [
    "f.selectors"
   ]
  },
  {
   "cell_type": "code",
   "execution_count": 9,
   "metadata": {
    "ExecuteTime": {
     "end_time": "2020-08-05T09:31:12.009752Z",
     "start_time": "2020-08-05T09:31:11.936821Z"
    }
   },
   "outputs": [
    {
     "name": "stdout",
     "output_type": "stream",
     "text": [
      "7\n"
     ]
    }
   ],
   "source": [
    "fn=getattr(f, 'testAdd', None)\n",
    "args=[5,2]\n",
    "r=fn(*args)\n",
    "print(r)"
   ]
  },
  {
   "cell_type": "code",
   "execution_count": 10,
   "metadata": {
    "ExecuteTime": {
     "end_time": "2020-08-05T09:31:12.446952Z",
     "start_time": "2020-08-05T09:31:12.020213Z"
    }
   },
   "outputs": [
    {
     "name": "stdout",
     "output_type": "stream",
     "text": [
      "Transaction sent: \u001b[0;1;34m0x0b2ae4d2da10fac6185b9c0d2fa1fc0a179b898491812ba184bd0edb13058d6d\u001b[0;m\n",
      "  Gas price: \u001b[0;1;34m0.0\u001b[0;m gwei   Gas limit: \u001b[0;1;34m12000000\u001b[0;m\n",
      "  Set.constructor confirmed - Block: \u001b[0;1;34m12\u001b[0;m   Gas used: \u001b[0;1;34m146660\u001b[0;m (\u001b[0;1;34m1.22%\u001b[0;m)\n",
      "  Set deployed at: \u001b[0;1;34m0x7a3d735ee6873f17Dbdcab1d51B604928dc10d92\u001b[0;m\n",
      "\n",
      "Transaction sent: \u001b[0;1;34m0xf4bae373b7efe13fb40d405a82538d1c6b52b9f1bc3433b34724f73e2c8d2bda\u001b[0;m\n",
      "  Gas price: \u001b[0;1;34m0.0\u001b[0;m gwei   Gas limit: \u001b[0;1;34m12000000\u001b[0;m\n",
      "  TestSet.constructor confirmed - Block: \u001b[0;1;34m13\u001b[0;m   Gas used: \u001b[0;1;34m111289\u001b[0;m (\u001b[0;1;34m0.93%\u001b[0;m)\n",
      "  TestSet deployed at: \u001b[0;1;34m0x2c15A315610Bfa5248E4CbCbd693320e9D8E03Cc\u001b[0;m\n",
      "\n",
      "Transaction sent: \u001b[0;1;34m0x5b3768df83df76a6cc86e831cf345baaf461e184ede9ff451acae571361f4066\u001b[0;m\n",
      "  Gas price: \u001b[0;1;34m0.0\u001b[0;m gwei   Gas limit: \u001b[0;1;34m12000000\u001b[0;m\n",
      "  TestSet.register confirmed - Block: \u001b[0;1;34m14\u001b[0;m   Gas used: \u001b[0;1;34m45107\u001b[0;m (\u001b[0;1;34m0.38%\u001b[0;m)\n",
      "\n"
     ]
    },
    {
     "data": {
      "text/plain": [
       "<Transaction '\u001b[0;m0x5b3768df83df76a6cc86e831cf345baaf461e184ede9ff451acae571361f4066\u001b[0;m'>"
      ]
     },
     "execution_count": 10,
     "metadata": {},
     "output_type": "execute_result"
    }
   ],
   "source": [
    "Set.deploy({'from': accounts[0]})\n",
    "f= TestSet.deploy({'from': accounts[0]})\n",
    "f.register(15)\n",
    "# f.knownValues()"
   ]
  },
  {
   "cell_type": "code",
   "execution_count": 12,
   "metadata": {
    "ExecuteTime": {
     "end_time": "2020-08-05T09:31:36.262270Z",
     "start_time": "2020-08-05T09:31:35.868426Z"
    }
   },
   "outputs": [
    {
     "name": "stdout",
     "output_type": "stream",
     "text": [
      "Transaction sent: \u001b[0;1;34m0x22c759a94167cc55be5ac024f6abe66c1037e6c108a3263e3d159a3c87da8969\u001b[0;m\n",
      "  Gas price: \u001b[0;1;34m0.0\u001b[0;m gwei   Gas limit: \u001b[0;1;34m12000000\u001b[0;m\n",
      "  MappingTest.constructor confirmed - Block: \u001b[0;1;34m15\u001b[0;m   Gas used: \u001b[0;1;34m202159\u001b[0;m (\u001b[0;1;34m1.68%\u001b[0;m)\n",
      "  MappingTest deployed at: \u001b[0;1;34m0xe65A7a341978d59d40d30FC23F5014FACB4f575A\u001b[0;m\n",
      "\n",
      "Transaction sent: \u001b[0;1;34m0x4cfe34f8b3d6b81f5ec492206a51953547d7a6f67dd735508cf3494103e33bb2\u001b[0;m\n",
      "  Gas price: \u001b[0;1;34m0.0\u001b[0;m gwei   Gas limit: \u001b[0;1;34m12000000\u001b[0;m\n",
      "  MappingTest.f confirmed - Block: \u001b[0;1;34m16\u001b[0;m   Gas used: \u001b[0;1;34m123330\u001b[0;m (\u001b[0;1;34m1.03%\u001b[0;m)\n",
      "\n"
     ]
    },
    {
     "data": {
      "text/plain": [
       "('0xe65A7a341978d59d40d30FC23F5014FACB4f575A', 100)"
      ]
     },
     "execution_count": 12,
     "metadata": {},
     "output_type": "execute_result"
    }
   ],
   "source": [
    "f=MappingTest.deploy({'from': accounts[0]})\n",
    "t=f.f()\n",
    "t.return_value"
   ]
  },
  {
   "cell_type": "code",
   "execution_count": null,
   "metadata": {
    "ExecuteTime": {
     "end_time": "2020-08-05T09:31:12.745094Z",
     "start_time": "2020-08-05T09:31:09.548Z"
    }
   },
   "outputs": [],
   "source": [
    "f.f.call()"
   ]
  },
  {
   "cell_type": "code",
   "execution_count": null,
   "metadata": {
    "ExecuteTime": {
     "end_time": "2020-08-05T09:31:12.747288Z",
     "start_time": "2020-08-05T09:31:09.551Z"
    }
   },
   "outputs": [],
   "source": [
    "t = Token.deploy(\"Test Token\", \"TST\", 18, 1e23, {'from': accounts[1]})\n",
    "t"
   ]
  },
  {
   "cell_type": "code",
   "execution_count": null,
   "metadata": {
    "ExecuteTime": {
     "end_time": "2020-08-05T09:31:12.757454Z",
     "start_time": "2020-08-05T09:31:09.553Z"
    }
   },
   "outputs": [],
   "source": [
    "t.transfer.info()"
   ]
  },
  {
   "cell_type": "code",
   "execution_count": null,
   "metadata": {
    "ExecuteTime": {
     "end_time": "2020-08-05T09:31:12.760308Z",
     "start_time": "2020-08-05T09:31:09.556Z"
    }
   },
   "outputs": [],
   "source": [
    "t.transfer.call(accounts[2], 5, {'from': accounts[1]})"
   ]
  },
  {
   "cell_type": "code",
   "execution_count": null,
   "metadata": {
    "ExecuteTime": {
     "end_time": "2020-08-05T09:31:12.763812Z",
     "start_time": "2020-08-05T09:31:09.558Z"
    }
   },
   "outputs": [],
   "source": [
    "t.address"
   ]
  },
  {
   "cell_type": "code",
   "execution_count": null,
   "metadata": {
    "ExecuteTime": {
     "end_time": "2020-08-05T09:31:12.769318Z",
     "start_time": "2020-08-05T09:31:09.560Z"
    }
   },
   "outputs": [],
   "source": [
    "# contract = Contract('0xDA1C81E678CbafE8EF2cfa2eC9D8D7724bAA3DD2')\n",
    "# contract.set_alias('dai')"
   ]
  },
  {
   "cell_type": "code",
   "execution_count": null,
   "metadata": {
    "ExecuteTime": {
     "end_time": "2020-08-05T09:31:12.772613Z",
     "start_time": "2020-08-05T09:31:09.562Z"
    }
   },
   "outputs": [],
   "source": [
    "# interface.Dai"
   ]
  },
  {
   "cell_type": "code",
   "execution_count": null,
   "metadata": {
    "ExecuteTime": {
     "end_time": "2020-08-05T09:31:12.776264Z",
     "start_time": "2020-08-05T09:31:09.563Z"
    }
   },
   "outputs": [],
   "source": [
    "web3.eth.blockNumber"
   ]
  },
  {
   "cell_type": "code",
   "execution_count": null,
   "metadata": {
    "ExecuteTime": {
     "end_time": "2020-08-05T09:31:12.826807Z",
     "start_time": "2020-08-05T09:31:09.565Z"
    }
   },
   "outputs": [],
   "source": [
    "history"
   ]
  },
  {
   "cell_type": "code",
   "execution_count": null,
   "metadata": {
    "ExecuteTime": {
     "end_time": "2020-08-05T09:31:12.849286Z",
     "start_time": "2020-08-05T09:31:09.567Z"
    }
   },
   "outputs": [],
   "source": [
    "accounts[0].balance()"
   ]
  }
 ],
 "metadata": {
  "kernelspec": {
   "display_name": "Python 3",
   "language": "python",
   "name": "python3"
  },
  "language_info": {
   "codemirror_mode": {
    "name": "ipython",
    "version": 3
   },
   "file_extension": ".py",
   "mimetype": "text/x-python",
   "name": "python",
   "nbconvert_exporter": "python",
   "pygments_lexer": "ipython3",
   "version": "3.7.7"
  },
  "varInspector": {
   "cols": {
    "lenName": 16,
    "lenType": 16,
    "lenVar": 40
   },
   "kernels_config": {
    "python": {
     "delete_cmd_postfix": "",
     "delete_cmd_prefix": "del ",
     "library": "var_list.py",
     "varRefreshCmd": "print(var_dic_list())"
    },
    "r": {
     "delete_cmd_postfix": ") ",
     "delete_cmd_prefix": "rm(",
     "library": "var_list.r",
     "varRefreshCmd": "cat(var_dic_list()) "
    }
   },
   "types_to_exclude": [
    "module",
    "function",
    "builtin_function_or_method",
    "instance",
    "_Feature"
   ],
   "window_display": false
  }
 },
 "nbformat": 4,
 "nbformat_minor": 4
}
