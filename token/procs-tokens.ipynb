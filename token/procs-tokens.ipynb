{
 "cells": [
  {
   "cell_type": "code",
   "execution_count": 1,
   "metadata": {
    "ExecuteTime": {
     "end_time": "2020-08-05T11:52:23.207078Z",
     "start_time": "2020-08-05T11:52:21.227037Z"
    }
   },
   "outputs": [
    {
     "name": "stdout",
     "output_type": "stream",
     "text": [
      "Attached to local RPC client listening at '127.0.0.1:8545'...\n"
     ]
    },
    {
     "name": "stderr",
     "output_type": "stream",
     "text": [
      "/Users/xiaofeiwu/miniconda3/envs/bigdata/lib/python3.7/site-packages/brownie/network/main.py:45: BrownieEnvironmentWarning: Development network has a block height of 24\n",
      "  BrownieEnvironmentWarning,\n"
     ]
    },
    {
     "data": {
      "text/plain": [
       "{'MappingExample': [],\n",
       " 'MappingTest': [],\n",
       " 'Set': [],\n",
       " 'Token': [],\n",
       " 'SafeMath': [],\n",
       " 'GameItems': [],\n",
       " 'TestAdd': [],\n",
       " 'AccessRestriction': [],\n",
       " 'AccessControlMock': [],\n",
       " 'StateMachine': [],\n",
       " 'ConvertLib': [],\n",
       " 'TestSet': [],\n",
       " 'WithdrawalContract': []}"
      ]
     },
     "execution_count": 1,
     "metadata": {},
     "output_type": "execute_result"
    }
   ],
   "source": [
    "from brownie import *\n",
    "p = project.load('.', name=\"TokenProject\")\n",
    "p.load_config()\n",
    "from brownie.project.TokenProject import *\n",
    "network.connect('development')\n",
    "\n",
    "dict(p)"
   ]
  },
  {
   "cell_type": "code",
   "execution_count": 2,
   "metadata": {
    "ExecuteTime": {
     "end_time": "2020-08-05T11:52:23.220824Z",
     "start_time": "2020-08-05T11:52:23.212935Z"
    }
   },
   "outputs": [
    {
     "data": {
      "text/plain": [
       "(brownie.network.contract.ContractContainer,\n",
       " brownie.network.contract.ContractContainer)"
      ]
     },
     "execution_count": 2,
     "metadata": {},
     "output_type": "execute_result"
    }
   ],
   "source": [
    "type(MappingTest), type(p['MappingTest'])"
   ]
  },
  {
   "cell_type": "code",
   "execution_count": 3,
   "metadata": {
    "ExecuteTime": {
     "end_time": "2020-08-05T11:52:23.234969Z",
     "start_time": "2020-08-05T11:52:23.225347Z"
    }
   },
   "outputs": [
    {
     "data": {
      "text/plain": [
       "([{'inputs': [],\n",
       "   'name': 'f',\n",
       "   'outputs': [{'internalType': 'address', 'name': '', 'type': 'address'},\n",
       "    {'internalType': 'uint256', 'name': '', 'type': 'uint256'}],\n",
       "   'stateMutability': 'nonpayable',\n",
       "   'type': 'function'}],\n",
       " 'MappingTest')"
      ]
     },
     "execution_count": 3,
     "metadata": {},
     "output_type": "execute_result"
    }
   ],
   "source": [
    "MappingTest.abi, MappingTest._name"
   ]
  },
  {
   "cell_type": "code",
   "execution_count": 4,
   "metadata": {
    "ExecuteTime": {
     "end_time": "2020-08-05T11:52:23.471961Z",
     "start_time": "2020-08-05T11:52:23.264473Z"
    }
   },
   "outputs": [
    {
     "name": "stdout",
     "output_type": "stream",
     "text": [
      "Transaction sent: \u001b[0;1;34m0x2f9d9530f0df2d72b172c2b5c6bf019caf8ea947ec8221a275e6057e91bdaa33\u001b[0;m\n",
      "  Gas price: \u001b[0;1;34m0.0\u001b[0;m gwei   Gas limit: \u001b[0;1;34m12000000\u001b[0;m\n",
      "  MappingTest.constructor confirmed - Block: \u001b[0;1;34m25\u001b[0;m   Gas used: \u001b[0;1;34m248582\u001b[0;m (\u001b[0;1;34m2.07%\u001b[0;m)\n",
      "  MappingTest deployed at: \u001b[0;1;34m0xD22363efee93190f82b52FCD62B7Dbcb920eF658\u001b[0;m\n",
      "\n"
     ]
    },
    {
     "data": {
      "text/plain": [
       "('0xD22363efee93190f82b52FCD62B7Dbcb920eF658', 100)"
      ]
     },
     "execution_count": 4,
     "metadata": {},
     "output_type": "execute_result"
    }
   ],
   "source": [
    "f= MappingTest.deploy({'from': accounts[0]})\n",
    "f.f.call()"
   ]
  },
  {
   "cell_type": "code",
   "execution_count": 44,
   "metadata": {
    "ExecuteTime": {
     "end_time": "2020-08-05T11:56:48.975097Z",
     "start_time": "2020-08-05T11:56:48.804349Z"
    }
   },
   "outputs": [
    {
     "name": "stdout",
     "output_type": "stream",
     "text": [
      "Transaction sent: \u001b[0;1;34m0x0cbb10f2a6058e1d883e5a841af6ae91a543080d329d2505eb14d8b0d0484703\u001b[0;m\n",
      "  Gas price: \u001b[0;1;34m0.0\u001b[0;m gwei   Gas limit: \u001b[0;1;34m12000000\u001b[0;m\n",
      "  MappingExample.constructor confirmed - Block: \u001b[0;1;34m3\u001b[0;m   Gas used: \u001b[0;1;34m148447\u001b[0;m (\u001b[0;1;34m1.24%\u001b[0;m)\n",
      "  MappingExample deployed at: \u001b[0;1;34m0xE7eD6747FaC5360f88a2EFC03E00d25789F69291\u001b[0;m\n",
      "\n"
     ]
    },
    {
     "data": {
      "text/plain": [
       "'0xE7eD6747FaC5360f88a2EFC03E00d25789F69291'"
      ]
     },
     "execution_count": 44,
     "metadata": {},
     "output_type": "execute_result"
    }
   ],
   "source": [
    "f= MappingExample.deploy({'from': accounts[0]})\n",
    "f.address"
   ]
  },
  {
   "cell_type": "code",
   "execution_count": 46,
   "metadata": {
    "ExecuteTime": {
     "end_time": "2020-08-05T11:57:41.737024Z",
     "start_time": "2020-08-05T11:57:41.504427Z"
    }
   },
   "outputs": [
    {
     "name": "stdout",
     "output_type": "stream",
     "text": [
      "Transaction sent: \u001b[0;1;34m0x0a2c0176318e54af0214c9ee33333eb91ef8fb307adbe5bb6d095c2849525487\u001b[0;m\n",
      "  Gas price: \u001b[0;1;34m0.0\u001b[0;m gwei   Gas limit: \u001b[0;1;34m12000000\u001b[0;m\n",
      "  MappingExample.setAmount confirmed - Block: \u001b[0;1;34m5\u001b[0;m   Gas used: \u001b[0;1;34m22483\u001b[0;m (\u001b[0;1;34m0.19%\u001b[0;m)\n",
      "\n"
     ]
    }
   ],
   "source": [
    "r=f.setAmount(1,5)\n",
    "r.return_value"
   ]
  },
  {
   "cell_type": "code",
   "execution_count": 49,
   "metadata": {
    "ExecuteTime": {
     "end_time": "2020-08-05T12:01:25.585824Z",
     "start_time": "2020-08-05T12:01:25.577493Z"
    }
   },
   "outputs": [
    {
     "data": {
      "text/plain": [
       "(brownie.network.transaction.TransactionReceipt, True)"
      ]
     },
     "execution_count": 49,
     "metadata": {},
     "output_type": "execute_result"
    }
   ],
   "source": [
    "from brownie.network.transaction import TransactionReceipt\n",
    "type(r), isinstance(r, TransactionReceipt)"
   ]
  },
  {
   "cell_type": "code",
   "execution_count": 47,
   "metadata": {
    "ExecuteTime": {
     "end_time": "2020-08-05T11:57:58.748558Z",
     "start_time": "2020-08-05T11:57:58.690965Z"
    }
   },
   "outputs": [
    {
     "data": {
      "text/plain": [
       "5"
      ]
     },
     "execution_count": 47,
     "metadata": {},
     "output_type": "execute_result"
    }
   ],
   "source": [
    "f.amounts(1)"
   ]
  },
  {
   "cell_type": "code",
   "execution_count": 41,
   "metadata": {
    "ExecuteTime": {
     "end_time": "2020-08-05T11:53:48.870848Z",
     "start_time": "2020-08-05T11:53:48.839458Z"
    }
   },
   "outputs": [
    {
     "data": {
      "text/plain": [
       "()"
      ]
     },
     "execution_count": 41,
     "metadata": {},
     "output_type": "execute_result"
    }
   ],
   "source": [
    "f.setAmount.call(1,5)"
   ]
  },
  {
   "cell_type": "code",
   "execution_count": 42,
   "metadata": {
    "ExecuteTime": {
     "end_time": "2020-08-05T11:53:51.785844Z",
     "start_time": "2020-08-05T11:53:51.751827Z"
    }
   },
   "outputs": [
    {
     "data": {
      "text/plain": [
       "0"
      ]
     },
     "execution_count": 42,
     "metadata": {},
     "output_type": "execute_result"
    }
   ],
   "source": [
    "f.amounts(1)"
   ]
  },
  {
   "cell_type": "code",
   "execution_count": 43,
   "metadata": {
    "ExecuteTime": {
     "end_time": "2020-08-05T11:54:00.316374Z",
     "start_time": "2020-08-05T11:54:00.258808Z"
    }
   },
   "outputs": [
    {
     "data": {
      "text/plain": [
       "()"
      ]
     },
     "execution_count": 43,
     "metadata": {},
     "output_type": "execute_result"
    }
   ],
   "source": [
    "f.update.call(55, {'from': accounts[0]})"
   ]
  },
  {
   "cell_type": "code",
   "execution_count": 8,
   "metadata": {
    "ExecuteTime": {
     "end_time": "2020-08-05T11:52:23.748893Z",
     "start_time": "2020-08-05T11:52:23.740710Z"
    }
   },
   "outputs": [
    {
     "data": {
      "text/plain": [
       "<Account '0x66aB6D9362d4F35596279692F0251Db635165871'>"
      ]
     },
     "execution_count": 8,
     "metadata": {},
     "output_type": "execute_result"
    }
   ],
   "source": [
    "accounts[0]"
   ]
  },
  {
   "cell_type": "code",
   "execution_count": 9,
   "metadata": {
    "ExecuteTime": {
     "end_time": "2020-08-05T11:52:23.802570Z",
     "start_time": "2020-08-05T11:52:23.756689Z"
    }
   },
   "outputs": [
    {
     "data": {
      "text/plain": [
       "0"
      ]
     },
     "execution_count": 9,
     "metadata": {},
     "output_type": "execute_result"
    }
   ],
   "source": [
    "# f.balances(accounts[0].address)\n",
    "f.balances('0x2c15A315610Bfa5248E4CbCbd693320e9D8E03Cc')"
   ]
  },
  {
   "cell_type": "code",
   "execution_count": 10,
   "metadata": {
    "ExecuteTime": {
     "end_time": "2020-08-05T11:52:23.817815Z",
     "start_time": "2020-08-05T11:52:23.808885Z"
    }
   },
   "outputs": [
    {
     "data": {
      "text/plain": [
       "'0x4D1B781ce59B8C184F63B99D39d6719A522f46B5'"
      ]
     },
     "execution_count": 10,
     "metadata": {},
     "output_type": "execute_result"
    }
   ],
   "source": [
    "f.address"
   ]
  },
  {
   "cell_type": "code",
   "execution_count": 11,
   "metadata": {
    "ExecuteTime": {
     "end_time": "2020-08-05T11:52:23.850147Z",
     "start_time": "2020-08-05T11:52:23.825537Z"
    }
   },
   "outputs": [
    {
     "data": {
      "text/plain": [
       "'0x3194cBDC3dbcd3E11a07892e7bA5c3394048Cc87'"
      ]
     },
     "execution_count": 11,
     "metadata": {},
     "output_type": "execute_result"
    }
   ],
   "source": [
    "f2=Contract.from_abi(\"MappingExample\", \"0x3194cBDC3dbcd3E11a07892e7bA5c3394048Cc87\", MappingExample.abi)\n",
    "f2.address"
   ]
  },
  {
   "cell_type": "code",
   "execution_count": 12,
   "metadata": {
    "ExecuteTime": {
     "end_time": "2020-08-05T11:52:23.917801Z",
     "start_time": "2020-08-05T11:52:23.866717Z"
    }
   },
   "outputs": [
    {
     "data": {
      "text/plain": [
       "0"
      ]
     },
     "execution_count": 12,
     "metadata": {},
     "output_type": "execute_result"
    }
   ],
   "source": [
    "f2.balances('0x66aB6D9362d4F35596279692F0251Db635165871')"
   ]
  },
  {
   "cell_type": "code",
   "execution_count": 13,
   "metadata": {
    "ExecuteTime": {
     "end_time": "2020-08-05T11:52:23.975642Z",
     "start_time": "2020-08-05T11:52:23.930680Z"
    }
   },
   "outputs": [
    {
     "data": {
      "text/plain": [
       "()"
      ]
     },
     "execution_count": 13,
     "metadata": {},
     "output_type": "execute_result"
    }
   ],
   "source": [
    "f2.update.call(54, {'from': accounts[0]})"
   ]
  },
  {
   "cell_type": "code",
   "execution_count": 14,
   "metadata": {
    "ExecuteTime": {
     "end_time": "2020-08-05T11:52:24.038394Z",
     "start_time": "2020-08-05T11:52:23.984066Z"
    }
   },
   "outputs": [
    {
     "data": {
      "text/plain": [
       "()"
      ]
     },
     "execution_count": 14,
     "metadata": {},
     "output_type": "execute_result"
    }
   ],
   "source": [
    "args=[53]\n",
    "f2.update.call(*args, {'from': accounts[0]})"
   ]
  },
  {
   "cell_type": "code",
   "execution_count": 15,
   "metadata": {
    "ExecuteTime": {
     "end_time": "2020-08-05T11:52:24.103733Z",
     "start_time": "2020-08-05T11:52:24.047272Z"
    }
   },
   "outputs": [
    {
     "data": {
      "text/plain": [
       "0"
      ]
     },
     "execution_count": 15,
     "metadata": {},
     "output_type": "execute_result"
    }
   ],
   "source": [
    "f2.balances(accounts[0].address, {'from': accounts[0]})"
   ]
  },
  {
   "cell_type": "code",
   "execution_count": 16,
   "metadata": {
    "ExecuteTime": {
     "end_time": "2020-08-05T11:52:24.137384Z",
     "start_time": "2020-08-05T11:52:24.111492Z"
    }
   },
   "outputs": [
    {
     "data": {
      "text/plain": [
       "'0x3194cBDC3dbcd3E11a07892e7bA5c3394048Cc87'"
      ]
     },
     "execution_count": 16,
     "metadata": {},
     "output_type": "execute_result"
    }
   ],
   "source": [
    "f3=Contract.from_abi(\"MappingExample\", \"0x3194cBDC3dbcd3E11a07892e7bA5c3394048Cc87\", MappingExample.abi)\n",
    "f3.address"
   ]
  },
  {
   "cell_type": "code",
   "execution_count": 17,
   "metadata": {
    "ExecuteTime": {
     "end_time": "2020-08-05T11:52:24.188623Z",
     "start_time": "2020-08-05T11:52:24.140538Z"
    }
   },
   "outputs": [
    {
     "data": {
      "text/plain": [
       "0"
      ]
     },
     "execution_count": 17,
     "metadata": {},
     "output_type": "execute_result"
    }
   ],
   "source": [
    "f3.balances('0x66aB6D9362d4F35596279692F0251Db635165871')"
   ]
  },
  {
   "cell_type": "code",
   "execution_count": 18,
   "metadata": {
    "ExecuteTime": {
     "end_time": "2020-08-05T11:52:24.240558Z",
     "start_time": "2020-08-05T11:52:24.194951Z"
    }
   },
   "outputs": [
    {
     "data": {
      "text/plain": [
       "()"
      ]
     },
     "execution_count": 18,
     "metadata": {},
     "output_type": "execute_result"
    }
   ],
   "source": [
    "f3.update.call(525)"
   ]
  },
  {
   "cell_type": "code",
   "execution_count": 19,
   "metadata": {
    "ExecuteTime": {
     "end_time": "2020-08-05T11:52:24.252374Z",
     "start_time": "2020-08-05T11:52:24.245988Z"
    }
   },
   "outputs": [
    {
     "data": {
      "text/plain": [
       "<Account '0x66aB6D9362d4F35596279692F0251Db635165871'>"
      ]
     },
     "execution_count": 19,
     "metadata": {},
     "output_type": "execute_result"
    }
   ],
   "source": [
    "accounts[0]"
   ]
  },
  {
   "cell_type": "code",
   "execution_count": 20,
   "metadata": {
    "ExecuteTime": {
     "end_time": "2020-08-05T11:52:24.452535Z",
     "start_time": "2020-08-05T11:52:24.259726Z"
    }
   },
   "outputs": [
    {
     "name": "stdout",
     "output_type": "stream",
     "text": [
      "Transaction sent: \u001b[0;1;34m0x11f15fda1c84a2e16cac09671b1f91e94ef369b2058cb8756d6429f14a855e67\u001b[0;m\n",
      "  Gas price: \u001b[0;1;34m0.0\u001b[0;m gwei   Gas limit: \u001b[0;1;34m12000000\u001b[0;m\n",
      "  TestAdd.constructor confirmed - Block: \u001b[0;1;34m27\u001b[0;m   Gas used: \u001b[0;1;34m92955\u001b[0;m (\u001b[0;1;34m0.77%\u001b[0;m)\n",
      "  TestAdd deployed at: \u001b[0;1;34m0xf9C8Cf55f2E520B08d869df7bc76aa3d3ddDF913\u001b[0;m\n",
      "\n",
      "7\n"
     ]
    }
   ],
   "source": [
    "f= TestAdd.deploy({'from': accounts[0]})\n",
    "r=f.testAdd(5,2)\n",
    "print(r)"
   ]
  },
  {
   "cell_type": "code",
   "execution_count": 21,
   "metadata": {
    "ExecuteTime": {
     "end_time": "2020-08-05T11:52:24.473506Z",
     "start_time": "2020-08-05T11:52:24.459231Z"
    }
   },
   "outputs": [
    {
     "data": {
      "text/plain": [
       "(brownie.network.contract.ProjectContract,\n",
       " brownie.network.contract.ContractCall)"
      ]
     },
     "execution_count": 21,
     "metadata": {},
     "output_type": "execute_result"
    }
   ],
   "source": [
    "type(f), type(f.testAdd)"
   ]
  },
  {
   "cell_type": "code",
   "execution_count": 22,
   "metadata": {
    "ExecuteTime": {
     "end_time": "2020-08-05T11:52:24.529252Z",
     "start_time": "2020-08-05T11:52:24.479455Z"
    }
   },
   "outputs": [
    {
     "data": {
      "text/plain": [
       "10"
      ]
     },
     "execution_count": 22,
     "metadata": {},
     "output_type": "execute_result"
    }
   ],
   "source": [
    "f.testAdd.call(5,5)"
   ]
  },
  {
   "cell_type": "code",
   "execution_count": 23,
   "metadata": {
    "ExecuteTime": {
     "end_time": "2020-08-05T11:52:24.544578Z",
     "start_time": "2020-08-05T11:52:24.536909Z"
    }
   },
   "outputs": [
    {
     "data": {
      "text/plain": [
       "{'0x7c3ffef2': 'testAdd'}"
      ]
     },
     "execution_count": 23,
     "metadata": {},
     "output_type": "execute_result"
    }
   ],
   "source": [
    "f.selectors"
   ]
  },
  {
   "cell_type": "code",
   "execution_count": 24,
   "metadata": {
    "ExecuteTime": {
     "end_time": "2020-08-05T11:52:24.603438Z",
     "start_time": "2020-08-05T11:52:24.551650Z"
    }
   },
   "outputs": [
    {
     "name": "stdout",
     "output_type": "stream",
     "text": [
      "7\n"
     ]
    }
   ],
   "source": [
    "fn=getattr(f, 'testAdd', None)\n",
    "args=[5,2]\n",
    "r=fn(*args)\n",
    "print(r)"
   ]
  },
  {
   "cell_type": "code",
   "execution_count": 25,
   "metadata": {
    "ExecuteTime": {
     "end_time": "2020-08-05T11:52:25.036207Z",
     "start_time": "2020-08-05T11:52:24.610248Z"
    }
   },
   "outputs": [
    {
     "name": "stdout",
     "output_type": "stream",
     "text": [
      "Transaction sent: \u001b[0;1;34m0xb4311f7749fcc64e1925bb115c476558c2897e64485065f86616c45de507e2a8\u001b[0;m\n",
      "  Gas price: \u001b[0;1;34m0.0\u001b[0;m gwei   Gas limit: \u001b[0;1;34m12000000\u001b[0;m\n",
      "  Set.constructor confirmed - Block: \u001b[0;1;34m28\u001b[0;m   Gas used: \u001b[0;1;34m146660\u001b[0;m (\u001b[0;1;34m1.22%\u001b[0;m)\n",
      "  Set deployed at: \u001b[0;1;34m0x654f70d8442EA18904FA1AD79114f7250F7E9336\u001b[0;m\n",
      "\n",
      "Transaction sent: \u001b[0;1;34m0x852f88606928b2cb162d9293788c4081045871c15ce7d3885c796b9073bd38e6\u001b[0;m\n",
      "  Gas price: \u001b[0;1;34m0.0\u001b[0;m gwei   Gas limit: \u001b[0;1;34m12000000\u001b[0;m\n",
      "  TestSet.constructor confirmed - Block: \u001b[0;1;34m29\u001b[0;m   Gas used: \u001b[0;1;34m111289\u001b[0;m (\u001b[0;1;34m0.93%\u001b[0;m)\n",
      "  TestSet deployed at: \u001b[0;1;34m0xADeD61D42dE86f9058386D1D0d739d20C7eAfC43\u001b[0;m\n",
      "\n",
      "Transaction sent: \u001b[0;1;34m0x15ddd30881db04e0794475883049b5dc0e2c11418eb80c5b23eac5b5dd4b2d31\u001b[0;m\n",
      "  Gas price: \u001b[0;1;34m0.0\u001b[0;m gwei   Gas limit: \u001b[0;1;34m12000000\u001b[0;m\n",
      "  TestSet.register confirmed - Block: \u001b[0;1;34m30\u001b[0;m   Gas used: \u001b[0;1;34m45107\u001b[0;m (\u001b[0;1;34m0.38%\u001b[0;m)\n",
      "\n"
     ]
    },
    {
     "data": {
      "text/plain": [
       "<Transaction '\u001b[0;m0x15ddd30881db04e0794475883049b5dc0e2c11418eb80c5b23eac5b5dd4b2d31\u001b[0;m'>"
      ]
     },
     "execution_count": 25,
     "metadata": {},
     "output_type": "execute_result"
    }
   ],
   "source": [
    "Set.deploy({'from': accounts[0]})\n",
    "f= TestSet.deploy({'from': accounts[0]})\n",
    "f.register(15)\n",
    "# f.knownValues()"
   ]
  },
  {
   "cell_type": "code",
   "execution_count": 26,
   "metadata": {
    "ExecuteTime": {
     "end_time": "2020-08-05T11:52:25.384821Z",
     "start_time": "2020-08-05T11:52:25.049619Z"
    }
   },
   "outputs": [
    {
     "name": "stdout",
     "output_type": "stream",
     "text": [
      "Transaction sent: \u001b[0;1;34m0x6acde07ae85973fef83849697f6785ace0ce8f5047c4698e4b370bb93e5c30bf\u001b[0;m\n",
      "  Gas price: \u001b[0;1;34m0.0\u001b[0;m gwei   Gas limit: \u001b[0;1;34m12000000\u001b[0;m\n",
      "  MappingTest.constructor confirmed - Block: \u001b[0;1;34m31\u001b[0;m   Gas used: \u001b[0;1;34m248582\u001b[0;m (\u001b[0;1;34m2.07%\u001b[0;m)\n",
      "  MappingTest deployed at: \u001b[0;1;34m0xA95916C3D979400C7443961330b3092510a229Ba\u001b[0;m\n",
      "\n",
      "Transaction sent: \u001b[0;1;34m0x565292ce5745b60c0b16c6cc5354206abe3b675086831edc4f16db2db71edee8\u001b[0;m\n",
      "  Gas price: \u001b[0;1;34m0.0\u001b[0;m gwei   Gas limit: \u001b[0;1;34m12000000\u001b[0;m\n",
      "  MappingTest.f confirmed - Block: \u001b[0;1;34m32\u001b[0;m   Gas used: \u001b[0;1;34m166424\u001b[0;m (\u001b[0;1;34m1.39%\u001b[0;m)\n",
      "\n"
     ]
    },
    {
     "data": {
      "text/plain": [
       "('0xA95916C3D979400C7443961330b3092510a229Ba', 100)"
      ]
     },
     "execution_count": 26,
     "metadata": {},
     "output_type": "execute_result"
    }
   ],
   "source": [
    "f=MappingTest.deploy({'from': accounts[0]})\n",
    "t=f.f()\n",
    "t.return_value"
   ]
  },
  {
   "cell_type": "code",
   "execution_count": 27,
   "metadata": {
    "ExecuteTime": {
     "end_time": "2020-08-05T11:52:25.541232Z",
     "start_time": "2020-08-05T11:52:25.389488Z"
    }
   },
   "outputs": [
    {
     "data": {
      "text/plain": [
       "('0xA95916C3D979400C7443961330b3092510a229Ba', 100)"
      ]
     },
     "execution_count": 27,
     "metadata": {},
     "output_type": "execute_result"
    }
   ],
   "source": [
    "f.f.call()"
   ]
  },
  {
   "cell_type": "code",
   "execution_count": 28,
   "metadata": {
    "ExecuteTime": {
     "end_time": "2020-08-05T11:52:25.702475Z",
     "start_time": "2020-08-05T11:52:25.548330Z"
    }
   },
   "outputs": [
    {
     "name": "stdout",
     "output_type": "stream",
     "text": [
      "Transaction sent: \u001b[0;1;34m0x051674d7768342215401282c73174448cd718d1819dc955c8022f0ec2c2e3c87\u001b[0;m\n",
      "  Gas price: \u001b[0;1;34m0.0\u001b[0;m gwei   Gas limit: \u001b[0;1;34m12000000\u001b[0;m\n",
      "  Token.constructor confirmed - Block: \u001b[0;1;34m33\u001b[0;m   Gas used: \u001b[0;1;34m516387\u001b[0;m (\u001b[0;1;34m4.30%\u001b[0;m)\n",
      "  Token deployed at: \u001b[0;1;34m0xE92E591c9661fe380Bb0949D22d27432E9f5b7F6\u001b[0;m\n",
      "\n"
     ]
    },
    {
     "data": {
      "text/plain": [
       "<Token Contract '0xE92E591c9661fe380Bb0949D22d27432E9f5b7F6'>"
      ]
     },
     "execution_count": 28,
     "metadata": {},
     "output_type": "execute_result"
    }
   ],
   "source": [
    "t = Token.deploy(\"Test Token\", \"TST\", 18, 1e23, {'from': accounts[1]})\n",
    "t"
   ]
  },
  {
   "cell_type": "code",
   "execution_count": 29,
   "metadata": {
    "ExecuteTime": {
     "end_time": "2020-08-05T11:52:25.712310Z",
     "start_time": "2020-08-05T11:52:25.706801Z"
    }
   },
   "outputs": [
    {
     "name": "stdout",
     "output_type": "stream",
     "text": [
      "transfer(address\u001b[0;1;34m _to\u001b[0;m, uint256\u001b[0;1;34m _value\u001b[0;m)\n",
      "  \u001b[0;1;35m@notice \u001b[0;mTransfer tokens to a specified address\n",
      "  \u001b[0;1;35m@param \u001b[0;1;34m_to\u001b[0;m The address to transfer to\n",
      "  \u001b[0;1;35m@param \u001b[0;1;34m_value\u001b[0;m The amount to be transferred\n",
      "  \u001b[0;1;35m@return \u001b[0;mSuccess boolean\n",
      "\n"
     ]
    }
   ],
   "source": [
    "t.transfer.info()"
   ]
  },
  {
   "cell_type": "code",
   "execution_count": 30,
   "metadata": {
    "ExecuteTime": {
     "end_time": "2020-08-05T11:52:25.789494Z",
     "start_time": "2020-08-05T11:52:25.718702Z"
    }
   },
   "outputs": [
    {
     "data": {
      "text/plain": [
       "True"
      ]
     },
     "execution_count": 30,
     "metadata": {},
     "output_type": "execute_result"
    }
   ],
   "source": [
    "t.transfer.call(accounts[2], 5, {'from': accounts[1]})"
   ]
  },
  {
   "cell_type": "code",
   "execution_count": 31,
   "metadata": {
    "ExecuteTime": {
     "end_time": "2020-08-05T11:52:25.806418Z",
     "start_time": "2020-08-05T11:52:25.797046Z"
    }
   },
   "outputs": [
    {
     "data": {
      "text/plain": [
       "'0xE92E591c9661fe380Bb0949D22d27432E9f5b7F6'"
      ]
     },
     "execution_count": 31,
     "metadata": {},
     "output_type": "execute_result"
    }
   ],
   "source": [
    "t.address"
   ]
  },
  {
   "cell_type": "code",
   "execution_count": 32,
   "metadata": {
    "ExecuteTime": {
     "end_time": "2020-08-05T11:52:25.819524Z",
     "start_time": "2020-08-05T11:52:25.814482Z"
    }
   },
   "outputs": [],
   "source": [
    "# contract = Contract('0xDA1C81E678CbafE8EF2cfa2eC9D8D7724bAA3DD2')\n",
    "# contract.set_alias('dai')"
   ]
  },
  {
   "cell_type": "code",
   "execution_count": 33,
   "metadata": {
    "ExecuteTime": {
     "end_time": "2020-08-05T11:52:25.835977Z",
     "start_time": "2020-08-05T11:52:25.830811Z"
    }
   },
   "outputs": [],
   "source": [
    "# interface.Dai"
   ]
  },
  {
   "cell_type": "code",
   "execution_count": 34,
   "metadata": {
    "ExecuteTime": {
     "end_time": "2020-08-05T11:52:25.868887Z",
     "start_time": "2020-08-05T11:52:25.842126Z"
    }
   },
   "outputs": [
    {
     "data": {
      "text/plain": [
       "33"
      ]
     },
     "execution_count": 34,
     "metadata": {},
     "output_type": "execute_result"
    }
   ],
   "source": [
    "web3.eth.blockNumber"
   ]
  },
  {
   "cell_type": "code",
   "execution_count": 35,
   "metadata": {
    "ExecuteTime": {
     "end_time": "2020-08-05T11:52:25.885057Z",
     "start_time": "2020-08-05T11:52:25.876591Z"
    }
   },
   "outputs": [
    {
     "data": {
      "text/plain": [
       "[<Transaction '\u001b[0;m0x2f9d9530f0df2d72b172c2b5c6bf019caf8ea947ec8221a275e6057e91bdaa33\u001b[0;m'>, <Transaction '\u001b[0;m0xb075ac4cb190ec3dd79a33d842e7b6db2b286f52181468e8915109f2989a2d22\u001b[0;m'>, <Transaction '\u001b[0;m0x11f15fda1c84a2e16cac09671b1f91e94ef369b2058cb8756d6429f14a855e67\u001b[0;m'>, <Transaction '\u001b[0;m0xb4311f7749fcc64e1925bb115c476558c2897e64485065f86616c45de507e2a8\u001b[0;m'>, <Transaction '\u001b[0;m0x852f88606928b2cb162d9293788c4081045871c15ce7d3885c796b9073bd38e6\u001b[0;m'>, <Transaction '\u001b[0;m0x15ddd30881db04e0794475883049b5dc0e2c11418eb80c5b23eac5b5dd4b2d31\u001b[0;m'>, <Transaction '\u001b[0;m0x6acde07ae85973fef83849697f6785ace0ce8f5047c4698e4b370bb93e5c30bf\u001b[0;m'>, <Transaction '\u001b[0;m0x565292ce5745b60c0b16c6cc5354206abe3b675086831edc4f16db2db71edee8\u001b[0;m'>, <Transaction '\u001b[0;m0x051674d7768342215401282c73174448cd718d1819dc955c8022f0ec2c2e3c87\u001b[0;m'>]"
      ]
     },
     "execution_count": 35,
     "metadata": {},
     "output_type": "execute_result"
    }
   ],
   "source": [
    "history"
   ]
  },
  {
   "cell_type": "code",
   "execution_count": 36,
   "metadata": {
    "ExecuteTime": {
     "end_time": "2020-08-05T11:52:25.949251Z",
     "start_time": "2020-08-05T11:52:25.928793Z"
    }
   },
   "outputs": [
    {
     "data": {
      "text/plain": [
       "100000000000000000000"
      ]
     },
     "execution_count": 36,
     "metadata": {},
     "output_type": "execute_result"
    }
   ],
   "source": [
    "accounts[0].balance()"
   ]
  }
 ],
 "metadata": {
  "kernelspec": {
   "display_name": "Python 3",
   "language": "python",
   "name": "python3"
  },
  "language_info": {
   "codemirror_mode": {
    "name": "ipython",
    "version": 3
   },
   "file_extension": ".py",
   "mimetype": "text/x-python",
   "name": "python",
   "nbconvert_exporter": "python",
   "pygments_lexer": "ipython3",
   "version": "3.7.7"
  },
  "varInspector": {
   "cols": {
    "lenName": 16,
    "lenType": 16,
    "lenVar": 40
   },
   "kernels_config": {
    "python": {
     "delete_cmd_postfix": "",
     "delete_cmd_prefix": "del ",
     "library": "var_list.py",
     "varRefreshCmd": "print(var_dic_list())"
    },
    "r": {
     "delete_cmd_postfix": ") ",
     "delete_cmd_prefix": "rm(",
     "library": "var_list.r",
     "varRefreshCmd": "cat(var_dic_list()) "
    }
   },
   "types_to_exclude": [
    "module",
    "function",
    "builtin_function_or_method",
    "instance",
    "_Feature"
   ],
   "window_display": false
  }
 },
 "nbformat": 4,
 "nbformat_minor": 4
}
