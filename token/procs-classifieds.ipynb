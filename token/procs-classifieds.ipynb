{
 "cells": [
  {
   "cell_type": "code",
   "execution_count": 1,
   "metadata": {
    "ExecuteTime": {
     "end_time": "2020-08-14T18:48:16.630006Z",
     "start_time": "2020-08-14T18:48:14.481648Z"
    }
   },
   "outputs": [
    {
     "name": "stdout",
     "output_type": "stream",
     "text": [
      "Attached to local RPC client listening at '127.0.0.1:8545'...\n"
     ]
    }
   ],
   "source": [
    "from brownie import *\n",
    "p = project.load('.', name=\"TokenProject\")\n",
    "p.load_config()\n",
    "from brownie.project.TokenProject import *\n",
    "network.connect('development')"
   ]
  },
  {
   "cell_type": "code",
   "execution_count": 2,
   "metadata": {
    "ExecuteTime": {
     "end_time": "2020-08-14T18:49:05.993181Z",
     "start_time": "2020-08-14T18:49:05.620757Z"
    }
   },
   "outputs": [
    {
     "name": "stdout",
     "output_type": "stream",
     "text": [
      "Transaction sent: \u001b[0;1;34m0xefa00aae0f8479f12d639ef1277b87c75f4c40776755ef6194a671521f5e9be9\u001b[0;m\n",
      "  Gas price: \u001b[0;1;34m0.0\u001b[0;m gwei   Gas limit: \u001b[0;1;34m12000000\u001b[0;m\n",
      "  ERC20Mintable.constructor confirmed - Block: \u001b[0;1;34m1\u001b[0;m   Gas used: \u001b[0;1;34m1363932\u001b[0;m (\u001b[0;1;34m11.37%\u001b[0;m)\n",
      "  ERC20Mintable deployed at: \u001b[0;1;34m0x3194cBDC3dbcd3E11a07892e7bA5c3394048Cc87\u001b[0;m\n",
      "\n"
     ]
    }
   ],
   "source": [
    "erc20token=ERC20Mintable.deploy('Name', 'Symbol', 18, {'from':accounts[0]})"
   ]
  },
  {
   "cell_type": "code",
   "execution_count": 3,
   "metadata": {
    "ExecuteTime": {
     "end_time": "2020-08-14T18:50:09.398979Z",
     "start_time": "2020-08-14T18:50:08.981792Z"
    }
   },
   "outputs": [
    {
     "name": "stdout",
     "output_type": "stream",
     "text": [
      "Transaction sent: \u001b[0;1;34m0x0935a06c441bbd68eb25092747513f4687951f574d1e4d894ab52ab0f301e0f4\u001b[0;m\n",
      "  Gas price: \u001b[0;1;34m0.0\u001b[0;m gwei   Gas limit: \u001b[0;1;34m12000000\u001b[0;m\n",
      "  ERC721Mintable.constructor confirmed - Block: \u001b[0;1;34m2\u001b[0;m   Gas used: \u001b[0;1;34m2210972\u001b[0;m (\u001b[0;1;34m18.42%\u001b[0;m)\n",
      "  ERC721Mintable deployed at: \u001b[0;1;34m0x602C71e4DAC47a042Ee7f46E0aee17F94A3bA0B6\u001b[0;m\n",
      "\n",
      "Transaction sent: \u001b[0;1;34m0x4f50e187b1f16d6fb56f4f2756b1c9c2281f590c05caac3718578243c3de7787\u001b[0;m\n",
      "  Gas price: \u001b[0;1;34m0.0\u001b[0;m gwei   Gas limit: \u001b[0;1;34m12000000\u001b[0;m\n",
      "  Classifieds.constructor confirmed - Block: \u001b[0;1;34m3\u001b[0;m   Gas used: \u001b[0;1;34m496298\u001b[0;m (\u001b[0;1;34m4.14%\u001b[0;m)\n",
      "  Classifieds deployed at: \u001b[0;1;34m0xE7eD6747FaC5360f88a2EFC03E00d25789F69291\u001b[0;m\n",
      "\n"
     ]
    }
   ],
   "source": [
    "erc721token=ERC721Mintable.deploy('Name', 'Symbol', {'from':accounts[0]})\n",
    "classifieds=Classifieds.deploy(erc20token.address, erc721token.address, {'from':accounts[0]})"
   ]
  },
  {
   "cell_type": "code",
   "execution_count": 4,
   "metadata": {
    "ExecuteTime": {
     "end_time": "2020-08-14T18:50:50.288387Z",
     "start_time": "2020-08-14T18:50:50.283831Z"
    }
   },
   "outputs": [],
   "source": [
    "ERC721id = 42;\n",
    "POSTER = 0;\n",
    "ITEM = 1;\n",
    "PRICE = 2;\n",
    "STATUS = 3;"
   ]
  },
  {
   "cell_type": "code",
   "execution_count": 6,
   "metadata": {
    "ExecuteTime": {
     "end_time": "2020-08-14T18:51:32.285855Z",
     "start_time": "2020-08-14T18:51:32.090871Z"
    }
   },
   "outputs": [
    {
     "name": "stdout",
     "output_type": "stream",
     "text": [
      "Transaction sent: \u001b[0;1;34m0xd5bf8ccb971abb414655464012dde6f1b782c5bec69c0d9b84e8b8342b0a3a43\u001b[0;m\n",
      "  Gas price: \u001b[0;1;34m0.0\u001b[0;m gwei   Gas limit: \u001b[0;1;34m12000000\u001b[0;m\n",
      "  ERC721Mintable.mint confirmed - Block: \u001b[0;1;34m4\u001b[0;m   Gas used: \u001b[0;1;34m171903\u001b[0;m (\u001b[0;1;34m1.43%\u001b[0;m)\n",
      "\n"
     ]
    },
    {
     "data": {
      "text/plain": [
       "<Transaction '\u001b[0;m0xd5bf8ccb971abb414655464012dde6f1b782c5bec69c0d9b84e8b8342b0a3a43\u001b[0;m'>"
      ]
     },
     "execution_count": 6,
     "metadata": {},
     "output_type": "execute_result"
    }
   ],
   "source": [
    "poster = accounts[1]\n",
    "filler = accounts[2]\n",
    "erc721token.mint(poster, ERC721id)"
   ]
  },
  {
   "cell_type": "code",
   "execution_count": 7,
   "metadata": {
    "ExecuteTime": {
     "end_time": "2020-08-14T18:51:55.513997Z",
     "start_time": "2020-08-14T18:51:55.362761Z"
    }
   },
   "outputs": [
    {
     "name": "stdout",
     "output_type": "stream",
     "text": [
      "Transaction sent: \u001b[0;1;34m0x6ac231271119c7e66378930d576eae450ef45d268984d3ae496f04d536f1e3f3\u001b[0;m\n",
      "  Gas price: \u001b[0;1;34m0.0\u001b[0;m gwei   Gas limit: \u001b[0;1;34m12000000\u001b[0;m\n",
      "  ERC721Mintable.approve confirmed - Block: \u001b[0;1;34m5\u001b[0;m   Gas used: \u001b[0;1;34m50602\u001b[0;m (\u001b[0;1;34m0.42%\u001b[0;m)\n",
      "\n"
     ]
    },
    {
     "data": {
      "text/plain": [
       "<Transaction '\u001b[0;m0x6ac231271119c7e66378930d576eae450ef45d268984d3ae496f04d536f1e3f3\u001b[0;m'>"
      ]
     },
     "execution_count": 7,
     "metadata": {},
     "output_type": "execute_result"
    }
   ],
   "source": [
    "erc721token.approve(classifieds.address, ERC721id, { 'from': poster })"
   ]
  },
  {
   "cell_type": "code",
   "execution_count": 8,
   "metadata": {
    "ExecuteTime": {
     "end_time": "2020-08-14T18:56:05.150280Z",
     "start_time": "2020-08-14T18:56:04.920819Z"
    }
   },
   "outputs": [
    {
     "name": "stdout",
     "output_type": "stream",
     "text": [
      "Transaction sent: \u001b[0;1;34m0x22350ca960a476e9070db02ba9d2e1bfabd6b45673e5fac9a11e8057f8d7267a\u001b[0;m\n",
      "  Gas price: \u001b[0;1;34m0.0\u001b[0;m gwei   Gas limit: \u001b[0;1;34m12000000\u001b[0;m\n",
      "  Classifieds.openTrade confirmed - Block: \u001b[0;1;34m6\u001b[0;m   Gas used: \u001b[0;1;34m181412\u001b[0;m (\u001b[0;1;34m1.51%\u001b[0;m)\n",
      "\n"
     ]
    }
   ],
   "source": [
    "from eth_utils import to_wei\n",
    "def ether(number:str):\n",
    "    return to_wei(number, \"ether\")\n",
    "tx=classifieds.openTrade(ERC721id, ether('1'), { 'from': poster })"
   ]
  },
  {
   "cell_type": "code",
   "execution_count": 18,
   "metadata": {
    "ExecuteTime": {
     "end_time": "2020-08-14T19:01:29.334113Z",
     "start_time": "2020-08-14T19:01:29.327206Z"
    }
   },
   "outputs": [
    {
     "name": "stdout",
     "output_type": "stream",
     "text": [
      "['Approval', 'Transfer', 'TradeStatusChange']\n",
      "{'Approval': [OrderedDict([('owner', '0x33A4622B82D4c04a53e170c638B944ce27cffce3'), ('approved', '0x0000000000000000000000000000000000000000'), ('tokenId', 42)])], 'Transfer': [OrderedDict([('from', '0x33A4622B82D4c04a53e170c638B944ce27cffce3'), ('to', '0xE7eD6747FaC5360f88a2EFC03E00d25789F69291'), ('tokenId', 42)])], 'TradeStatusChange': [OrderedDict([('ad', 0), ('status', 0x4f70656e00000000000000000000000000000000000000000000000000000000)])]}\n",
      "-------------------------\n",
      "['ad:0', 'status:0x4f70656e00000000000000000000000000000000000000000000000000000000']\n"
     ]
    }
   ],
   "source": [
    "# emits an event when opening trades\n",
    "from pprint import pprint\n",
    "print(tx.events.keys())\n",
    "pprint(tx.events)\n",
    "print('-'*25)\n",
    "print([f\"{k}:{v}\" for k,v in tx.events['TradeStatusChange'].items()])"
   ]
  },
  {
   "cell_type": "code",
   "execution_count": null,
   "metadata": {},
   "outputs": [],
   "source": []
  }
 ],
 "metadata": {
  "kernelspec": {
   "display_name": "Python 3",
   "language": "python",
   "name": "python3"
  },
  "language_info": {
   "codemirror_mode": {
    "name": "ipython",
    "version": 3
   },
   "file_extension": ".py",
   "mimetype": "text/x-python",
   "name": "python",
   "nbconvert_exporter": "python",
   "pygments_lexer": "ipython3",
   "version": "3.7.7"
  },
  "varInspector": {
   "cols": {
    "lenName": 16,
    "lenType": 16,
    "lenVar": 40
   },
   "kernels_config": {
    "python": {
     "delete_cmd_postfix": "",
     "delete_cmd_prefix": "del ",
     "library": "var_list.py",
     "varRefreshCmd": "print(var_dic_list())"
    },
    "r": {
     "delete_cmd_postfix": ") ",
     "delete_cmd_prefix": "rm(",
     "library": "var_list.r",
     "varRefreshCmd": "cat(var_dic_list()) "
    }
   },
   "types_to_exclude": [
    "module",
    "function",
    "builtin_function_or_method",
    "instance",
    "_Feature"
   ],
   "window_display": false
  }
 },
 "nbformat": 4,
 "nbformat_minor": 4
}
