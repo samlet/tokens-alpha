{
 "cells": [
  {
   "cell_type": "code",
   "execution_count": 1,
   "metadata": {
    "ExecuteTime": {
     "end_time": "2020-08-07T14:01:57.155052Z",
     "start_time": "2020-08-07T14:01:54.896203Z"
    }
   },
   "outputs": [
    {
     "name": "stdout",
     "output_type": "stream",
     "text": [
      "Attached to local RPC client listening at '127.0.0.1:8545'...\n"
     ]
    },
    {
     "name": "stderr",
     "output_type": "stream",
     "text": [
      "/Users/xiaofeiwu/miniconda3/envs/bigdata/lib/python3.7/site-packages/brownie/network/main.py:45: BrownieEnvironmentWarning: Development network has a block height of 11\n",
      "  BrownieEnvironmentWarning,\n"
     ]
    },
    {
     "data": {
      "text/plain": [
       "{'MappingExample': [],\n",
       " 'MappingTest': [],\n",
       " 'MyToken': [],\n",
       " 'Set': [],\n",
       " 'Token': [],\n",
       " 'SimpleAuction': [],\n",
       " 'SafeMath': [],\n",
       " 'GameItems': [],\n",
       " 'GLDToken': [],\n",
       " 'TestAdd': [],\n",
       " 'AccessRestriction': [],\n",
       " 'AccessControlMock': [],\n",
       " 'StateMachine': [],\n",
       " 'Ballot': [],\n",
       " 'ConvertLib': [],\n",
       " 'Bids': [],\n",
       " 'C': [],\n",
       " 'TestSet': [],\n",
       " 'Coin': [],\n",
       " 'WithdrawalContract': []}"
      ]
     },
     "execution_count": 1,
     "metadata": {},
     "output_type": "execute_result"
    }
   ],
   "source": [
    "from brownie import *\n",
    "p = project.load('../token', name=\"token\")\n",
    "p.load_config()\n",
    "from brownie.project.token import *\n",
    "network.connect('development')\n",
    "\n",
    "dict(p)"
   ]
  },
  {
   "cell_type": "code",
   "execution_count": 3,
   "metadata": {
    "ExecuteTime": {
     "end_time": "2020-08-07T14:02:55.307932Z",
     "start_time": "2020-08-07T14:02:54.910216Z"
    }
   },
   "outputs": [
    {
     "name": "stdout",
     "output_type": "stream",
     "text": [
      "Transaction sent: 0xe6b69fc18a402084867787dfd66016ecfdb3f6e88c47e475edae24e08c6d4b3c\n",
      "  Gas price: 0.0 gwei   Gas limit: 12000000\n",
      "  GameItems.constructor confirmed - Block: 12   Gas used: 1617707 (13.48%)\n",
      "  GameItems deployed at: 0x7a3d735ee6873f17Dbdcab1d51B604928dc10d92\n",
      "\n"
     ]
    }
   ],
   "source": [
    "from bluefn.eth.helper import *\n",
    "gameItems=GameItems.deploy({'from':accounts[0]})\n",
    "deployerAddress=accounts[0]"
   ]
  },
  {
   "cell_type": "code",
   "execution_count": 4,
   "metadata": {
    "ExecuteTime": {
     "end_time": "2020-08-07T14:03:03.481063Z",
     "start_time": "2020-08-07T14:03:03.419138Z"
    }
   },
   "outputs": [
    {
     "data": {
      "text/plain": [
       "1000000000"
      ]
     },
     "execution_count": 4,
     "metadata": {},
     "output_type": "execute_result"
    }
   ],
   "source": [
    "gameItems.balanceOf(deployerAddress,3)"
   ]
  },
  {
   "cell_type": "code",
   "execution_count": 5,
   "metadata": {
    "ExecuteTime": {
     "end_time": "2020-08-07T14:03:31.258734Z",
     "start_time": "2020-08-07T14:03:31.050224Z"
    }
   },
   "outputs": [
    {
     "name": "stdout",
     "output_type": "stream",
     "text": [
      "Transaction sent: 0xb41ae3baebf6419b16c576598e0483403ed294b5b7be30988228403cc5890c2d\n",
      "  Gas price: 0.0 gwei   Gas limit: 12000000\n",
      "  GameItems.safeTransferFrom confirmed - Block: 13   Gas used: 39575 (0.33%)\n",
      "\n"
     ]
    },
    {
     "data": {
      "text/plain": [
       "<Transaction '\u001b[0;m0xb41ae3baebf6419b16c576598e0483403ed294b5b7be30988228403cc5890c2d\u001b[0;m'>"
      ]
     },
     "execution_count": 5,
     "metadata": {},
     "output_type": "execute_result"
    }
   ],
   "source": [
    "playerAddress=accounts[1]\n",
    "gameItems.safeTransferFrom(deployerAddress, playerAddress, 2, 1, \"0x0\")"
   ]
  },
  {
   "cell_type": "code",
   "execution_count": 6,
   "metadata": {
    "ExecuteTime": {
     "end_time": "2020-08-07T14:03:48.650883Z",
     "start_time": "2020-08-07T14:03:48.560135Z"
    }
   },
   "outputs": [
    {
     "data": {
      "text/plain": [
       "(1, 0)"
      ]
     },
     "execution_count": 6,
     "metadata": {},
     "output_type": "execute_result"
    }
   ],
   "source": [
    "gameItems.balanceOf(playerAddress, 2), gameItems.balanceOf(deployerAddress, 2)"
   ]
  },
  {
   "cell_type": "code",
   "execution_count": 7,
   "metadata": {
    "ExecuteTime": {
     "end_time": "2020-08-07T14:04:11.816080Z",
     "start_time": "2020-08-07T14:04:11.521201Z"
    }
   },
   "outputs": [
    {
     "name": "stdout",
     "output_type": "stream",
     "text": [
      "Transaction sent: 0xba624092ac6c9028790e25edc4adebdf12459aa5b4b0197ce9a57fa2f5d42436\n",
      "  Gas price: 0.0 gwei   Gas limit: 12000000\n",
      "  GameItems.safeBatchTransferFrom confirmed - Block: 14   Gas used: 142657 (1.19%)\n",
      "\n"
     ]
    },
    {
     "data": {
      "text/plain": [
       "<Transaction '\u001b[0;m0xba624092ac6c9028790e25edc4adebdf12459aa5b4b0197ce9a57fa2f5d42436\u001b[0;m'>"
      ]
     },
     "execution_count": 7,
     "metadata": {},
     "output_type": "execute_result"
    }
   ],
   "source": [
    "gameItems.safeBatchTransferFrom(deployerAddress, playerAddress, [0,1,3,4], [50,100,1,1], \"0x0\")"
   ]
  },
  {
   "cell_type": "code",
   "execution_count": 8,
   "metadata": {
    "ExecuteTime": {
     "end_time": "2020-08-07T14:04:21.436863Z",
     "start_time": "2020-08-07T14:04:21.351776Z"
    }
   },
   "outputs": [
    {
     "data": {
      "text/plain": [
       "(50, 100, 1, 1, 1)"
      ]
     },
     "execution_count": 8,
     "metadata": {},
     "output_type": "execute_result"
    }
   ],
   "source": [
    "gameItems.balanceOfBatch([playerAddress,playerAddress,playerAddress,playerAddress,playerAddress], [0,1,2,3,4])"
   ]
  },
  {
   "cell_type": "code",
   "execution_count": 9,
   "metadata": {
    "ExecuteTime": {
     "end_time": "2020-08-07T14:04:41.053748Z",
     "start_time": "2020-08-07T14:04:40.972228Z"
    }
   },
   "outputs": [
    {
     "data": {
      "text/plain": [
       "'https://game.example/api/item/{1}.json'"
      ]
     },
     "execution_count": 9,
     "metadata": {},
     "output_type": "execute_result"
    }
   ],
   "source": [
    "gameItems.uri(2)"
   ]
  }
 ],
 "metadata": {
  "kernelspec": {
   "display_name": "Python 3",
   "language": "python",
   "name": "python3"
  },
  "language_info": {
   "codemirror_mode": {
    "name": "ipython",
    "version": 3
   },
   "file_extension": ".py",
   "mimetype": "text/x-python",
   "name": "python",
   "nbconvert_exporter": "python",
   "pygments_lexer": "ipython3",
   "version": "3.7.7"
  },
  "varInspector": {
   "cols": {
    "lenName": 16,
    "lenType": 16,
    "lenVar": 40
   },
   "kernels_config": {
    "python": {
     "delete_cmd_postfix": "",
     "delete_cmd_prefix": "del ",
     "library": "var_list.py",
     "varRefreshCmd": "print(var_dic_list())"
    },
    "r": {
     "delete_cmd_postfix": ") ",
     "delete_cmd_prefix": "rm(",
     "library": "var_list.r",
     "varRefreshCmd": "cat(var_dic_list()) "
    }
   },
   "types_to_exclude": [
    "module",
    "function",
    "builtin_function_or_method",
    "instance",
    "_Feature"
   ],
   "window_display": false
  }
 },
 "nbformat": 4,
 "nbformat_minor": 4
}
